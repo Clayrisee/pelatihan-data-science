{
 "cells": [
  {
   "cell_type": "markdown",
   "id": "30fce050",
   "metadata": {
    "id": "30fce050"
   },
   "source": [
    "<center>\n",
    "    <img src=\"https://drive.google.com/uc?export=view&id=1hDKusF04c0lNZA_qOShvWQrpImayVKz8\"  width=\"1000\" />\n",
    "</center>"
   ]
  },
  {
   "cell_type": "markdown",
   "id": "78957aef",
   "metadata": {
    "id": "78957aef"
   },
   "source": [
    "# Tugas Mandiri\n",
    "---\n",
    "Tugas mandiri ini digunakan pada kegiatan Kursus Data Science yang merupakan pembekalan bagi mahasiswa Universitas Gunadarma untuk Skema Associate Data Scientist"
   ]
  },
  {
   "cell_type": "markdown",
   "id": "e1d3e6a4",
   "metadata": {
    "id": "e1d3e6a4"
   },
   "source": [
    "### Pertemuan 3 - Semester 8"
   ]
  },
  {
   "cell_type": "markdown",
   "id": "d4269619",
   "metadata": {
    "id": "d4269619"
   },
   "source": [
    "### Daftar Isi :\n",
    "1. Transformasi Data\n",
    "2. Rekayasa Fitur\n",
    "3. Imputasi\n",
    "    - Missing Completely At Random\n",
    "    - Missing At Random\n",
    "    - Missing Not At Random\n",
    "4. Tahapan dan Teknik Imputasi\n",
    "5. Teknik Handling Outlier: Trimming vs Winsorizing\n",
    "6. Scalling\n",
    "7. Dokumentasi Data/Fitur\n",
    "8. Pelabelan Data\n",
    "    - Supervised Learning\n",
    "    - Unsupervised Learning\n",
    "    - Semi-supervised Learning\n",
    "9. Pendekatan Pelabelan Data\n",
    "10. Menganalisa Akurasi Pelabelan Data\n",
    "11. Metode QA untuk Mengukur Kualitas Data\n",
    "12. Keamanan Pelabelan Data\n"
   ]
  },
  {
   "cell_type": "markdown",
   "id": "e823c4bf",
   "metadata": {
    "id": "e823c4bf"
   },
   "source": [
    "### 1. Transformasi Data\n",
    "---"
   ]
  },
  {
   "cell_type": "markdown",
   "id": "8828f238",
   "metadata": {
    "id": "8828f238"
   },
   "source": [
    "Representasi Fitur atau Pembelajaran Fitur:  \n",
    "- Teknik-Teknik yang memungkinkan sistem bekerja otomatis menemukan representasi yang diperlukan (untuk deteksi fitur atau klasifikasi dari dataset),\n",
    "- Menggantikan rekayasa fitur manual, dan \n",
    "- Memungkinkan mesin mempelajari fitur dan menggunakannya untuk melakukan tugas tertentu.\n"
   ]
  },
  {
   "cell_type": "markdown",
   "id": "119719d1",
   "metadata": {
    "id": "119719d1"
   },
   "source": [
    "### 2. Rekayasa Fitur\n",
    "---"
   ]
  },
  {
   "cell_type": "markdown",
   "id": "f314f4a3",
   "metadata": {
    "id": "f314f4a3"
   },
   "source": [
    "Rekayasa Fitur: \n",
    "- Proses mengubah data mentah menjadi fitur yang:\n",
    "    - Mewakili masalah mendasar ke model prediktif, \n",
    "    - Menghasilkan akurasi model yang lebih baik pada data yang tidak terlihat.\n",
    "\n"
   ]
  },
  {
   "cell_type": "markdown",
   "id": "e26da54c",
   "metadata": {
    "id": "e26da54c"
   },
   "source": [
    "### 3. Imputasi\n",
    "---"
   ]
  },
  {
   "cell_type": "markdown",
   "id": "27386564",
   "metadata": {
    "id": "27386564"
   },
   "source": [
    "Pengertian: Mengganti nilai/data yang hilang (missing value; NaN; blank) dengan nilai pengganti.\n",
    "\n",
    "Jenis missing value:\n",
    "1. Missing Completely At Random (MCAR).\n",
    "\n",
    "Definisi: Probabilitas sebuah instance yang hilang tidak bergantung pada nilai yang diketahui atau nilai yang hilang itu sendiri.\n",
    "\n",
    "Contoh: Tabel data dicetak tanpa nilai yang hilang dan seseorang secara tidak sengaja menjatuhkan beberapa tinta di atasnya sehingga beberapa sel tidak dapat dibaca lagi. Di sini, kita dapat mengasumsikan bahwa nilai yang hilang mengikuti distribusi yang sama dengan nilai yang diketahui.\n",
    "\n",
    "2. Missing At Random (MAR).\n",
    "\n",
    "Definisi: Probabilitas sebuah instance yang hilang mungkin bergantung pada nilai yang diketahui tetapi tidak pada nilai yang hilang itu sendiri.\n",
    "\n",
    "Contoh: Dalam kasus sensor suhu, fakta bahwa suatu nilai hilang tidak bergantung pada suhu, tetapi mungkin bergantung pada beberapa faktor lain, misalnya pada daya baterai termometer.\n",
    "\n",
    "Contoh survei: Apakah seseorang menjawab pertanyaan atau tidak - mis. tentang usia- dalam survei tidak tergantung pada jawaban itu sendiri, tetapi mungkin tergantung pada jawaban untuk pertanyaan lain, yaitu jenis kelamin perempuan.\n",
    "\n",
    "\n",
    "3. Missing Not At Random (MNAR).\n",
    "\n",
    "Definisi : Probabilitas sebuah instance yang hilang terjadi atau bergantung dengan nilai instance itu sendiri\n",
    "\n",
    "Pada kasus MNAR, mekanisme bagaimana data tersebut hilang dapat diketahui. Hanya saja, nilai-nilainya tidak dapat disimpulkan. MNAR biasanya terjadi ketika objek penelitian memilih untuk menghindari pertanyaan, misalnya ketika mereka ditanya mengenai jumlah aset. Kelompok usia tertentu mungkin akan memilih untuk tidak menjawabnya. Mekanismenya jelas terlihat, namun sulit untuk bisa mengetahui jumlah pastinya."
   ]
  },
  {
   "cell_type": "markdown",
   "id": "f022c938",
   "metadata": {
    "id": "f022c938"
   },
   "source": [
    "### 4. Tahapan dan Teknik Imputasi\n",
    "---"
   ]
  },
  {
   "cell_type": "markdown",
   "id": "de1656b6",
   "metadata": {
    "id": "de1656b6"
   },
   "source": [
    "Imputasi adalah Mengganti nilai/data yang hilang (missing value; NaN; blank) dengan nilai pengganti.\n",
    "\n",
    "Teknik imputasi berdasarkan tipe data, terdiri dari:\n",
    "1. Tipe data Variabel Numerik, dengan cara:\n",
    "   - Imputasi mean atau median.\n",
    "   - Imputasi nilai suka-suka (arbitrary).\n",
    "   - Imputasi nilai/data ujung (end of tail).\n",
    "\n",
    "\n",
    "2. Tipe data Variabel Kategorik, dengan cara:\n",
    "   - Imputasi kategori yang sering muncul.\n",
    "   - Tambah kategori yang hilang."
   ]
  },
  {
   "cell_type": "markdown",
   "id": "a8815082",
   "metadata": {
    "id": "a8815082"
   },
   "source": [
    "#### 1. Imputasi Tipe data Variabel Numerik"
   ]
  },
  {
   "cell_type": "code",
   "execution_count": 1,
   "id": "b4391820",
   "metadata": {
    "id": "b4391820"
   },
   "outputs": [],
   "source": [
    "# 1. Import Library Pandas\n",
    "import pandas as pd"
   ]
  },
  {
   "cell_type": "code",
   "execution_count": 2,
   "id": "b3b81537",
   "metadata": {
    "id": "b3b81537"
   },
   "outputs": [],
   "source": [
    "# 2. Memuat data dengan format csv\n",
    "df =  pd.read_csv(\"delay_maskapai.csv\")"
   ]
  },
  {
   "cell_type": "code",
   "execution_count": 3,
   "id": "d41d4dc5",
   "metadata": {
    "id": "d41d4dc5"
   },
   "outputs": [
    {
     "data": {
      "text/plain": [
       "Flight         0\n",
       "Time           0\n",
       "Length         0\n",
       "Airline        0\n",
       "AirportFrom    0\n",
       "AirportTo      0\n",
       "DayOfWeek      0\n",
       "Class          0\n",
       "dtype: int64"
      ]
     },
     "execution_count": 3,
     "metadata": {},
     "output_type": "execute_result"
    }
   ],
   "source": [
    "# 3. Menghitung nilai data yang kosong\n",
    "df.isna().sum()"
   ]
  },
  {
   "cell_type": "code",
   "execution_count": 4,
   "id": "fd308e6e",
   "metadata": {
    "id": "fd308e6e"
   },
   "outputs": [],
   "source": [
    "# 4. Membuat variabel jumlah data yang akan dihapus secara random sebanyak 234 data\n",
    "jumlah_hapus = 234"
   ]
  },
  {
   "cell_type": "code",
   "execution_count": 5,
   "id": "ce156276",
   "metadata": {
    "id": "ce156276"
   },
   "outputs": [],
   "source": [
    "# 5. Membuat variabel untuk menampung indeks dari data yang akan dihapus\n",
    "indeks_hapus = df.sample(n=jumlah_hapus).index"
   ]
  },
  {
   "cell_type": "code",
   "execution_count": 6,
   "id": "d8a87aa3",
   "metadata": {},
   "outputs": [
    {
     "data": {
      "text/plain": [
       "Index([ 4628,  5225,  5640,  3460, 10626,  5423,  1173,  4477,  4995,  8938,\n",
       "       ...\n",
       "       10552,  7034,  8760,  9563, 10532,   725,  3913,  4302,  2192,  1883],\n",
       "      dtype='int64', length=234)"
      ]
     },
     "execution_count": 6,
     "metadata": {},
     "output_type": "execute_result"
    }
   ],
   "source": [
    "indeks_hapus"
   ]
  },
  {
   "cell_type": "markdown",
   "id": "8c6cd738-264d-4a05-aa6e-7aadcea5481a",
   "metadata": {},
   "source": [
    "Soal nomor 6 di bawah ini, berikut instruksinya : Buatlah baris menjadi nilai None atau hapus baris sesuai dengan indeks yang dideklarasikan di variabel indeks_hapus dan pada kolom \"Time\""
   ]
  },
  {
   "cell_type": "code",
   "execution_count": 7,
   "id": "d218a645",
   "metadata": {
    "id": "d218a645"
   },
   "outputs": [],
   "source": [
    "# 6. Membuat baris menjadi nilai None atau menghapus baris sesuai dengan indeks yang dideklarasikan di variabel indeks_hapus dan pada kolom \"Time\"\n",
    "df.loc[indeks_hapus,\"Time\"] = None"
   ]
  },
  {
   "cell_type": "code",
   "execution_count": 8,
   "id": "4db826be",
   "metadata": {
    "id": "4db826be"
   },
   "outputs": [
    {
     "data": {
      "text/plain": [
       "Flight           0\n",
       "Time           234\n",
       "Length           0\n",
       "Airline          0\n",
       "AirportFrom      0\n",
       "AirportTo        0\n",
       "DayOfWeek        0\n",
       "Class            0\n",
       "dtype: int64"
      ]
     },
     "execution_count": 8,
     "metadata": {},
     "output_type": "execute_result"
    }
   ],
   "source": [
    "# 7. Menghitung nilai data yang kosong\n",
    "df.isna().sum()"
   ]
  },
  {
   "cell_type": "code",
   "execution_count": 10,
   "id": "7af97047",
   "metadata": {
    "id": "7af97047"
   },
   "outputs": [
    {
     "name": "stdout",
     "output_type": "stream",
     "text": [
      "2.169277834430333 %\n"
     ]
    }
   ],
   "source": [
    "# 8. Menghitung persentase data yang kosong pada kolom \"Time\"\n",
    "length_missdata_percentage = ( df.Time.isnull().sum()/ df.shape[0]) * 100\n",
    "print(f\"{length_missdata_percentage} %\")"
   ]
  },
  {
   "cell_type": "code",
   "execution_count": 11,
   "id": "90338996",
   "metadata": {
    "id": "90338996"
   },
   "outputs": [
    {
     "data": {
      "text/plain": [
       "803.8241258409931"
      ]
     },
     "execution_count": 11,
     "metadata": {},
     "output_type": "execute_result"
    }
   ],
   "source": [
    "# 9. Melakukan imputasi pada data yang kosong dengan menggunakan imputasi rata-rata \n",
    "meanImputation = df.Time.mean() # Membuat variabel meanImputation untuk menampung nilai rata-rata dari kolom \"Time\"\n",
    "meanImputation"
   ]
  },
  {
   "cell_type": "code",
   "execution_count": 12,
   "id": "6f3de69e",
   "metadata": {
    "id": "6f3de69e"
   },
   "outputs": [],
   "source": [
    "# 10. Mengisi nilai kosong menggunakan fungsi fillna dengan nilai rata-rata pada kolom Time\n",
    "df[\"Time\"].fillna(meanImputation, \n",
    "                    inplace=True) "
   ]
  },
  {
   "cell_type": "code",
   "execution_count": 15,
   "id": "873d4770",
   "metadata": {},
   "outputs": [
    {
     "data": {
      "text/plain": [
       "0"
      ]
     },
     "execution_count": 15,
     "metadata": {},
     "output_type": "execute_result"
    }
   ],
   "source": [
    "df[\"Time\"].isnull().sum()"
   ]
  },
  {
   "cell_type": "code",
   "execution_count": 16,
   "id": "11cf194e",
   "metadata": {
    "id": "11cf194e"
   },
   "outputs": [],
   "source": [
    "# Imputasi KNN\n",
    "df = pd.read_csv(\"delay_maskapai.csv\")"
   ]
  },
  {
   "cell_type": "code",
   "execution_count": 20,
   "id": "0fa22220",
   "metadata": {
    "id": "0fa22220"
   },
   "outputs": [],
   "source": [
    "# 11. Import Library Numpy & Mengambil 15% data dari jumlah data yang ada\n",
    "import numpy as np\n",
    "sample_size = int(len(df) * 0.15)\n",
    "df_sample = df.sample(n=sample_size, random_state=1)"
   ]
  },
  {
   "cell_type": "code",
   "execution_count": 21,
   "id": "67c1baf8",
   "metadata": {
    "id": "67c1baf8"
   },
   "outputs": [
    {
     "data": {
      "text/html": [
       "<div>\n",
       "<style scoped>\n",
       "    .dataframe tbody tr th:only-of-type {\n",
       "        vertical-align: middle;\n",
       "    }\n",
       "\n",
       "    .dataframe tbody tr th {\n",
       "        vertical-align: top;\n",
       "    }\n",
       "\n",
       "    .dataframe thead th {\n",
       "        text-align: right;\n",
       "    }\n",
       "</style>\n",
       "<table border=\"1\" class=\"dataframe\">\n",
       "  <thead>\n",
       "    <tr style=\"text-align: right;\">\n",
       "      <th></th>\n",
       "      <th>Flight</th>\n",
       "      <th>Time</th>\n",
       "      <th>Length</th>\n",
       "      <th>Airline</th>\n",
       "      <th>AirportFrom</th>\n",
       "      <th>AirportTo</th>\n",
       "      <th>DayOfWeek</th>\n",
       "      <th>Class</th>\n",
       "    </tr>\n",
       "  </thead>\n",
       "  <tbody>\n",
       "    <tr>\n",
       "      <th>4571</th>\n",
       "      <td>1452.0</td>\n",
       "      <td>852.0</td>\n",
       "      <td>88.0</td>\n",
       "      <td>DL</td>\n",
       "      <td>ATL</td>\n",
       "      <td>CVG</td>\n",
       "      <td>5</td>\n",
       "      <td>0</td>\n",
       "    </tr>\n",
       "    <tr>\n",
       "      <th>545</th>\n",
       "      <td>1861.0</td>\n",
       "      <td>980.0</td>\n",
       "      <td>153.0</td>\n",
       "      <td>CO</td>\n",
       "      <td>PHX</td>\n",
       "      <td>IAH</td>\n",
       "      <td>4</td>\n",
       "      <td>1</td>\n",
       "    </tr>\n",
       "    <tr>\n",
       "      <th>2196</th>\n",
       "      <td>2445.0</td>\n",
       "      <td>1210.0</td>\n",
       "      <td>80.0</td>\n",
       "      <td>WN</td>\n",
       "      <td>BUR</td>\n",
       "      <td>PHX</td>\n",
       "      <td>4</td>\n",
       "      <td>0</td>\n",
       "    </tr>\n",
       "    <tr>\n",
       "      <th>625</th>\n",
       "      <td>108.0</td>\n",
       "      <td>930.0</td>\n",
       "      <td>93.0</td>\n",
       "      <td>DL</td>\n",
       "      <td>MCO</td>\n",
       "      <td>ATL</td>\n",
       "      <td>5</td>\n",
       "      <td>0</td>\n",
       "    </tr>\n",
       "    <tr>\n",
       "      <th>4569</th>\n",
       "      <td>1877.0</td>\n",
       "      <td>1360.0</td>\n",
       "      <td>190.0</td>\n",
       "      <td>AA</td>\n",
       "      <td>DFW</td>\n",
       "      <td>LAS</td>\n",
       "      <td>3</td>\n",
       "      <td>0</td>\n",
       "    </tr>\n",
       "  </tbody>\n",
       "</table>\n",
       "</div>"
      ],
      "text/plain": [
       "      Flight    Time  Length Airline AirportFrom AirportTo  DayOfWeek  Class\n",
       "4571  1452.0   852.0    88.0      DL         ATL       CVG          5      0\n",
       "545   1861.0   980.0   153.0      CO         PHX       IAH          4      1\n",
       "2196  2445.0  1210.0    80.0      WN         BUR       PHX          4      0\n",
       "625    108.0   930.0    93.0      DL         MCO       ATL          5      0\n",
       "4569  1877.0  1360.0   190.0      AA         DFW       LAS          3      0"
      ]
     },
     "execution_count": 21,
     "metadata": {},
     "output_type": "execute_result"
    }
   ],
   "source": [
    "df_sample.head()"
   ]
  },
  {
   "cell_type": "code",
   "execution_count": 23,
   "id": "cb11ef52",
   "metadata": {
    "id": "cb11ef52"
   },
   "outputs": [],
   "source": [
    "# 12. Menghapus secara random 243 data dari kolom 'Time'\n",
    "remove_indices = np.random.choice(df_sample.index, size=243, replace=False)\n",
    "df_sample.loc[remove_indices, 'Time'] = np.nan"
   ]
  },
  {
   "cell_type": "code",
   "execution_count": 24,
   "id": "ba4e77af",
   "metadata": {
    "id": "ba4e77af"
   },
   "outputs": [
    {
     "data": {
      "text/plain": [
       "Flight           0\n",
       "Time           243\n",
       "Length           0\n",
       "Airline          0\n",
       "AirportFrom      0\n",
       "AirportTo        0\n",
       "DayOfWeek        0\n",
       "Class            0\n",
       "dtype: int64"
      ]
     },
     "execution_count": 24,
     "metadata": {},
     "output_type": "execute_result"
    }
   ],
   "source": [
    "df_sample.isnull().sum()"
   ]
  },
  {
   "cell_type": "code",
   "execution_count": 26,
   "id": "17a27b78",
   "metadata": {
    "id": "17a27b78"
   },
   "outputs": [],
   "source": [
    "# 13. Melakukan import library untuk melakukan imputasi dengan KNN\n",
    "from sklearn.impute import KNNImputer"
   ]
  },
  {
   "cell_type": "code",
   "execution_count": 27,
   "id": "10db285c",
   "metadata": {
    "id": "10db285c"
   },
   "outputs": [],
   "source": [
    "# 14. Membuat instance KNNImputer\n",
    "imputer = KNNImputer(n_neighbors=2)\n",
    "\n",
    "# 15. Melakukan imputasi dengan KNN pada kolom 'Time' di df_sample\n",
    "imputed_data = imputer.fit_transform(df_sample[[\"Time\"]])\n",
    "\n",
    "# 16. Mengganti nilai kosong di df_sample dengan data yang telah diimputasi\n",
    "df_sample.loc[:, \"Time\"] = imputed_data"
   ]
  },
  {
   "cell_type": "code",
   "execution_count": 28,
   "id": "413beeed",
   "metadata": {
    "id": "413beeed"
   },
   "outputs": [
    {
     "data": {
      "text/plain": [
       "Flight         False\n",
       "Time           False\n",
       "Length         False\n",
       "Airline        False\n",
       "AirportFrom    False\n",
       "AirportTo      False\n",
       "DayOfWeek      False\n",
       "Class          False\n",
       "dtype: bool"
      ]
     },
     "execution_count": 28,
     "metadata": {},
     "output_type": "execute_result"
    }
   ],
   "source": [
    "df_sample.isnull().any()"
   ]
  },
  {
   "cell_type": "code",
   "execution_count": 29,
   "id": "82a8dd97",
   "metadata": {
    "id": "82a8dd97"
   },
   "outputs": [
    {
     "name": "stdout",
     "output_type": "stream",
     "text": [
      "[804.64727273]\n"
     ]
    }
   ],
   "source": [
    "# 17. Melihat hasil dari data kosong yang telah diimputasi\n",
    "unique_values = df_sample.loc[remove_indices, 'Time'].unique()\n",
    "\n",
    "print(unique_values)"
   ]
  },
  {
   "cell_type": "markdown",
   "id": "9d0e19c6",
   "metadata": {
    "id": "9d0e19c6"
   },
   "source": [
    "#### 2. Imputasi Tipe data Variabel Kategorikal"
   ]
  },
  {
   "cell_type": "code",
   "execution_count": 30,
   "id": "7b72299d",
   "metadata": {
    "id": "7b72299d"
   },
   "outputs": [],
   "source": [
    "# Memuat data dengan format csv\n",
    "df = pd.read_csv(\"delay_maskapai.csv\")"
   ]
  },
  {
   "cell_type": "code",
   "execution_count": 32,
   "id": "8df53bb3",
   "metadata": {
    "id": "8df53bb3",
    "scrolled": true
   },
   "outputs": [
    {
     "name": "stdout",
     "output_type": "stream",
     "text": [
      "<class 'pandas.core.frame.DataFrame'>\n",
      "RangeIndex: 10787 entries, 0 to 10786\n",
      "Data columns (total 8 columns):\n",
      " #   Column       Non-Null Count  Dtype  \n",
      "---  ------       --------------  -----  \n",
      " 0   Flight       10787 non-null  float64\n",
      " 1   Time         10787 non-null  float64\n",
      " 2   Length       10787 non-null  float64\n",
      " 3   Airline      10787 non-null  object \n",
      " 4   AirportFrom  10787 non-null  object \n",
      " 5   AirportTo    10787 non-null  object \n",
      " 6   DayOfWeek    10787 non-null  int64  \n",
      " 7   Class        10787 non-null  int64  \n",
      "dtypes: float64(3), int64(2), object(3)\n",
      "memory usage: 674.3+ KB\n"
     ]
    }
   ],
   "source": [
    "# 18. Mengecek tipe data setiap kolom\n",
    "df.info()"
   ]
  },
  {
   "cell_type": "code",
   "execution_count": 33,
   "id": "821c62c4",
   "metadata": {
    "id": "821c62c4"
   },
   "outputs": [],
   "source": [
    "# 19. Mengimport Library Numpy dan Sklearn.impute\n",
    "import numpy as np\n",
    "from sklearn.impute import SimpleImputer"
   ]
  },
  {
   "cell_type": "code",
   "execution_count": 34,
   "id": "0b1be34d",
   "metadata": {
    "id": "0b1be34d"
   },
   "outputs": [],
   "source": [
    "jumlah_hapus = 814\n",
    "indeks_hapus = np.random.choice(df.index, jumlah_hapus, replace=False)"
   ]
  },
  {
   "cell_type": "code",
   "execution_count": 35,
   "id": "109dd7b5",
   "metadata": {
    "id": "109dd7b5"
   },
   "outputs": [],
   "source": [
    "# 20. Membuat copy dari kolom AirportFrom \n",
    "airportfrom_column = df[\"AirportFrom\"].copy()\n",
    "\n",
    "# Menghapus baris data secara random sesuai variabel dari indeks hapus di atas\n",
    "airportfrom_column.loc[indeks_hapus] = np.nan"
   ]
  },
  {
   "cell_type": "code",
   "execution_count": 36,
   "id": "8213b871",
   "metadata": {
    "id": "8213b871"
   },
   "outputs": [],
   "source": [
    "# 21. Membuat algoritma SimpleImputer dengan strategi 'most_frequent'\n",
    "modeImputer = SimpleImputer(strategy='most_frequent')\n",
    "\n",
    "# 22. Melakukan imputasi dengan SimpleImputer\n",
    "imputed_data = modeImputer.fit_transform(airportfrom_column.values.reshape(-1, 1))\n",
    "\n",
    "# 23. Memperbaharui data pada kolom Airline dengan data yang telah diimputasi pada imputed_data\n",
    "df['AirportFrom'] = imputed_data.flatten()"
   ]
  },
  {
   "cell_type": "code",
   "execution_count": 37,
   "id": "afe47d73",
   "metadata": {
    "id": "afe47d73"
   },
   "outputs": [
    {
     "data": {
      "text/plain": [
       "array(['ABE', 'ABI', 'ABQ', 'ABY', 'ACV', 'AEX', 'AGS', 'ALB', 'AMA',\n",
       "       'ANC', 'ASE', 'ATL', 'ATW', 'AUS', 'AVL', 'AVP', 'AZO', 'BDL',\n",
       "       'BET', 'BFL', 'BGM', 'BHM', 'BIL', 'BIS', 'BKG', 'BMI', 'BNA',\n",
       "       'BOI', 'BOS', 'BQK', 'BQN', 'BRO', 'BRW', 'BTM', 'BTR', 'BTV',\n",
       "       'BUF', 'BUR', 'BWI', 'BZN', 'CAE', 'CAK', 'CDC', 'CEC', 'CHA',\n",
       "       'CHO', 'CHS', 'CIC', 'CID', 'CLD', 'CLE', 'CLL', 'CLT', 'CMH',\n",
       "       'CMI', 'CMX', 'COD', 'COS', 'COU', 'CPR', 'CRP', 'CRW', 'CSG',\n",
       "       'CVG', 'CWA', 'DAB', 'DAL', 'DAY', 'DBQ', 'DCA', 'DEN', 'DFW',\n",
       "       'DHN', 'DLH', 'DRO', 'DSM', 'DTW', 'ECP', 'EGE', 'EKO', 'ELM',\n",
       "       'ELP', 'ERI', 'EUG', 'EVV', 'EWN', 'EWR', 'EYW', 'FAI', 'FAR',\n",
       "       'FAT', 'FAY', 'FCA', 'FLG', 'FLL', 'FLO', 'FNT', 'FSD', 'FSM',\n",
       "       'FWA', 'GCC', 'GEG', 'GFK', 'GGG', 'GJT', 'GNV', 'GPT', 'GRB',\n",
       "       'GRK', 'GRR', 'GSO', 'GSP', 'GTF', 'GTR', 'GUC', 'HDN', 'HLN',\n",
       "       'HNL', 'HOU', 'HPN', 'HRL', 'HSV', 'HTS', 'IAD', 'IAH', 'ICT',\n",
       "       'IDA', 'ILM', 'IND', 'IPL', 'ISP', 'ITO', 'IYK', 'JAC', 'JAN',\n",
       "       'JAX', 'JFK', 'JNU', 'KOA', 'KTN', 'LAN', 'LAS', 'LAX', 'LBB',\n",
       "       'LCH', 'LEX', 'LFT', 'LGA', 'LGB', 'LIH', 'LIT', 'LMT', 'LNK',\n",
       "       'LRD', 'LSE', 'LWB', 'LWS', 'LYH', 'MAF', 'MBS', 'MCI', 'MCO',\n",
       "       'MDT', 'MDW', 'MEI', 'MEM', 'MFE', 'MFR', 'MGM', 'MHK', 'MHT',\n",
       "       'MIA', 'MKE', 'MLB', 'MLI', 'MLU', 'MOB', 'MOD', 'MOT', 'MQT',\n",
       "       'MRY', 'MSN', 'MSO', 'MSP', 'MSY', 'MTJ', 'MYR', 'OAJ', 'OAK',\n",
       "       'OGG', 'OKC', 'OMA', 'OME', 'ONT', 'ORD', 'ORF', 'OTH', 'PBI',\n",
       "       'PDX', 'PHF', 'PHL', 'PHX', 'PIA', 'PIH', 'PIT', 'PNS', 'PSC',\n",
       "       'PSG', 'PSP', 'PVD', 'PWM', 'RAP', 'RDD', 'RDM', 'RDU', 'RIC',\n",
       "       'RKS', 'RNO', 'ROA', 'ROC', 'ROW', 'RST', 'RSW', 'SAN', 'SAT',\n",
       "       'SAV', 'SBA', 'SBN', 'SBP', 'SCC', 'SCE', 'SDF', 'SEA', 'SFO',\n",
       "       'SGF', 'SHV', 'SIT', 'SJC', 'SJU', 'SLC', 'SMF', 'SMX', 'SNA',\n",
       "       'SPI', 'SPS', 'SRQ', 'STL', 'STT', 'STX', 'SUN', 'SWF', 'SYR',\n",
       "       'TLH', 'TOL', 'TPA', 'TRI', 'TUL', 'TUS', 'TVC', 'TWF', 'TXK',\n",
       "       'TYS', 'VLD', 'VPS', 'WRG', 'XNA', 'YUM'], dtype=object)"
      ]
     },
     "execution_count": 37,
     "metadata": {},
     "output_type": "execute_result"
    }
   ],
   "source": [
    "# 24 Mengecek nilai unik dari variabel imputed_data\n",
    "np.unique(imputed_data)"
   ]
  },
  {
   "cell_type": "code",
   "execution_count": 38,
   "id": "18592367",
   "metadata": {
    "id": "18592367"
   },
   "outputs": [
    {
     "data": {
      "text/plain": [
       "False"
      ]
     },
     "execution_count": 38,
     "metadata": {},
     "output_type": "execute_result"
    }
   ],
   "source": [
    "# Mengecek apakah ada data kosong pada kolom Airline\n",
    "df['AirportFrom'].isna().any()"
   ]
  },
  {
   "cell_type": "markdown",
   "id": "2bff4dcf",
   "metadata": {
    "id": "2bff4dcf"
   },
   "source": [
    "### 5. Teknik Handling Outlier : Trimming vs Winsorizing\n",
    "---"
   ]
  },
  {
   "cell_type": "markdown",
   "id": "6d541c7e",
   "metadata": {
    "id": "6d541c7e"
   },
   "source": [
    "- Trimming\n",
    "    - Nama lain: Truncation (Potong)\n",
    "    - Definisi: Menghapus outlier dari dataset \n",
    "    - Perlu memutuskan metrik untuk menentukan outlier\n",
    "- Winsorizing\n",
    "    - Definisi: Mengganti outlier dari dataset dengan nilai persentil setiap ujung/batas atas dan bawah.\n",
    "\n"
   ]
  },
  {
   "cell_type": "code",
   "execution_count": 39,
   "id": "fa1d6eed",
   "metadata": {
    "id": "fa1d6eed"
   },
   "outputs": [],
   "source": [
    "# Memuat data dengan format csv\n",
    "df = pd.read_csv(\"delay_maskapai.csv\")"
   ]
  },
  {
   "cell_type": "code",
   "execution_count": 40,
   "id": "cd4b4099",
   "metadata": {
    "id": "cd4b4099"
   },
   "outputs": [
    {
     "data": {
      "text/html": [
       "<div>\n",
       "<style scoped>\n",
       "    .dataframe tbody tr th:only-of-type {\n",
       "        vertical-align: middle;\n",
       "    }\n",
       "\n",
       "    .dataframe tbody tr th {\n",
       "        vertical-align: top;\n",
       "    }\n",
       "\n",
       "    .dataframe thead th {\n",
       "        text-align: right;\n",
       "    }\n",
       "</style>\n",
       "<table border=\"1\" class=\"dataframe\">\n",
       "  <thead>\n",
       "    <tr style=\"text-align: right;\">\n",
       "      <th></th>\n",
       "      <th>Flight</th>\n",
       "      <th>Time</th>\n",
       "      <th>Length</th>\n",
       "      <th>Airline</th>\n",
       "      <th>AirportFrom</th>\n",
       "      <th>AirportTo</th>\n",
       "      <th>DayOfWeek</th>\n",
       "      <th>Class</th>\n",
       "    </tr>\n",
       "  </thead>\n",
       "  <tbody>\n",
       "    <tr>\n",
       "      <th>0</th>\n",
       "      <td>320.0</td>\n",
       "      <td>870.0</td>\n",
       "      <td>180.0</td>\n",
       "      <td>CO</td>\n",
       "      <td>IAH</td>\n",
       "      <td>PHX</td>\n",
       "      <td>5</td>\n",
       "      <td>0</td>\n",
       "    </tr>\n",
       "    <tr>\n",
       "      <th>1</th>\n",
       "      <td>3045.0</td>\n",
       "      <td>365.0</td>\n",
       "      <td>66.0</td>\n",
       "      <td>OO</td>\n",
       "      <td>DSM</td>\n",
       "      <td>MKE</td>\n",
       "      <td>2</td>\n",
       "      <td>0</td>\n",
       "    </tr>\n",
       "    <tr>\n",
       "      <th>2</th>\n",
       "      <td>1560.0</td>\n",
       "      <td>740.0</td>\n",
       "      <td>257.0</td>\n",
       "      <td>DL</td>\n",
       "      <td>SEA</td>\n",
       "      <td>CVG</td>\n",
       "      <td>7</td>\n",
       "      <td>0</td>\n",
       "    </tr>\n",
       "    <tr>\n",
       "      <th>3</th>\n",
       "      <td>1156.0</td>\n",
       "      <td>595.0</td>\n",
       "      <td>235.0</td>\n",
       "      <td>WN</td>\n",
       "      <td>SNA</td>\n",
       "      <td>MDW</td>\n",
       "      <td>7</td>\n",
       "      <td>1</td>\n",
       "    </tr>\n",
       "    <tr>\n",
       "      <th>4</th>\n",
       "      <td>1873.0</td>\n",
       "      <td>530.0</td>\n",
       "      <td>133.0</td>\n",
       "      <td>CO</td>\n",
       "      <td>IAH</td>\n",
       "      <td>MCO</td>\n",
       "      <td>6</td>\n",
       "      <td>1</td>\n",
       "    </tr>\n",
       "  </tbody>\n",
       "</table>\n",
       "</div>"
      ],
      "text/plain": [
       "   Flight   Time  Length Airline AirportFrom AirportTo  DayOfWeek  Class\n",
       "0   320.0  870.0   180.0      CO         IAH       PHX          5      0\n",
       "1  3045.0  365.0    66.0      OO         DSM       MKE          2      0\n",
       "2  1560.0  740.0   257.0      DL         SEA       CVG          7      0\n",
       "3  1156.0  595.0   235.0      WN         SNA       MDW          7      1\n",
       "4  1873.0  530.0   133.0      CO         IAH       MCO          6      1"
      ]
     },
     "execution_count": 40,
     "metadata": {},
     "output_type": "execute_result"
    }
   ],
   "source": [
    "df.head()"
   ]
  },
  {
   "cell_type": "code",
   "execution_count": 41,
   "id": "51d47369",
   "metadata": {
    "id": "51d47369"
   },
   "outputs": [],
   "source": [
    "# Import Library matplotlib.pyplot & Seaborn\n",
    "import matplotlib.pyplot as plt\n",
    "import seaborn as sns"
   ]
  },
  {
   "cell_type": "code",
   "execution_count": 42,
   "id": "ffa8701e",
   "metadata": {
    "id": "ffa8701e"
   },
   "outputs": [
    {
     "data": {
      "image/png": "[encoded data removed]",
      "text/plain": [
       "<Figure size 2000x200 with 1 Axes>"
      ]
     },
     "metadata": {},
     "output_type": "display_data"
    },
    {
     "data": {
      "image/png": "[encoded data removed]",
      "text/plain": [
       "<Figure size 2000x200 with 1 Axes>"
      ]
     },
     "metadata": {},
     "output_type": "display_data"
    },
    {
     "data": {
      "image/png": "[encoded data removed]",
      "text/plain": [
       "<Figure size 2000x200 with 1 Axes>"
      ]
     },
     "metadata": {},
     "output_type": "display_data"
    },
    {
     "data": {
      "image/png": "[encoded data removed]",
      "text/plain": [
       "<Figure size 2000x200 with 1 Axes>"
      ]
     },
     "metadata": {},
     "output_type": "display_data"
    },
    {
     "data": {
      "image/png": "[encoded data removed]",
      "text/plain": [
       "<Figure size 2000x200 with 1 Axes>"
      ]
     },
     "metadata": {},
     "output_type": "display_data"
    }
   ],
   "source": [
    "# Mencari Outliers - Boxplot\n",
    "df_outlier = df.select_dtypes(exclude=['object'])\n",
    "for column in df_outlier:\n",
    "        plt.figure(figsize=(20,2))\n",
    "        sns.boxplot(data=df_outlier, x=column)"
   ]
  },
  {
   "cell_type": "markdown",
   "id": "2c11ee20",
   "metadata": {
    "id": "2c11ee20"
   },
   "source": [
    "Dapa dilihat dari boxplot di atas bahwa kolom Length memiliki outliers di atas batas maksimum"
   ]
  },
  {
   "cell_type": "markdown",
   "id": "b6af500c",
   "metadata": {
    "id": "b6af500c"
   },
   "source": [
    "#### Teknik Trimming (Pangkas) Outlier\n",
    "----"
   ]
  },
  {
   "cell_type": "code",
   "execution_count": 43,
   "id": "8e119c36",
   "metadata": {
    "id": "8e119c36"
   },
   "outputs": [
    {
     "data": {
      "text/plain": [
       "Flight         float64\n",
       "Time           float64\n",
       "Length         float64\n",
       "Airline         object\n",
       "AirportFrom     object\n",
       "AirportTo       object\n",
       "DayOfWeek        int64\n",
       "Class            int64\n",
       "dtype: object"
      ]
     },
     "execution_count": 43,
     "metadata": {},
     "output_type": "execute_result"
    }
   ],
   "source": [
    "# Mengecek tipe data pada setiap kolom\n",
    "df.dtypes"
   ]
  },
  {
   "cell_type": "code",
   "execution_count": 44,
   "id": "da71caf3",
   "metadata": {
    "id": "da71caf3"
   },
   "outputs": [
    {
     "data": {
      "text/html": [
       "<div>\n",
       "<style scoped>\n",
       "    .dataframe tbody tr th:only-of-type {\n",
       "        vertical-align: middle;\n",
       "    }\n",
       "\n",
       "    .dataframe tbody tr th {\n",
       "        vertical-align: top;\n",
       "    }\n",
       "\n",
       "    .dataframe thead th {\n",
       "        text-align: right;\n",
       "    }\n",
       "</style>\n",
       "<table border=\"1\" class=\"dataframe\">\n",
       "  <thead>\n",
       "    <tr style=\"text-align: right;\">\n",
       "      <th></th>\n",
       "      <th>Flight</th>\n",
       "      <th>Time</th>\n",
       "      <th>Length</th>\n",
       "      <th>DayOfWeek</th>\n",
       "      <th>Class</th>\n",
       "    </tr>\n",
       "  </thead>\n",
       "  <tbody>\n",
       "    <tr>\n",
       "      <th>0</th>\n",
       "      <td>320.0</td>\n",
       "      <td>870.0</td>\n",
       "      <td>180.0</td>\n",
       "      <td>5</td>\n",
       "      <td>0</td>\n",
       "    </tr>\n",
       "    <tr>\n",
       "      <th>1</th>\n",
       "      <td>3045.0</td>\n",
       "      <td>365.0</td>\n",
       "      <td>66.0</td>\n",
       "      <td>2</td>\n",
       "      <td>0</td>\n",
       "    </tr>\n",
       "    <tr>\n",
       "      <th>2</th>\n",
       "      <td>1560.0</td>\n",
       "      <td>740.0</td>\n",
       "      <td>257.0</td>\n",
       "      <td>7</td>\n",
       "      <td>0</td>\n",
       "    </tr>\n",
       "    <tr>\n",
       "      <th>3</th>\n",
       "      <td>1156.0</td>\n",
       "      <td>595.0</td>\n",
       "      <td>235.0</td>\n",
       "      <td>7</td>\n",
       "      <td>1</td>\n",
       "    </tr>\n",
       "    <tr>\n",
       "      <th>4</th>\n",
       "      <td>1873.0</td>\n",
       "      <td>530.0</td>\n",
       "      <td>133.0</td>\n",
       "      <td>6</td>\n",
       "      <td>1</td>\n",
       "    </tr>\n",
       "  </tbody>\n",
       "</table>\n",
       "</div>"
      ],
      "text/plain": [
       "   Flight   Time  Length  DayOfWeek  Class\n",
       "0   320.0  870.0   180.0          5      0\n",
       "1  3045.0  365.0    66.0          2      0\n",
       "2  1560.0  740.0   257.0          7      0\n",
       "3  1156.0  595.0   235.0          7      1\n",
       "4  1873.0  530.0   133.0          6      1"
      ]
     },
     "execution_count": 44,
     "metadata": {},
     "output_type": "execute_result"
    }
   ],
   "source": [
    "# 25. Memilih kolom dengan tipe data selain object\n",
    "df.select_dtypes(exclude=\"object\").head()"
   ]
  },
  {
   "cell_type": "code",
   "execution_count": 45,
   "id": "8cf9be17",
   "metadata": {
    "id": "8cf9be17"
   },
   "outputs": [
    {
     "data": {
      "text/plain": [
       "Flight       3065.5\n",
       "Time          468.0\n",
       "Length         83.0\n",
       "DayOfWeek       3.0\n",
       "Class           1.0\n",
       "dtype: float64"
      ]
     },
     "execution_count": 45,
     "metadata": {},
     "output_type": "execute_result"
    }
   ],
   "source": [
    "# 26. Membuat IQR\n",
    "q1 = df.select_dtypes(exclude=\"object\").quantile(0.25)\n",
    "q3 = df.select_dtypes(exclude=\"object\").quantile(0.75)\n",
    "iqr = q3 - q1\n",
    "iqr"
   ]
  },
  {
   "cell_type": "code",
   "execution_count": 46,
   "id": "1e70ef0b",
   "metadata": {
    "id": "1e70ef0b"
   },
   "outputs": [
    {
     "data": {
      "text/plain": [
       "Flight       8383.75\n",
       "Time         1737.00\n",
       "Length        288.50\n",
       "DayOfWeek       9.50\n",
       "Class           2.50\n",
       "dtype: float64"
      ]
     },
     "execution_count": 46,
     "metadata": {},
     "output_type": "execute_result"
    }
   ],
   "source": [
    "batas_atas = q3 + 1.5 * iqr\n",
    "batas_atas"
   ]
  },
  {
   "cell_type": "code",
   "execution_count": 47,
   "id": "dda2972e",
   "metadata": {
    "id": "dda2972e"
   },
   "outputs": [],
   "source": [
    "# 27. Memangkas Outliers\n",
    "df_noid_outlier_clean = df[~((df.select_dtypes(exclude=\"object\") < q1 - 1.5 * iqr) | (df.select_dtypes(exclude=\"object\") > q3 + 1.5 * iqr)).any(axis=1)]"
   ]
  },
  {
   "cell_type": "code",
   "execution_count": 48,
   "id": "24d8af54",
   "metadata": {
    "id": "24d8af54"
   },
   "outputs": [
    {
     "data": {
      "text/html": [
       "<div>\n",
       "<style scoped>\n",
       "    .dataframe tbody tr th:only-of-type {\n",
       "        vertical-align: middle;\n",
       "    }\n",
       "\n",
       "    .dataframe tbody tr th {\n",
       "        vertical-align: top;\n",
       "    }\n",
       "\n",
       "    .dataframe thead th {\n",
       "        text-align: right;\n",
       "    }\n",
       "</style>\n",
       "<table border=\"1\" class=\"dataframe\">\n",
       "  <thead>\n",
       "    <tr style=\"text-align: right;\">\n",
       "      <th></th>\n",
       "      <th>Flight</th>\n",
       "      <th>Time</th>\n",
       "      <th>Length</th>\n",
       "      <th>Airline</th>\n",
       "      <th>AirportFrom</th>\n",
       "      <th>AirportTo</th>\n",
       "      <th>DayOfWeek</th>\n",
       "      <th>Class</th>\n",
       "    </tr>\n",
       "  </thead>\n",
       "  <tbody>\n",
       "    <tr>\n",
       "      <th>0</th>\n",
       "      <td>320.0</td>\n",
       "      <td>870.0</td>\n",
       "      <td>180.0</td>\n",
       "      <td>CO</td>\n",
       "      <td>IAH</td>\n",
       "      <td>PHX</td>\n",
       "      <td>5</td>\n",
       "      <td>0</td>\n",
       "    </tr>\n",
       "    <tr>\n",
       "      <th>1</th>\n",
       "      <td>3045.0</td>\n",
       "      <td>365.0</td>\n",
       "      <td>66.0</td>\n",
       "      <td>OO</td>\n",
       "      <td>DSM</td>\n",
       "      <td>MKE</td>\n",
       "      <td>2</td>\n",
       "      <td>0</td>\n",
       "    </tr>\n",
       "    <tr>\n",
       "      <th>2</th>\n",
       "      <td>1560.0</td>\n",
       "      <td>740.0</td>\n",
       "      <td>257.0</td>\n",
       "      <td>DL</td>\n",
       "      <td>SEA</td>\n",
       "      <td>CVG</td>\n",
       "      <td>7</td>\n",
       "      <td>0</td>\n",
       "    </tr>\n",
       "    <tr>\n",
       "      <th>3</th>\n",
       "      <td>1156.0</td>\n",
       "      <td>595.0</td>\n",
       "      <td>235.0</td>\n",
       "      <td>WN</td>\n",
       "      <td>SNA</td>\n",
       "      <td>MDW</td>\n",
       "      <td>7</td>\n",
       "      <td>1</td>\n",
       "    </tr>\n",
       "    <tr>\n",
       "      <th>4</th>\n",
       "      <td>1873.0</td>\n",
       "      <td>530.0</td>\n",
       "      <td>133.0</td>\n",
       "      <td>CO</td>\n",
       "      <td>IAH</td>\n",
       "      <td>MCO</td>\n",
       "      <td>6</td>\n",
       "      <td>1</td>\n",
       "    </tr>\n",
       "  </tbody>\n",
       "</table>\n",
       "</div>"
      ],
      "text/plain": [
       "   Flight   Time  Length Airline AirportFrom AirportTo  DayOfWeek  Class\n",
       "0   320.0  870.0   180.0      CO         IAH       PHX          5      0\n",
       "1  3045.0  365.0    66.0      OO         DSM       MKE          2      0\n",
       "2  1560.0  740.0   257.0      DL         SEA       CVG          7      0\n",
       "3  1156.0  595.0   235.0      WN         SNA       MDW          7      1\n",
       "4  1873.0  530.0   133.0      CO         IAH       MCO          6      1"
      ]
     },
     "execution_count": 48,
     "metadata": {},
     "output_type": "execute_result"
    }
   ],
   "source": [
    "df_noid_outlier_clean.head()"
   ]
  },
  {
   "cell_type": "code",
   "execution_count": 49,
   "id": "0dc7afff",
   "metadata": {
    "id": "0dc7afff"
   },
   "outputs": [
    {
     "data": {
      "text/plain": [
       "(10249, 8)"
      ]
     },
     "execution_count": 49,
     "metadata": {},
     "output_type": "execute_result"
    }
   ],
   "source": [
    "# Melihat ukuran baris dan kolom setelah dipangkas\n",
    "df_noid_outlier_clean.shape"
   ]
  },
  {
   "cell_type": "code",
   "execution_count": 50,
   "id": "18e409f1",
   "metadata": {
    "id": "18e409f1"
   },
   "outputs": [
    {
     "data": {
      "text/plain": [
       "<Axes: xlabel='Length'>"
      ]
     },
     "execution_count": 50,
     "metadata": {},
     "output_type": "execute_result"
    },
    {
     "data": {
      "image/png": "[encoded data removed]",
      "text/plain": [
       "<Figure size 2000x200 with 1 Axes>"
      ]
     },
     "metadata": {},
     "output_type": "display_data"
    }
   ],
   "source": [
    "# Mengecek Outliers - Boxplot\n",
    "plt.figure(figsize=(20,2))\n",
    "sns.boxplot(data=df_noid_outlier_clean, x=df_noid_outlier_clean['Length'])"
   ]
  },
  {
   "cell_type": "code",
   "execution_count": 51,
   "id": "asqcVYxPY6j2",
   "metadata": {
    "id": "asqcVYxPY6j2"
   },
   "outputs": [
    {
     "data": {
      "text/plain": [
       "75.0"
      ]
     },
     "execution_count": 51,
     "metadata": {},
     "output_type": "execute_result"
    }
   ],
   "source": [
    "q1 = df_noid_outlier_clean['Length'].quantile(0.25)\n",
    "q3 = df_noid_outlier_clean['Length'].quantile(0.75)\n",
    "iqr = q3-q1\n",
    "iqr"
   ]
  },
  {
   "cell_type": "code",
   "execution_count": 52,
   "id": "CQecAa3NY7Lb",
   "metadata": {
    "id": "CQecAa3NY7Lb"
   },
   "outputs": [
    {
     "data": {
      "text/plain": [
       "267.5"
      ]
     },
     "execution_count": 52,
     "metadata": {},
     "output_type": "execute_result"
    }
   ],
   "source": [
    "batas_atas = q3 + 1.5 * iqr\n",
    "batas_atas"
   ]
  },
  {
   "cell_type": "code",
   "execution_count": 53,
   "id": "05e65630",
   "metadata": {
    "id": "05e65630"
   },
   "outputs": [
    {
     "name": "stdout",
     "output_type": "stream",
     "text": [
      "154\n"
     ]
    }
   ],
   "source": [
    "# 28. Melihat jumlah outliers\n",
    "jml_outliers = (df_noid_outlier_clean['Length'] > batas_atas).sum()\n",
    "print(jml_outliers)"
   ]
  },
  {
   "cell_type": "markdown",
   "id": "24e3a075",
   "metadata": {
    "id": "24e3a075"
   },
   "source": [
    "Dapat diketahui bahwa outliers berjumlah <b>(Isi Jawaban di sini)</b>"
   ]
  },
  {
   "cell_type": "markdown",
   "id": "be4208c1",
   "metadata": {
    "id": "be4208c1"
   },
   "source": [
    "#### Teknik Winsorizing Outlier\n",
    "----"
   ]
  },
  {
   "cell_type": "code",
   "execution_count": 54,
   "id": "4b06aefa",
   "metadata": {
    "id": "4b06aefa"
   },
   "outputs": [],
   "source": [
    "# Memuat data dengan format csv\n",
    "df = pd.read_csv(\"delay_maskapai.csv\")"
   ]
  },
  {
   "cell_type": "code",
   "execution_count": 55,
   "id": "db72305e",
   "metadata": {
    "id": "db72305e"
   },
   "outputs": [],
   "source": [
    "# 29. Import Library Winsorize\n",
    "from scipy.stats.mstats import winsorize"
   ]
  },
  {
   "cell_type": "code",
   "execution_count": 56,
   "id": "98bdf5dd",
   "metadata": {
    "id": "98bdf5dd"
   },
   "outputs": [],
   "source": [
    "# 30. Winsorize data sebanyak 10% dari data yang melewati batas maksimum\n",
    "df['Length'] = winsorize(df['Length'], limits=[0, 0.05])"
   ]
  },
  {
   "cell_type": "code",
   "execution_count": 57,
   "id": "e2338a8f",
   "metadata": {
    "id": "e2338a8f",
    "scrolled": true
   },
   "outputs": [
    {
     "data": {
      "text/plain": [
       "<Axes: xlabel='Length'>"
      ]
     },
     "execution_count": 57,
     "metadata": {},
     "output_type": "execute_result"
    },
    {
     "data": {
      "image/png": "[encoded data removed]",
      "text/plain": [
       "<Figure size 2000x200 with 1 Axes>"
      ]
     },
     "metadata": {},
     "output_type": "display_data"
    }
   ],
   "source": [
    "# Melihat outliers pada kolom length dengan menggunakan Boxplot\n",
    "plt.figure(figsize=(20,2))\n",
    "sns.boxplot(data=df, x=df['Length'])"
   ]
  },
  {
   "cell_type": "code",
   "execution_count": 58,
   "id": "97f54c42",
   "metadata": {
    "id": "97f54c42",
    "scrolled": true
   },
   "outputs": [
    {
     "data": {
      "text/plain": [
       "288.0"
      ]
     },
     "execution_count": 58,
     "metadata": {},
     "output_type": "execute_result"
    }
   ],
   "source": [
    "# 31. Melihat nilai maksimal dari kolom Length\n",
    "df['Length'].max()"
   ]
  },
  {
   "cell_type": "markdown",
   "id": "587cd0bd",
   "metadata": {
    "id": "587cd0bd"
   },
   "source": [
    "### 6. Scaling (Penskalaan)\n",
    "---"
   ]
  },
  {
   "cell_type": "markdown",
   "id": "52138fe2",
   "metadata": {
    "id": "52138fe2"
   },
   "source": [
    "Scaling bertujuan untuk mengubah data ke dalam sebuah skala tertentu, seperti 0-100 atau 0-1. \n",
    "\n",
    "Contoh : Data numerik (biasanya) tidak memiliki range. range  “Usia” vs range “Gaji” tidak sama (karakteristik berbeda). Usia memiliki rentang dari 1 sampai 150 (dalam tahun), sedangkan Gaji memiliki rentang dari 10 ribu sampai 100 ribu (dalam dolar). Untuk itu membandingkan perlu scaling.\n",
    "\n",
    "**Jenis Scaling**\n",
    "<center>\n",
    "    <img src=\"https://drive.google.com/uc?export=view&id=1agHfLrSOktOWrALcI-v4v15EVj2fqVs7\"  width=\"500\" />\n",
    "</center>"
   ]
  },
  {
   "cell_type": "markdown",
   "id": "b9bfe618",
   "metadata": {
    "id": "b9bfe618"
   },
   "source": [
    "#### Scaling : Standardisasi\n",
    "---"
   ]
  },
  {
   "cell_type": "code",
   "execution_count": 59,
   "id": "11a7d54b",
   "metadata": {
    "id": "11a7d54b"
   },
   "outputs": [],
   "source": [
    "# 32. Melakukan standardisasi dengan library Sklearn\n",
    "from sklearn.preprocessing import StandardScaler"
   ]
  },
  {
   "cell_type": "code",
   "execution_count": 60,
   "id": "3979dfc1",
   "metadata": {
    "id": "3979dfc1"
   },
   "outputs": [],
   "source": [
    "df = pd.read_csv(\"delay_maskapai.csv\")"
   ]
  },
  {
   "cell_type": "code",
   "execution_count": 61,
   "id": "4e3997d4",
   "metadata": {
    "id": "4e3997d4"
   },
   "outputs": [],
   "source": [
    "# 33. Memanggil objek StandardScaler dari sklearn\n",
    "scaler = StandardScaler()"
   ]
  },
  {
   "cell_type": "code",
   "execution_count": 62,
   "id": "30ae067a",
   "metadata": {
    "id": "30ae067a"
   },
   "outputs": [],
   "source": [
    "# 34, Melakukan standardisasi\n",
    "df[['Time','Length']] = scaler.fit_transform(df[[\"Time\", \"Length\"]])"
   ]
  },
  {
   "cell_type": "code",
   "execution_count": 63,
   "id": "0fe8f961",
   "metadata": {
    "id": "0fe8f961"
   },
   "outputs": [
    {
     "data": {
      "text/html": [
       "<div>\n",
       "<style scoped>\n",
       "    .dataframe tbody tr th:only-of-type {\n",
       "        vertical-align: middle;\n",
       "    }\n",
       "\n",
       "    .dataframe tbody tr th {\n",
       "        vertical-align: top;\n",
       "    }\n",
       "\n",
       "    .dataframe thead th {\n",
       "        text-align: right;\n",
       "    }\n",
       "</style>\n",
       "<table border=\"1\" class=\"dataframe\">\n",
       "  <thead>\n",
       "    <tr style=\"text-align: right;\">\n",
       "      <th></th>\n",
       "      <th>Flight</th>\n",
       "      <th>Time</th>\n",
       "      <th>Length</th>\n",
       "      <th>Airline</th>\n",
       "      <th>AirportFrom</th>\n",
       "      <th>AirportTo</th>\n",
       "      <th>DayOfWeek</th>\n",
       "      <th>Class</th>\n",
       "    </tr>\n",
       "  </thead>\n",
       "  <tbody>\n",
       "    <tr>\n",
       "      <th>0</th>\n",
       "      <td>320.0</td>\n",
       "      <td>0.241211</td>\n",
       "      <td>0.651624</td>\n",
       "      <td>CO</td>\n",
       "      <td>IAH</td>\n",
       "      <td>PHX</td>\n",
       "      <td>5</td>\n",
       "      <td>0</td>\n",
       "    </tr>\n",
       "    <tr>\n",
       "      <th>1</th>\n",
       "      <td>3045.0</td>\n",
       "      <td>-1.582136</td>\n",
       "      <td>-0.940654</td>\n",
       "      <td>OO</td>\n",
       "      <td>DSM</td>\n",
       "      <td>MKE</td>\n",
       "      <td>2</td>\n",
       "      <td>0</td>\n",
       "    </tr>\n",
       "    <tr>\n",
       "      <th>2</th>\n",
       "      <td>1560.0</td>\n",
       "      <td>-0.228166</td>\n",
       "      <td>1.727109</td>\n",
       "      <td>DL</td>\n",
       "      <td>SEA</td>\n",
       "      <td>CVG</td>\n",
       "      <td>7</td>\n",
       "      <td>0</td>\n",
       "    </tr>\n",
       "    <tr>\n",
       "      <th>3</th>\n",
       "      <td>1156.0</td>\n",
       "      <td>-0.751701</td>\n",
       "      <td>1.419828</td>\n",
       "      <td>WN</td>\n",
       "      <td>SNA</td>\n",
       "      <td>MDW</td>\n",
       "      <td>7</td>\n",
       "      <td>1</td>\n",
       "    </tr>\n",
       "    <tr>\n",
       "      <th>4</th>\n",
       "      <td>1873.0</td>\n",
       "      <td>-0.986389</td>\n",
       "      <td>-0.004841</td>\n",
       "      <td>CO</td>\n",
       "      <td>IAH</td>\n",
       "      <td>MCO</td>\n",
       "      <td>6</td>\n",
       "      <td>1</td>\n",
       "    </tr>\n",
       "  </tbody>\n",
       "</table>\n",
       "</div>"
      ],
      "text/plain": [
       "   Flight      Time    Length Airline AirportFrom AirportTo  DayOfWeek  Class\n",
       "0   320.0  0.241211  0.651624      CO         IAH       PHX          5      0\n",
       "1  3045.0 -1.582136 -0.940654      OO         DSM       MKE          2      0\n",
       "2  1560.0 -0.228166  1.727109      DL         SEA       CVG          7      0\n",
       "3  1156.0 -0.751701  1.419828      WN         SNA       MDW          7      1\n",
       "4  1873.0 -0.986389 -0.004841      CO         IAH       MCO          6      1"
      ]
     },
     "execution_count": 63,
     "metadata": {},
     "output_type": "execute_result"
    }
   ],
   "source": [
    "df.head()"
   ]
  },
  {
   "cell_type": "markdown",
   "id": "6eb7a11d",
   "metadata": {
    "id": "6eb7a11d"
   },
   "source": [
    "#### Scaling : Normalisasi / MinMax Scaling\n",
    "---"
   ]
  },
  {
   "cell_type": "code",
   "execution_count": 64,
   "id": "d4992a62",
   "metadata": {
    "id": "d4992a62"
   },
   "outputs": [],
   "source": [
    "df = pd.read_csv(\"delay_maskapai.csv\")"
   ]
  },
  {
   "cell_type": "code",
   "execution_count": 65,
   "id": "6b0586b9",
   "metadata": {
    "id": "6b0586b9"
   },
   "outputs": [
    {
     "data": {
      "text/html": [
       "<div>\n",
       "<style scoped>\n",
       "    .dataframe tbody tr th:only-of-type {\n",
       "        vertical-align: middle;\n",
       "    }\n",
       "\n",
       "    .dataframe tbody tr th {\n",
       "        vertical-align: top;\n",
       "    }\n",
       "\n",
       "    .dataframe thead th {\n",
       "        text-align: right;\n",
       "    }\n",
       "</style>\n",
       "<table border=\"1\" class=\"dataframe\">\n",
       "  <thead>\n",
       "    <tr style=\"text-align: right;\">\n",
       "      <th></th>\n",
       "      <th>Flight</th>\n",
       "      <th>Time</th>\n",
       "      <th>Length</th>\n",
       "      <th>Airline</th>\n",
       "      <th>AirportFrom</th>\n",
       "      <th>AirportTo</th>\n",
       "      <th>DayOfWeek</th>\n",
       "      <th>Class</th>\n",
       "    </tr>\n",
       "  </thead>\n",
       "  <tbody>\n",
       "    <tr>\n",
       "      <th>0</th>\n",
       "      <td>320.0</td>\n",
       "      <td>0.600421</td>\n",
       "      <td>0.241214</td>\n",
       "      <td>CO</td>\n",
       "      <td>IAH</td>\n",
       "      <td>PHX</td>\n",
       "      <td>5</td>\n",
       "      <td>0</td>\n",
       "    </tr>\n",
       "    <tr>\n",
       "      <th>1</th>\n",
       "      <td>3045.0</td>\n",
       "      <td>0.245787</td>\n",
       "      <td>0.059105</td>\n",
       "      <td>OO</td>\n",
       "      <td>DSM</td>\n",
       "      <td>MKE</td>\n",
       "      <td>2</td>\n",
       "      <td>0</td>\n",
       "    </tr>\n",
       "    <tr>\n",
       "      <th>2</th>\n",
       "      <td>1560.0</td>\n",
       "      <td>0.509129</td>\n",
       "      <td>0.364217</td>\n",
       "      <td>DL</td>\n",
       "      <td>SEA</td>\n",
       "      <td>CVG</td>\n",
       "      <td>7</td>\n",
       "      <td>0</td>\n",
       "    </tr>\n",
       "    <tr>\n",
       "      <th>3</th>\n",
       "      <td>1156.0</td>\n",
       "      <td>0.407303</td>\n",
       "      <td>0.329073</td>\n",
       "      <td>WN</td>\n",
       "      <td>SNA</td>\n",
       "      <td>MDW</td>\n",
       "      <td>7</td>\n",
       "      <td>1</td>\n",
       "    </tr>\n",
       "    <tr>\n",
       "      <th>4</th>\n",
       "      <td>1873.0</td>\n",
       "      <td>0.361657</td>\n",
       "      <td>0.166134</td>\n",
       "      <td>CO</td>\n",
       "      <td>IAH</td>\n",
       "      <td>MCO</td>\n",
       "      <td>6</td>\n",
       "      <td>1</td>\n",
       "    </tr>\n",
       "  </tbody>\n",
       "</table>\n",
       "</div>"
      ],
      "text/plain": [
       "   Flight      Time    Length Airline AirportFrom AirportTo  DayOfWeek  Class\n",
       "0   320.0  0.600421  0.241214      CO         IAH       PHX          5      0\n",
       "1  3045.0  0.245787  0.059105      OO         DSM       MKE          2      0\n",
       "2  1560.0  0.509129  0.364217      DL         SEA       CVG          7      0\n",
       "3  1156.0  0.407303  0.329073      WN         SNA       MDW          7      1\n",
       "4  1873.0  0.361657  0.166134      CO         IAH       MCO          6      1"
      ]
     },
     "execution_count": 65,
     "metadata": {},
     "output_type": "execute_result"
    }
   ],
   "source": [
    "# 35. Normalisasi / MinMax scaling dengan library sci-kit learn\n",
    "from sklearn.preprocessing import MinMaxScaler\n",
    "\n",
    "# 36. Memanggil Objek MinMaxScaler\n",
    "scaler = MinMaxScaler()\n",
    "\n",
    "# 37. Melakukan MinMax Scaling\n",
    "df[['Time','Length']] = scaler.fit_transform(df[[\"Time\", \"Length\"]])\n",
    "df.head()"
   ]
  },
  {
   "cell_type": "code",
   "execution_count": null,
   "id": "d0bfbb94",
   "metadata": {
    "id": "d0bfbb94"
   },
   "outputs": [],
   "source": [
    "df = pd.read_csv(\"delay_maskapai.csv\")"
   ]
  },
  {
   "cell_type": "code",
   "execution_count": 66,
   "id": "36fe6bfd-4518-4811-ada7-b3428057b166",
   "metadata": {},
   "outputs": [],
   "source": [
    "from sklearn import preprocessing"
   ]
  },
  {
   "cell_type": "code",
   "execution_count": 67,
   "id": "37dd864c",
   "metadata": {
    "id": "37dd864c"
   },
   "outputs": [
    {
     "data": {
      "text/html": [
       "<div>\n",
       "<style scoped>\n",
       "    .dataframe tbody tr th:only-of-type {\n",
       "        vertical-align: middle;\n",
       "    }\n",
       "\n",
       "    .dataframe tbody tr th {\n",
       "        vertical-align: top;\n",
       "    }\n",
       "\n",
       "    .dataframe thead th {\n",
       "        text-align: right;\n",
       "    }\n",
       "</style>\n",
       "<table border=\"1\" class=\"dataframe\">\n",
       "  <thead>\n",
       "    <tr style=\"text-align: right;\">\n",
       "      <th></th>\n",
       "      <th>Flight</th>\n",
       "      <th>Time</th>\n",
       "      <th>Length</th>\n",
       "      <th>Airline</th>\n",
       "      <th>AirportFrom</th>\n",
       "      <th>AirportTo</th>\n",
       "      <th>DayOfWeek</th>\n",
       "      <th>Class</th>\n",
       "    </tr>\n",
       "  </thead>\n",
       "  <tbody>\n",
       "    <tr>\n",
       "      <th>0</th>\n",
       "      <td>320.0</td>\n",
       "      <td>0.160256</td>\n",
       "      <td>0.771084</td>\n",
       "      <td>CO</td>\n",
       "      <td>IAH</td>\n",
       "      <td>PHX</td>\n",
       "      <td>5</td>\n",
       "      <td>0</td>\n",
       "    </tr>\n",
       "    <tr>\n",
       "      <th>1</th>\n",
       "      <td>3045.0</td>\n",
       "      <td>-0.918803</td>\n",
       "      <td>-0.602410</td>\n",
       "      <td>OO</td>\n",
       "      <td>DSM</td>\n",
       "      <td>MKE</td>\n",
       "      <td>2</td>\n",
       "      <td>0</td>\n",
       "    </tr>\n",
       "    <tr>\n",
       "      <th>2</th>\n",
       "      <td>1560.0</td>\n",
       "      <td>-0.117521</td>\n",
       "      <td>1.698795</td>\n",
       "      <td>DL</td>\n",
       "      <td>SEA</td>\n",
       "      <td>CVG</td>\n",
       "      <td>7</td>\n",
       "      <td>0</td>\n",
       "    </tr>\n",
       "    <tr>\n",
       "      <th>3</th>\n",
       "      <td>1156.0</td>\n",
       "      <td>-0.427350</td>\n",
       "      <td>1.433735</td>\n",
       "      <td>WN</td>\n",
       "      <td>SNA</td>\n",
       "      <td>MDW</td>\n",
       "      <td>7</td>\n",
       "      <td>1</td>\n",
       "    </tr>\n",
       "    <tr>\n",
       "      <th>4</th>\n",
       "      <td>1873.0</td>\n",
       "      <td>-0.566239</td>\n",
       "      <td>0.204819</td>\n",
       "      <td>CO</td>\n",
       "      <td>IAH</td>\n",
       "      <td>MCO</td>\n",
       "      <td>6</td>\n",
       "      <td>1</td>\n",
       "    </tr>\n",
       "  </tbody>\n",
       "</table>\n",
       "</div>"
      ],
      "text/plain": [
       "   Flight      Time    Length Airline AirportFrom AirportTo  DayOfWeek  Class\n",
       "0   320.0  0.160256  0.771084      CO         IAH       PHX          5      0\n",
       "1  3045.0 -0.918803 -0.602410      OO         DSM       MKE          2      0\n",
       "2  1560.0 -0.117521  1.698795      DL         SEA       CVG          7      0\n",
       "3  1156.0 -0.427350  1.433735      WN         SNA       MDW          7      1\n",
       "4  1873.0 -0.566239  0.204819      CO         IAH       MCO          6      1"
      ]
     },
     "execution_count": 67,
     "metadata": {},
     "output_type": "execute_result"
    }
   ],
   "source": [
    "# 38. Normalisasi dengan Robust Scaling - Memanggil Objek RobustScaler\n",
    "scaler = preprocessing.RobustScaler()\n",
    "\n",
    "# 39. Melakukan Robust Scaling\n",
    "df[['Time','Length']] = scaler.fit_transform(df[[\"Time\", \"Length\"]])\n",
    "df.head()"
   ]
  },
  {
   "cell_type": "markdown",
   "id": "f3ba021e",
   "metadata": {
    "id": "f3ba021e"
   },
   "source": [
    "### 7. Dokumentasi Data/Fitur\n",
    "---"
   ]
  },
  {
   "cell_type": "markdown",
   "id": "ef59b0d3",
   "metadata": {
    "id": "ef59b0d3"
   },
   "source": [
    "<center>\n",
    "    <img src=\"https://drive.google.com/uc?export=view&id=1WnLL7CKZ0955yv2UCcqQ6c2hybBoJV_n\"  width=\"500\" />\n",
    "</center>"
   ]
  },
  {
   "cell_type": "markdown",
   "id": "9c5641a4",
   "metadata": {
    "id": "9c5641a4"
   },
   "source": [
    "Laporan dokumentasi data transformation, setidaknya memiliki parameter berikut:\n",
    "- Fitur awal dan rekayasa fitur yang digunakan\n",
    "- Teknik transformasi data yang diterapkan\n",
    "    - Apakah algoritma pemodelan mengharapkan jenis data tertentu, seperti numerik? Jika demikian, lakukan transformasi yang diperlukan\n",
    "    - Apakah data perlu dinormalisasi sebelum pemodelan?\n",
    "    - Bisakah atribut yang hilang dibangun menggunakan agregasi, rata-rata, atau induksi?\n",
    "- Hasil transformasi\n",
    "- Rekomendasi transformasi\n",
    "\n"
   ]
  },
  {
   "cell_type": "markdown",
   "id": "ec3bd6ca",
   "metadata": {
    "id": "ec3bd6ca"
   },
   "source": [
    "### 8. Pelabelan Data\n",
    "---"
   ]
  },
  {
   "cell_type": "markdown",
   "id": "4aa43a2b",
   "metadata": {
    "id": "4aa43a2b"
   },
   "source": [
    "<center>\n",
    "    <img src=\"https://drive.google.com/uc?export=view&id=1N6vd9WgKcDN_EYo-vqrz1_E2HabzyA9f\"  width=\"500\" />\n",
    "</center>"
   ]
  },
  {
   "cell_type": "markdown",
   "id": "2951d573",
   "metadata": {
    "id": "2951d573"
   },
   "source": [
    "<center>\n",
    "    <img src=\"https://drive.google.com/uc?export=view&id=1cM1XDmvN8zNqN2f0-H-wsGZkJmqxWrzC\"  width=\"700\" />\n",
    "</center>"
   ]
  },
  {
   "cell_type": "markdown",
   "id": "fce0522b",
   "metadata": {
    "id": "fce0522b"
   },
   "source": [
    "- Label encoding menggantikan nilai kategori dengan angka, yaitu mengubah setiap nilai kategori menjadi bilangan bulat. Pendekatan ini bergantung pada urutan nilai dan dapat digunakan untuk variabel kategorikal dengan tingkatan yang terurut.\n",
    "\n",
    "    Pada contoh di atas negara India, Japan, dan US diubah menjadi bilangan 0,1,2 dan masih berada pada kolom di atas\n",
    "    \n",
    "    Keuntungan label encoding adalah sederhana dan efisien dalam representasi data yang membutuhkan perhatian pada urutan. Namun, metode ini juga bisa menimbulkan masalah seperti memberikan bobot pada variabel kategorikal yang seharusnya tidak ada urutan yang intrinsik, yang dapat menyebabkan algoritma pembelajaran mesin memberikan arti yang tidak diinginkan pada variabel tersebut."
   ]
  },
  {
   "cell_type": "markdown",
   "id": "533f3f74",
   "metadata": {
    "id": "533f3f74"
   },
   "source": [
    "- One-hot encoding menghasilkan vektor biner dengan panjang yang sama dengan jumlah kategori unik dalam variabel. Setiap vektor biner memiliki nilai 1 untuk kategori yang relevan dan nilai 0 untuk kategori lainnya. Pada contoh di atas, kolom negara dipecah sesuai isian datanya sehingga membentuk kolom masing-masing seperti India -> kolom 0, Japan -> kolom 1, dan US -> kolom 2\n",
    "\n",
    "    Keuntungan one-hot encoding adalah tidak ada penekanan urutan dan tidak ada bobot yang diberikan pada variabel kategorikal. Ini menghindari masalah yang mungkin timbul dengan label encoding. Namun, jika jumlah kategori unik sangat besar, one-hot encoding dapat menyebabkan ledakan dimensi dan meningkatkan kompleksitas pemrosesan."
   ]
  },
  {
   "cell_type": "code",
   "execution_count": 68,
   "id": "bf97fb84",
   "metadata": {
    "id": "bf97fb84"
   },
   "outputs": [],
   "source": [
    "# 40. Label Encoding - Import Library Sklearn Preprocessing\n",
    "from sklearn.preprocessing import LabelEncoder"
   ]
  },
  {
   "cell_type": "code",
   "execution_count": 69,
   "id": "b3af2c52",
   "metadata": {
    "id": "b3af2c52"
   },
   "outputs": [],
   "source": [
    "# 41. Memuat Dataset\n",
    "df = pd.read_csv(\"delay_maskapai.csv\")"
   ]
  },
  {
   "cell_type": "code",
   "execution_count": 70,
   "id": "d5dfd8fe",
   "metadata": {
    "id": "d5dfd8fe"
   },
   "outputs": [],
   "source": [
    "# 42. Menyimpan nama kolom yang berjenis kategori ke dalam variabel cat_col\n",
    "cat_col = ['Airline','AirportFrom','AirportTo','DayOfWeek']"
   ]
  },
  {
   "cell_type": "code",
   "execution_count": 71,
   "id": "2bd36cd8",
   "metadata": {
    "id": "2bd36cd8"
   },
   "outputs": [],
   "source": [
    "# 43. Encoding Kolom Kategori - Memanggil Objek Label Encoder\n",
    "le = preprocessing.LabelEncoder()\n",
    "\n",
    "# 44. Melakukan Label Encoding\n",
    "df[cat_col] = df[cat_col].apply(le.fit_transform)"
   ]
  },
  {
   "cell_type": "code",
   "execution_count": 72,
   "id": "df5c25d2",
   "metadata": {
    "id": "df5c25d2"
   },
   "outputs": [
    {
     "data": {
      "text/html": [
       "<div>\n",
       "<style scoped>\n",
       "    .dataframe tbody tr th:only-of-type {\n",
       "        vertical-align: middle;\n",
       "    }\n",
       "\n",
       "    .dataframe tbody tr th {\n",
       "        vertical-align: top;\n",
       "    }\n",
       "\n",
       "    .dataframe thead th {\n",
       "        text-align: right;\n",
       "    }\n",
       "</style>\n",
       "<table border=\"1\" class=\"dataframe\">\n",
       "  <thead>\n",
       "    <tr style=\"text-align: right;\">\n",
       "      <th></th>\n",
       "      <th>Flight</th>\n",
       "      <th>Time</th>\n",
       "      <th>Length</th>\n",
       "      <th>Airline</th>\n",
       "      <th>AirportFrom</th>\n",
       "      <th>AirportTo</th>\n",
       "      <th>DayOfWeek</th>\n",
       "      <th>Class</th>\n",
       "    </tr>\n",
       "  </thead>\n",
       "  <tbody>\n",
       "    <tr>\n",
       "      <th>10772</th>\n",
       "      <td>3486.0</td>\n",
       "      <td>450.0</td>\n",
       "      <td>245.0</td>\n",
       "      <td>15</td>\n",
       "      <td>164</td>\n",
       "      <td>199</td>\n",
       "      <td>2</td>\n",
       "      <td>1</td>\n",
       "    </tr>\n",
       "    <tr>\n",
       "      <th>10773</th>\n",
       "      <td>897.0</td>\n",
       "      <td>1019.0</td>\n",
       "      <td>135.0</td>\n",
       "      <td>8</td>\n",
       "      <td>148</td>\n",
       "      <td>128</td>\n",
       "      <td>0</td>\n",
       "      <td>1</td>\n",
       "    </tr>\n",
       "    <tr>\n",
       "      <th>10774</th>\n",
       "      <td>1294.0</td>\n",
       "      <td>1075.0</td>\n",
       "      <td>140.0</td>\n",
       "      <td>1</td>\n",
       "      <td>125</td>\n",
       "      <td>169</td>\n",
       "      <td>6</td>\n",
       "      <td>1</td>\n",
       "    </tr>\n",
       "    <tr>\n",
       "      <th>10775</th>\n",
       "      <td>6474.0</td>\n",
       "      <td>961.0</td>\n",
       "      <td>109.0</td>\n",
       "      <td>12</td>\n",
       "      <td>143</td>\n",
       "      <td>2</td>\n",
       "      <td>2</td>\n",
       "      <td>0</td>\n",
       "    </tr>\n",
       "    <tr>\n",
       "      <th>10776</th>\n",
       "      <td>6509.0</td>\n",
       "      <td>571.0</td>\n",
       "      <td>92.0</td>\n",
       "      <td>12</td>\n",
       "      <td>260</td>\n",
       "      <td>143</td>\n",
       "      <td>2</td>\n",
       "      <td>0</td>\n",
       "    </tr>\n",
       "    <tr>\n",
       "      <th>10777</th>\n",
       "      <td>1679.0</td>\n",
       "      <td>505.0</td>\n",
       "      <td>57.0</td>\n",
       "      <td>4</td>\n",
       "      <td>125</td>\n",
       "      <td>222</td>\n",
       "      <td>0</td>\n",
       "      <td>1</td>\n",
       "    </tr>\n",
       "    <tr>\n",
       "      <th>10778</th>\n",
       "      <td>508.0</td>\n",
       "      <td>480.0</td>\n",
       "      <td>325.0</td>\n",
       "      <td>15</td>\n",
       "      <td>162</td>\n",
       "      <td>142</td>\n",
       "      <td>2</td>\n",
       "      <td>1</td>\n",
       "    </tr>\n",
       "    <tr>\n",
       "      <th>10779</th>\n",
       "      <td>4961.0</td>\n",
       "      <td>999.0</td>\n",
       "      <td>80.0</td>\n",
       "      <td>6</td>\n",
       "      <td>96</td>\n",
       "      <td>13</td>\n",
       "      <td>5</td>\n",
       "      <td>0</td>\n",
       "    </tr>\n",
       "    <tr>\n",
       "      <th>10780</th>\n",
       "      <td>2297.0</td>\n",
       "      <td>560.0</td>\n",
       "      <td>65.0</td>\n",
       "      <td>16</td>\n",
       "      <td>173</td>\n",
       "      <td>53</td>\n",
       "      <td>5</td>\n",
       "      <td>1</td>\n",
       "    </tr>\n",
       "    <tr>\n",
       "      <th>10781</th>\n",
       "      <td>1227.0</td>\n",
       "      <td>645.0</td>\n",
       "      <td>75.0</td>\n",
       "      <td>15</td>\n",
       "      <td>216</td>\n",
       "      <td>198</td>\n",
       "      <td>1</td>\n",
       "      <td>0</td>\n",
       "    </tr>\n",
       "    <tr>\n",
       "      <th>10782</th>\n",
       "      <td>2821.0</td>\n",
       "      <td>610.0</td>\n",
       "      <td>50.0</td>\n",
       "      <td>10</td>\n",
       "      <td>72</td>\n",
       "      <td>244</td>\n",
       "      <td>1</td>\n",
       "      <td>0</td>\n",
       "    </tr>\n",
       "    <tr>\n",
       "      <th>10783</th>\n",
       "      <td>2618.0</td>\n",
       "      <td>839.0</td>\n",
       "      <td>118.0</td>\n",
       "      <td>16</td>\n",
       "      <td>234</td>\n",
       "      <td>87</td>\n",
       "      <td>1</td>\n",
       "      <td>0</td>\n",
       "    </tr>\n",
       "    <tr>\n",
       "      <th>10784</th>\n",
       "      <td>1973.0</td>\n",
       "      <td>1160.0</td>\n",
       "      <td>124.0</td>\n",
       "      <td>5</td>\n",
       "      <td>11</td>\n",
       "      <td>169</td>\n",
       "      <td>1</td>\n",
       "      <td>0</td>\n",
       "    </tr>\n",
       "    <tr>\n",
       "      <th>10785</th>\n",
       "      <td>528.0</td>\n",
       "      <td>1275.0</td>\n",
       "      <td>112.0</td>\n",
       "      <td>14</td>\n",
       "      <td>203</td>\n",
       "      <td>215</td>\n",
       "      <td>3</td>\n",
       "      <td>0</td>\n",
       "    </tr>\n",
       "    <tr>\n",
       "      <th>10786</th>\n",
       "      <td>2254.0</td>\n",
       "      <td>970.0</td>\n",
       "      <td>95.0</td>\n",
       "      <td>5</td>\n",
       "      <td>11</td>\n",
       "      <td>55</td>\n",
       "      <td>3</td>\n",
       "      <td>1</td>\n",
       "    </tr>\n",
       "  </tbody>\n",
       "</table>\n",
       "</div>"
      ],
      "text/plain": [
       "       Flight    Time  Length  Airline  AirportFrom  AirportTo  DayOfWeek   \n",
       "10772  3486.0   450.0   245.0       15          164        199          2  \\\n",
       "10773   897.0  1019.0   135.0        8          148        128          0   \n",
       "10774  1294.0  1075.0   140.0        1          125        169          6   \n",
       "10775  6474.0   961.0   109.0       12          143          2          2   \n",
       "10776  6509.0   571.0    92.0       12          260        143          2   \n",
       "10777  1679.0   505.0    57.0        4          125        222          0   \n",
       "10778   508.0   480.0   325.0       15          162        142          2   \n",
       "10779  4961.0   999.0    80.0        6           96         13          5   \n",
       "10780  2297.0   560.0    65.0       16          173         53          5   \n",
       "10781  1227.0   645.0    75.0       15          216        198          1   \n",
       "10782  2821.0   610.0    50.0       10           72        244          1   \n",
       "10783  2618.0   839.0   118.0       16          234         87          1   \n",
       "10784  1973.0  1160.0   124.0        5           11        169          1   \n",
       "10785   528.0  1275.0   112.0       14          203        215          3   \n",
       "10786  2254.0   970.0    95.0        5           11         55          3   \n",
       "\n",
       "       Class  \n",
       "10772      1  \n",
       "10773      1  \n",
       "10774      1  \n",
       "10775      0  \n",
       "10776      0  \n",
       "10777      1  \n",
       "10778      1  \n",
       "10779      0  \n",
       "10780      1  \n",
       "10781      0  \n",
       "10782      0  \n",
       "10783      0  \n",
       "10784      0  \n",
       "10785      0  \n",
       "10786      1  "
      ]
     },
     "execution_count": 72,
     "metadata": {},
     "output_type": "execute_result"
    }
   ],
   "source": [
    "# 45. Melihat 15 data terakhir\n",
    "df.tail(15)"
   ]
  },
  {
   "cell_type": "code",
   "execution_count": null,
   "id": "dbf7df1b",
   "metadata": {
    "id": "dbf7df1b"
   },
   "outputs": [],
   "source": [
    "# 46. One Hot Encoding - Muat Dataset pada variabel df\n",
    "df = pd.read_csv(\"delay_maskapai.csv\")"
   ]
  },
  {
   "cell_type": "code",
   "execution_count": 73,
   "id": "55509630",
   "metadata": {
    "id": "55509630",
    "scrolled": true
   },
   "outputs": [
    {
     "data": {
      "text/html": [
       "<div>\n",
       "<style scoped>\n",
       "    .dataframe tbody tr th:only-of-type {\n",
       "        vertical-align: middle;\n",
       "    }\n",
       "\n",
       "    .dataframe tbody tr th {\n",
       "        vertical-align: top;\n",
       "    }\n",
       "\n",
       "    .dataframe thead th {\n",
       "        text-align: right;\n",
       "    }\n",
       "</style>\n",
       "<table border=\"1\" class=\"dataframe\">\n",
       "  <thead>\n",
       "    <tr style=\"text-align: right;\">\n",
       "      <th></th>\n",
       "      <th>Flight</th>\n",
       "      <th>Time</th>\n",
       "      <th>Length</th>\n",
       "      <th>Class</th>\n",
       "      <th>Airline_1</th>\n",
       "      <th>Airline_2</th>\n",
       "      <th>Airline_3</th>\n",
       "      <th>Airline_4</th>\n",
       "      <th>Airline_5</th>\n",
       "      <th>Airline_6</th>\n",
       "      <th>...</th>\n",
       "      <th>AirportTo_261</th>\n",
       "      <th>AirportTo_262</th>\n",
       "      <th>AirportTo_263</th>\n",
       "      <th>AirportTo_264</th>\n",
       "      <th>DayOfWeek_1</th>\n",
       "      <th>DayOfWeek_2</th>\n",
       "      <th>DayOfWeek_3</th>\n",
       "      <th>DayOfWeek_4</th>\n",
       "      <th>DayOfWeek_5</th>\n",
       "      <th>DayOfWeek_6</th>\n",
       "    </tr>\n",
       "  </thead>\n",
       "  <tbody>\n",
       "    <tr>\n",
       "      <th>0</th>\n",
       "      <td>320.0</td>\n",
       "      <td>870.0</td>\n",
       "      <td>180.0</td>\n",
       "      <td>0</td>\n",
       "      <td>False</td>\n",
       "      <td>False</td>\n",
       "      <td>False</td>\n",
       "      <td>True</td>\n",
       "      <td>False</td>\n",
       "      <td>False</td>\n",
       "      <td>...</td>\n",
       "      <td>False</td>\n",
       "      <td>False</td>\n",
       "      <td>False</td>\n",
       "      <td>False</td>\n",
       "      <td>False</td>\n",
       "      <td>False</td>\n",
       "      <td>False</td>\n",
       "      <td>True</td>\n",
       "      <td>False</td>\n",
       "      <td>False</td>\n",
       "    </tr>\n",
       "    <tr>\n",
       "      <th>1</th>\n",
       "      <td>3045.0</td>\n",
       "      <td>365.0</td>\n",
       "      <td>66.0</td>\n",
       "      <td>0</td>\n",
       "      <td>False</td>\n",
       "      <td>False</td>\n",
       "      <td>False</td>\n",
       "      <td>False</td>\n",
       "      <td>False</td>\n",
       "      <td>False</td>\n",
       "      <td>...</td>\n",
       "      <td>False</td>\n",
       "      <td>False</td>\n",
       "      <td>False</td>\n",
       "      <td>False</td>\n",
       "      <td>True</td>\n",
       "      <td>False</td>\n",
       "      <td>False</td>\n",
       "      <td>False</td>\n",
       "      <td>False</td>\n",
       "      <td>False</td>\n",
       "    </tr>\n",
       "    <tr>\n",
       "      <th>2</th>\n",
       "      <td>1560.0</td>\n",
       "      <td>740.0</td>\n",
       "      <td>257.0</td>\n",
       "      <td>0</td>\n",
       "      <td>False</td>\n",
       "      <td>False</td>\n",
       "      <td>False</td>\n",
       "      <td>False</td>\n",
       "      <td>True</td>\n",
       "      <td>False</td>\n",
       "      <td>...</td>\n",
       "      <td>False</td>\n",
       "      <td>False</td>\n",
       "      <td>False</td>\n",
       "      <td>False</td>\n",
       "      <td>False</td>\n",
       "      <td>False</td>\n",
       "      <td>False</td>\n",
       "      <td>False</td>\n",
       "      <td>False</td>\n",
       "      <td>True</td>\n",
       "    </tr>\n",
       "    <tr>\n",
       "      <th>3</th>\n",
       "      <td>1156.0</td>\n",
       "      <td>595.0</td>\n",
       "      <td>235.0</td>\n",
       "      <td>1</td>\n",
       "      <td>False</td>\n",
       "      <td>False</td>\n",
       "      <td>False</td>\n",
       "      <td>False</td>\n",
       "      <td>False</td>\n",
       "      <td>False</td>\n",
       "      <td>...</td>\n",
       "      <td>False</td>\n",
       "      <td>False</td>\n",
       "      <td>False</td>\n",
       "      <td>False</td>\n",
       "      <td>False</td>\n",
       "      <td>False</td>\n",
       "      <td>False</td>\n",
       "      <td>False</td>\n",
       "      <td>False</td>\n",
       "      <td>True</td>\n",
       "    </tr>\n",
       "    <tr>\n",
       "      <th>4</th>\n",
       "      <td>1873.0</td>\n",
       "      <td>530.0</td>\n",
       "      <td>133.0</td>\n",
       "      <td>1</td>\n",
       "      <td>False</td>\n",
       "      <td>False</td>\n",
       "      <td>False</td>\n",
       "      <td>True</td>\n",
       "      <td>False</td>\n",
       "      <td>False</td>\n",
       "      <td>...</td>\n",
       "      <td>False</td>\n",
       "      <td>False</td>\n",
       "      <td>False</td>\n",
       "      <td>False</td>\n",
       "      <td>False</td>\n",
       "      <td>False</td>\n",
       "      <td>False</td>\n",
       "      <td>False</td>\n",
       "      <td>True</td>\n",
       "      <td>False</td>\n",
       "    </tr>\n",
       "  </tbody>\n",
       "</table>\n",
       "<p>5 rows × 560 columns</p>\n",
       "</div>"
      ],
      "text/plain": [
       "   Flight   Time  Length  Class  Airline_1  Airline_2  Airline_3  Airline_4   \n",
       "0   320.0  870.0   180.0      0      False      False      False       True  \\\n",
       "1  3045.0  365.0    66.0      0      False      False      False      False   \n",
       "2  1560.0  740.0   257.0      0      False      False      False      False   \n",
       "3  1156.0  595.0   235.0      1      False      False      False      False   \n",
       "4  1873.0  530.0   133.0      1      False      False      False       True   \n",
       "\n",
       "   Airline_5  Airline_6  ...  AirportTo_261  AirportTo_262  AirportTo_263   \n",
       "0      False      False  ...          False          False          False  \\\n",
       "1      False      False  ...          False          False          False   \n",
       "2       True      False  ...          False          False          False   \n",
       "3      False      False  ...          False          False          False   \n",
       "4      False      False  ...          False          False          False   \n",
       "\n",
       "   AirportTo_264  DayOfWeek_1  DayOfWeek_2  DayOfWeek_3  DayOfWeek_4   \n",
       "0          False        False        False        False         True  \\\n",
       "1          False         True        False        False        False   \n",
       "2          False        False        False        False        False   \n",
       "3          False        False        False        False        False   \n",
       "4          False        False        False        False        False   \n",
       "\n",
       "   DayOfWeek_5  DayOfWeek_6  \n",
       "0        False        False  \n",
       "1        False        False  \n",
       "2        False         True  \n",
       "3        False         True  \n",
       "4         True        False  \n",
       "\n",
       "[5 rows x 560 columns]"
      ]
     },
     "execution_count": 73,
     "metadata": {},
     "output_type": "execute_result"
    }
   ],
   "source": [
    "# 47 Menyimpan nama kolom yang berjenis kategori ke dalam variabel cat_col\n",
    "cat_col = ['Airline','AirportFrom','AirportTo','DayOfWeek']\n",
    "\n",
    "# 48. Melakukan One Hot Encoding\n",
    "df = pd.get_dummies(data=df,columns=cat_col,drop_first=True)\n",
    "df.head()"
   ]
  },
  {
   "cell_type": "markdown",
   "id": "e7f4e39f",
   "metadata": {
    "id": "e7f4e39f"
   },
   "source": [
    "### 8. Menganalisa Akurasi Pelabelan Data\n",
    "---"
   ]
  },
  {
   "cell_type": "markdown",
   "id": "772acfe3",
   "metadata": {
    "id": "772acfe3"
   },
   "source": [
    "- Business Goals suatu AI  yang berbeda memerlukan ukuran kualitas data yang berbeda. \n",
    "\n",
    "- Keseimbangan dan variasi titik data di dalam dataset merupakan indikator seberapa baik algoritma dapat memprediksi suatu titik atau pola selanjutnya. \n",
    "\n",
    "- Misal tugas suatu AI adalah membedakan antara kendaraan yang bergerak dan tidak bergerak. Jika dataset memuat 90% gambar mobil bergerak tetapi hanya 10% yang diparkir, maka dapat dianggap tidak seimbang. \n",
    "\n",
    "- Untuk mengatasi masalah ini dapat digunakan teknik seperti oversampling, downsampling atau weight balancing.\n",
    "\n",
    "- Kualitas data set untuk pelatihan model sering ditentukan oleh seberapa tepat label dan kategori ditempatkan pada setiap titik data. \n",
    "- Namun, bukan hanya tentang keakuratan pelabelan data tetapi juga tentang seberapa konsisten keakuratannya. \n",
    "    - Akurasi dan konsistensi data diukur selama proses penjaminan mutu, langkah-langkah terpisah yang dapat dilakukan secara manual atau otomatis.\n",
    "    - Pendekatan yang berbeda dapat digabungkan untuk cross check dan memastikan kesempurnaan data set.\n",
    "\n",
    "\n"
   ]
  },
  {
   "cell_type": "markdown",
   "id": "febade7f",
   "metadata": {
    "id": "febade7f"
   },
   "source": [
    "<center>\n",
    "    <img src=\"https://drive.google.com/uc?export=view&id=1xwwQEO-nB993e8UB4V37lrzIl04jagxM\"  width=\"500\" />\n",
    "</center>"
   ]
  },
  {
   "cell_type": "markdown",
   "id": "a04093ea",
   "metadata": {
    "id": "a04093ea"
   },
   "source": [
    "#### Apa yang mempengaruhi kualitas data dalam pelabelan?\n"
   ]
  },
  {
   "cell_type": "markdown",
   "id": "6fc6bc00",
   "metadata": {
    "id": "6fc6bc00"
   },
   "source": [
    "- Knowledge and context\n",
    "    - Pengetahuan dasar satu domain dan pemahaman kontekstual sangat penting seperti pemberi label untuk membuat set data terstruktur berkualitas tinggi.\n",
    "- Agility\n",
    "    - Pelabelan data berkembang saat dilakukan pengujian dan validasi model, sehingga harus disiapkan data set baru dan memperkaya data set yang ada untuk meningkatkan hasil algoritma Machine Learning.\n",
    "- Relationship\n",
    "    - Kita memerlukan pemberi label data yang dapat merespons dengan cepat dan mengikuti alur kerja tim, berdasarkan apa yang telah dipelajari dalam fase pengujian dan validasi model.\n",
    "- Communication\n",
    "    - Pendekatan umpan balik (feedback) adalah cara terbaik untuk membangun komunikasi dan kolaborasi yang andal antara tim dan pemberi label data.\n"
   ]
  },
  {
   "cell_type": "markdown",
   "id": "454bdb5c",
   "metadata": {
    "id": "454bdb5c"
   },
   "source": [
    "### 9. Metode QA untuk Mengukur Kualitas Data\n",
    "---"
   ]
  },
  {
   "cell_type": "markdown",
   "id": "7051f717",
   "metadata": {
    "id": "7051f717"
   },
   "source": [
    "- Consensus Algorithm\n",
    "    - Merupakan proses untuk mencapai reliabilitas data melalui kesepakatan pada satu titik data di antara beberapa individu pemberi label data atau suatu organisasi. \n",
    "    - Konsensus dapat dilakukan dengan menetapkan sejumlah reviewer per titik data (umumnya untuk data open source) atau sepenuhnya otomatis.\n",
    "\n",
    "- Benchmarking and Gold Standard\n",
    "    - Benchmarking adalah pendekatan yang lebih kompleks dan andal untuk QA, karena menggunakan standar tertentu.\n",
    "    - Menggunakan otomatisasi, pemberi label mendapatkan benchmark secara acak untuk memastikan bahwa label dan anotasi mematuhi referensi yang telah ditentukan\n",
    "    - Ahli diperlukan hanya untuk membuat referensi dan meninjau kualitas secara keseluruhan dan potensi penyimpangan.\n",
    "    \n",
    "- Sample review\n",
    "    - Pilih sampel acak dari hasil pelabelan yang telah diselesaikan.\n",
    "    - Pekerja yang lebih berpengalaman, seperti pemimpin tim atau manajer proyek, dapat meninjau sampel untuk mengukur akurasinya.\n",
    "\n",
    "- Cronbach's Alpha Test\n",
    "    - Digunakan sebagai ukuran korelasi rata-rata atau konsistensi item dalam dataset, yang tergantung pada karakteristik penelitian (misal homogenitas).\n",
    "    - Dapat membantu dengan cepat melihat keandalan label secara keseluruhan.\n",
    "\n"
   ]
  },
  {
   "cell_type": "markdown",
   "id": "d4116d8c",
   "metadata": {
    "id": "d4116d8c"
   },
   "source": [
    "### 10.Keamanan Pelabelan Data\n",
    "---"
   ]
  },
  {
   "cell_type": "markdown",
   "id": "265836cc",
   "metadata": {
    "id": "265836cc"
   },
   "source": [
    "Tiga area yang perlu menjadi perhatian untuk menjaga keamanan dokumen\n",
    "- **Orang dan Tenaga Kerja** : Ini dapat mencakup pemeriksaan latar belakang untuk pekerja dan mungkin mengharuskan pemberi label untuk menandatangani perjanjian kerahasiaan (NDA) atau dokumen serupa yang menguraikan persyaratan keamanan data.\n",
    "- **Teknologi dan Jaringan** : Pekerja mungkin diminta untuk menyerahkan perangkat yang mereka bawa ke tempat kerja, seperti ponsel atau tablet.\n",
    "- **Fasilitas dan Ruang Kerja** : Pekerja dapat duduk di tempat yang menghalangi orang lain untuk melihat pekerjaan mereka.\n"
   ]
  }
 ],
 "metadata": {
  "colab": {
   "provenance": []
  },
  "kernelspec": {
   "display_name": "Python 3 (ipykernel)",
   "language": "python",
   "name": "python3"
  },
  "language_info": {
   "codemirror_mode": {
    "name": "ipython",
    "version": 3
   },
   "file_extension": ".py",
   "mimetype": "text/x-python",
   "name": "python",
   "nbconvert_exporter": "python",
   "pygments_lexer": "ipython3",
   "version": "3.8.0"
  }
 },
 "nbformat": 4,
 "nbformat_minor": 5
}
