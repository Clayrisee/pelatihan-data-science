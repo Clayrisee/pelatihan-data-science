{
 "cells": [
  {
   "cell_type": "markdown",
   "id": "30fce050",
   "metadata": {
    "id": "30fce050"
   },
   "source": [
    "<center>\n",
    "    <img src=\"https://drive.google.com/uc?export=view&id=1hDKusF04c0lNZA_qOShvWQrpImayVKz8\"  width=\"1000\" />\n",
    "</center>"
   ]
  },
  {
   "cell_type": "markdown",
   "id": "78957aef",
   "metadata": {
    "id": "78957aef"
   },
   "source": [
    "# Tugas Mandiri\n",
    "---\n",
    "Tugas mandiri ini digunakan pada kegiatan Kursus Data Science yang merupakan pembekalan bagi mahasiswa Universitas Gunadarma untuk Skema Associate Data Scientist"
   ]
  },
  {
   "cell_type": "markdown",
   "id": "e1d3e6a4",
   "metadata": {
    "id": "e1d3e6a4"
   },
   "source": [
    "### Pertemuan 2 - Semester 8"
   ]
  },
  {
   "cell_type": "markdown",
   "id": "72ec6d5d",
   "metadata": {
    "id": "72ec6d5d"
   },
   "source": [
    "## Tugas Mandiri Data Preparation\n",
    "---"
   ]
  },
  {
   "cell_type": "code",
   "execution_count": 2,
   "id": "eda21257",
   "metadata": {
    "id": "eda21257"
   },
   "outputs": [],
   "source": [
    "# 1. Import Library Pandas\n",
    "import pandas as pd"
   ]
  },
  {
   "cell_type": "code",
   "execution_count": 3,
   "id": "5cf8c0b9",
   "metadata": {
    "id": "5cf8c0b9"
   },
   "outputs": [],
   "source": [
    "# 2. Memuat data berformat CSV\n",
    "df = pd.read_csv(\"delay_maskapai.csv\")"
   ]
  },
  {
   "cell_type": "code",
   "execution_count": 4,
   "id": "b87cbba4",
   "metadata": {
    "id": "b87cbba4"
   },
   "outputs": [
    {
     "data": {
      "text/html": [
       "<div>\n",
       "<style scoped>\n",
       "    .dataframe tbody tr th:only-of-type {\n",
       "        vertical-align: middle;\n",
       "    }\n",
       "\n",
       "    .dataframe tbody tr th {\n",
       "        vertical-align: top;\n",
       "    }\n",
       "\n",
       "    .dataframe thead th {\n",
       "        text-align: right;\n",
       "    }\n",
       "</style>\n",
       "<table border=\"1\" class=\"dataframe\">\n",
       "  <thead>\n",
       "    <tr style=\"text-align: right;\">\n",
       "      <th></th>\n",
       "      <th>Flight</th>\n",
       "      <th>Time</th>\n",
       "      <th>Length</th>\n",
       "      <th>Airline</th>\n",
       "      <th>AirportFrom</th>\n",
       "      <th>AirportTo</th>\n",
       "      <th>DayOfWeek</th>\n",
       "      <th>Class</th>\n",
       "    </tr>\n",
       "  </thead>\n",
       "  <tbody>\n",
       "    <tr>\n",
       "      <th>0</th>\n",
       "      <td>320.0</td>\n",
       "      <td>870.0</td>\n",
       "      <td>180.0</td>\n",
       "      <td>CO</td>\n",
       "      <td>IAH</td>\n",
       "      <td>PHX</td>\n",
       "      <td>5</td>\n",
       "      <td>0</td>\n",
       "    </tr>\n",
       "    <tr>\n",
       "      <th>1</th>\n",
       "      <td>3045.0</td>\n",
       "      <td>365.0</td>\n",
       "      <td>66.0</td>\n",
       "      <td>OO</td>\n",
       "      <td>DSM</td>\n",
       "      <td>MKE</td>\n",
       "      <td>2</td>\n",
       "      <td>0</td>\n",
       "    </tr>\n",
       "    <tr>\n",
       "      <th>2</th>\n",
       "      <td>1560.0</td>\n",
       "      <td>740.0</td>\n",
       "      <td>257.0</td>\n",
       "      <td>DL</td>\n",
       "      <td>SEA</td>\n",
       "      <td>CVG</td>\n",
       "      <td>7</td>\n",
       "      <td>0</td>\n",
       "    </tr>\n",
       "    <tr>\n",
       "      <th>3</th>\n",
       "      <td>1156.0</td>\n",
       "      <td>595.0</td>\n",
       "      <td>235.0</td>\n",
       "      <td>WN</td>\n",
       "      <td>SNA</td>\n",
       "      <td>MDW</td>\n",
       "      <td>7</td>\n",
       "      <td>1</td>\n",
       "    </tr>\n",
       "    <tr>\n",
       "      <th>4</th>\n",
       "      <td>1873.0</td>\n",
       "      <td>530.0</td>\n",
       "      <td>133.0</td>\n",
       "      <td>CO</td>\n",
       "      <td>IAH</td>\n",
       "      <td>MCO</td>\n",
       "      <td>6</td>\n",
       "      <td>1</td>\n",
       "    </tr>\n",
       "  </tbody>\n",
       "</table>\n",
       "</div>"
      ],
      "text/plain": [
       "   Flight   Time  Length Airline AirportFrom AirportTo  DayOfWeek  Class\n",
       "0   320.0  870.0   180.0      CO         IAH       PHX          5      0\n",
       "1  3045.0  365.0    66.0      OO         DSM       MKE          2      0\n",
       "2  1560.0  740.0   257.0      DL         SEA       CVG          7      0\n",
       "3  1156.0  595.0   235.0      WN         SNA       MDW          7      1\n",
       "4  1873.0  530.0   133.0      CO         IAH       MCO          6      1"
      ]
     },
     "execution_count": 4,
     "metadata": {},
     "output_type": "execute_result"
    }
   ],
   "source": [
    "# 3. Menampilkan 5 baris teratas dari dataset \n",
    "df.head(5)"
   ]
  },
  {
   "cell_type": "code",
   "execution_count": 5,
   "id": "239bf271-5a11-42c7-ad8a-1517194dff42",
   "metadata": {},
   "outputs": [
    {
     "data": {
      "text/html": [
       "<div>\n",
       "<style scoped>\n",
       "    .dataframe tbody tr th:only-of-type {\n",
       "        vertical-align: middle;\n",
       "    }\n",
       "\n",
       "    .dataframe tbody tr th {\n",
       "        vertical-align: top;\n",
       "    }\n",
       "\n",
       "    .dataframe thead th {\n",
       "        text-align: right;\n",
       "    }\n",
       "</style>\n",
       "<table border=\"1\" class=\"dataframe\">\n",
       "  <thead>\n",
       "    <tr style=\"text-align: right;\">\n",
       "      <th></th>\n",
       "      <th>Flight</th>\n",
       "      <th>Time</th>\n",
       "      <th>Length</th>\n",
       "      <th>DayOfWeek</th>\n",
       "      <th>Class</th>\n",
       "    </tr>\n",
       "  </thead>\n",
       "  <tbody>\n",
       "    <tr>\n",
       "      <th>count</th>\n",
       "      <td>10787.000000</td>\n",
       "      <td>10787.000000</td>\n",
       "      <td>10787.000000</td>\n",
       "      <td>10787.000000</td>\n",
       "      <td>10787.000000</td>\n",
       "    </tr>\n",
       "    <tr>\n",
       "      <th>mean</th>\n",
       "      <td>2435.506999</td>\n",
       "      <td>803.193566</td>\n",
       "      <td>133.346621</td>\n",
       "      <td>3.895430</td>\n",
       "      <td>0.447576</td>\n",
       "    </tr>\n",
       "    <tr>\n",
       "      <th>std</th>\n",
       "      <td>2071.935213</td>\n",
       "      <td>276.976027</td>\n",
       "      <td>71.598884</td>\n",
       "      <td>1.923294</td>\n",
       "      <td>0.497267</td>\n",
       "    </tr>\n",
       "    <tr>\n",
       "      <th>min</th>\n",
       "      <td>1.000000</td>\n",
       "      <td>15.000000</td>\n",
       "      <td>29.000000</td>\n",
       "      <td>1.000000</td>\n",
       "      <td>0.000000</td>\n",
       "    </tr>\n",
       "    <tr>\n",
       "      <th>25%</th>\n",
       "      <td>720.000000</td>\n",
       "      <td>567.000000</td>\n",
       "      <td>81.000000</td>\n",
       "      <td>2.000000</td>\n",
       "      <td>0.000000</td>\n",
       "    </tr>\n",
       "    <tr>\n",
       "      <th>50%</th>\n",
       "      <td>1798.000000</td>\n",
       "      <td>795.000000</td>\n",
       "      <td>116.000000</td>\n",
       "      <td>4.000000</td>\n",
       "      <td>0.000000</td>\n",
       "    </tr>\n",
       "    <tr>\n",
       "      <th>75%</th>\n",
       "      <td>3785.500000</td>\n",
       "      <td>1035.000000</td>\n",
       "      <td>164.000000</td>\n",
       "      <td>5.000000</td>\n",
       "      <td>1.000000</td>\n",
       "    </tr>\n",
       "    <tr>\n",
       "      <th>max</th>\n",
       "      <td>7812.000000</td>\n",
       "      <td>1439.000000</td>\n",
       "      <td>655.000000</td>\n",
       "      <td>7.000000</td>\n",
       "      <td>1.000000</td>\n",
       "    </tr>\n",
       "  </tbody>\n",
       "</table>\n",
       "</div>"
      ],
      "text/plain": [
       "             Flight          Time        Length     DayOfWeek         Class\n",
       "count  10787.000000  10787.000000  10787.000000  10787.000000  10787.000000\n",
       "mean    2435.506999    803.193566    133.346621      3.895430      0.447576\n",
       "std     2071.935213    276.976027     71.598884      1.923294      0.497267\n",
       "min        1.000000     15.000000     29.000000      1.000000      0.000000\n",
       "25%      720.000000    567.000000     81.000000      2.000000      0.000000\n",
       "50%     1798.000000    795.000000    116.000000      4.000000      0.000000\n",
       "75%     3785.500000   1035.000000    164.000000      5.000000      1.000000\n",
       "max     7812.000000   1439.000000    655.000000      7.000000      1.000000"
      ]
     },
     "execution_count": 5,
     "metadata": {},
     "output_type": "execute_result"
    }
   ],
   "source": [
    "df.describe()"
   ]
  },
  {
   "cell_type": "code",
   "execution_count": 6,
   "id": "e23d6908-475a-48fb-8c6a-de8d7d3d45e2",
   "metadata": {},
   "outputs": [
    {
     "name": "stdout",
     "output_type": "stream",
     "text": [
      "<class 'pandas.core.frame.DataFrame'>\n",
      "RangeIndex: 10787 entries, 0 to 10786\n",
      "Data columns (total 8 columns):\n",
      " #   Column       Non-Null Count  Dtype  \n",
      "---  ------       --------------  -----  \n",
      " 0   Flight       10787 non-null  float64\n",
      " 1   Time         10787 non-null  float64\n",
      " 2   Length       10787 non-null  float64\n",
      " 3   Airline      10787 non-null  object \n",
      " 4   AirportFrom  10787 non-null  object \n",
      " 5   AirportTo    10787 non-null  object \n",
      " 6   DayOfWeek    10787 non-null  int64  \n",
      " 7   Class        10787 non-null  int64  \n",
      "dtypes: float64(3), int64(2), object(3)\n",
      "memory usage: 674.3+ KB\n"
     ]
    }
   ],
   "source": [
    "df.info()"
   ]
  },
  {
   "cell_type": "markdown",
   "id": "d54d4ce9-156e-4491-bd2f-f1bda4f55192",
   "metadata": {},
   "source": [
    "Dari Hasil Preparasi di awal didapatkan bahwa:\n",
    "1. Feature dataset tidak ada yang null\n",
    "2. Terdapat 3 buah feature float64 dan 3 buah feature categorical"
   ]
  },
  {
   "cell_type": "markdown",
   "id": "1cef38e3",
   "metadata": {
    "id": "1cef38e3"
   },
   "source": [
    "#### Data cleansing - membuang kolom\n",
    "Dari dataset di atas dapat diketahui bahwa kolom Flight merupakan kolom untuk ID masing-masing penerbangan, kolom ini dapat dibuang karena tidak memiliki makna rill. Untuk membuang kolom dapat menggunakan fungsi iloc maupun drop, berikut adalah perbedaan penggunaan loc dan iloc"
   ]
  },
  {
   "cell_type": "markdown",
   "id": "b5852583",
   "metadata": {
    "id": "b5852583"
   },
   "source": [
    "<center>\n",
    "    <img src=\"https://miro.medium.com/v2/resize:fit:1400/1*dYtynwab99wnMqfgyPUd3w.png\"  width=\"500\" />\n",
    "</center>"
   ]
  },
  {
   "cell_type": "code",
   "execution_count": 7,
   "id": "d87ff210",
   "metadata": {
    "id": "d87ff210"
   },
   "outputs": [],
   "source": [
    "# 4. Memuat dataset\n",
    "df_drop1 = pd.read_csv('delay_maskapai.csv')"
   ]
  },
  {
   "cell_type": "code",
   "execution_count": 8,
   "id": "de1930ff",
   "metadata": {
    "id": "de1930ff"
   },
   "outputs": [
    {
     "data": {
      "text/html": [
       "<div>\n",
       "<style scoped>\n",
       "    .dataframe tbody tr th:only-of-type {\n",
       "        vertical-align: middle;\n",
       "    }\n",
       "\n",
       "    .dataframe tbody tr th {\n",
       "        vertical-align: top;\n",
       "    }\n",
       "\n",
       "    .dataframe thead th {\n",
       "        text-align: right;\n",
       "    }\n",
       "</style>\n",
       "<table border=\"1\" class=\"dataframe\">\n",
       "  <thead>\n",
       "    <tr style=\"text-align: right;\">\n",
       "      <th></th>\n",
       "      <th>Flight</th>\n",
       "      <th>Time</th>\n",
       "      <th>Length</th>\n",
       "      <th>Airline</th>\n",
       "      <th>AirportFrom</th>\n",
       "      <th>AirportTo</th>\n",
       "      <th>DayOfWeek</th>\n",
       "      <th>Class</th>\n",
       "    </tr>\n",
       "  </thead>\n",
       "  <tbody>\n",
       "    <tr>\n",
       "      <th>0</th>\n",
       "      <td>320.0</td>\n",
       "      <td>870.0</td>\n",
       "      <td>180.0</td>\n",
       "      <td>CO</td>\n",
       "      <td>IAH</td>\n",
       "      <td>PHX</td>\n",
       "      <td>5</td>\n",
       "      <td>0</td>\n",
       "    </tr>\n",
       "    <tr>\n",
       "      <th>1</th>\n",
       "      <td>3045.0</td>\n",
       "      <td>365.0</td>\n",
       "      <td>66.0</td>\n",
       "      <td>OO</td>\n",
       "      <td>DSM</td>\n",
       "      <td>MKE</td>\n",
       "      <td>2</td>\n",
       "      <td>0</td>\n",
       "    </tr>\n",
       "    <tr>\n",
       "      <th>2</th>\n",
       "      <td>1560.0</td>\n",
       "      <td>740.0</td>\n",
       "      <td>257.0</td>\n",
       "      <td>DL</td>\n",
       "      <td>SEA</td>\n",
       "      <td>CVG</td>\n",
       "      <td>7</td>\n",
       "      <td>0</td>\n",
       "    </tr>\n",
       "    <tr>\n",
       "      <th>3</th>\n",
       "      <td>1156.0</td>\n",
       "      <td>595.0</td>\n",
       "      <td>235.0</td>\n",
       "      <td>WN</td>\n",
       "      <td>SNA</td>\n",
       "      <td>MDW</td>\n",
       "      <td>7</td>\n",
       "      <td>1</td>\n",
       "    </tr>\n",
       "    <tr>\n",
       "      <th>4</th>\n",
       "      <td>1873.0</td>\n",
       "      <td>530.0</td>\n",
       "      <td>133.0</td>\n",
       "      <td>CO</td>\n",
       "      <td>IAH</td>\n",
       "      <td>MCO</td>\n",
       "      <td>6</td>\n",
       "      <td>1</td>\n",
       "    </tr>\n",
       "  </tbody>\n",
       "</table>\n",
       "</div>"
      ],
      "text/plain": [
       "   Flight   Time  Length Airline AirportFrom AirportTo  DayOfWeek  Class\n",
       "0   320.0  870.0   180.0      CO         IAH       PHX          5      0\n",
       "1  3045.0  365.0    66.0      OO         DSM       MKE          2      0\n",
       "2  1560.0  740.0   257.0      DL         SEA       CVG          7      0\n",
       "3  1156.0  595.0   235.0      WN         SNA       MDW          7      1\n",
       "4  1873.0  530.0   133.0      CO         IAH       MCO          6      1"
      ]
     },
     "execution_count": 8,
     "metadata": {},
     "output_type": "execute_result"
    }
   ],
   "source": [
    "# 5. Menampilkan 5 baris pertama dari dataset\n",
    "df_drop1.head()"
   ]
  },
  {
   "cell_type": "code",
   "execution_count": 9,
   "id": "67c8a52f-d331-4f82-b2ee-a2bb0cece415",
   "metadata": {},
   "outputs": [
    {
     "name": "stdout",
     "output_type": "stream",
     "text": [
      "<class 'pandas.core.frame.DataFrame'>\n",
      "RangeIndex: 10787 entries, 0 to 10786\n",
      "Data columns (total 8 columns):\n",
      " #   Column       Non-Null Count  Dtype  \n",
      "---  ------       --------------  -----  \n",
      " 0   Flight       10787 non-null  float64\n",
      " 1   Time         10787 non-null  float64\n",
      " 2   Length       10787 non-null  float64\n",
      " 3   Airline      10787 non-null  object \n",
      " 4   AirportFrom  10787 non-null  object \n",
      " 5   AirportTo    10787 non-null  object \n",
      " 6   DayOfWeek    10787 non-null  int64  \n",
      " 7   Class        10787 non-null  int64  \n",
      "dtypes: float64(3), int64(2), object(3)\n",
      "memory usage: 674.3+ KB\n"
     ]
    }
   ],
   "source": [
    "df_drop1.info()"
   ]
  },
  {
   "cell_type": "code",
   "execution_count": 11,
   "id": "39447613",
   "metadata": {
    "id": "39447613"
   },
   "outputs": [],
   "source": [
    "# 6. Pada variabel df_drop1 pilihlah hanya kolom Airline, AirportFrom, AirportTo\n",
    "df_drop1 = df[[\"Airline\", \"AirportFrom\", \"AirportTo\"]]"
   ]
  },
  {
   "cell_type": "code",
   "execution_count": 12,
   "id": "78df5b8a",
   "metadata": {
    "id": "78df5b8a",
    "scrolled": true
   },
   "outputs": [
    {
     "data": {
      "text/html": [
       "<div>\n",
       "<style scoped>\n",
       "    .dataframe tbody tr th:only-of-type {\n",
       "        vertical-align: middle;\n",
       "    }\n",
       "\n",
       "    .dataframe tbody tr th {\n",
       "        vertical-align: top;\n",
       "    }\n",
       "\n",
       "    .dataframe thead th {\n",
       "        text-align: right;\n",
       "    }\n",
       "</style>\n",
       "<table border=\"1\" class=\"dataframe\">\n",
       "  <thead>\n",
       "    <tr style=\"text-align: right;\">\n",
       "      <th></th>\n",
       "      <th>Airline</th>\n",
       "      <th>AirportFrom</th>\n",
       "      <th>AirportTo</th>\n",
       "    </tr>\n",
       "  </thead>\n",
       "  <tbody>\n",
       "    <tr>\n",
       "      <th>0</th>\n",
       "      <td>CO</td>\n",
       "      <td>IAH</td>\n",
       "      <td>PHX</td>\n",
       "    </tr>\n",
       "    <tr>\n",
       "      <th>1</th>\n",
       "      <td>OO</td>\n",
       "      <td>DSM</td>\n",
       "      <td>MKE</td>\n",
       "    </tr>\n",
       "    <tr>\n",
       "      <th>2</th>\n",
       "      <td>DL</td>\n",
       "      <td>SEA</td>\n",
       "      <td>CVG</td>\n",
       "    </tr>\n",
       "    <tr>\n",
       "      <th>3</th>\n",
       "      <td>WN</td>\n",
       "      <td>SNA</td>\n",
       "      <td>MDW</td>\n",
       "    </tr>\n",
       "    <tr>\n",
       "      <th>4</th>\n",
       "      <td>CO</td>\n",
       "      <td>IAH</td>\n",
       "      <td>MCO</td>\n",
       "    </tr>\n",
       "  </tbody>\n",
       "</table>\n",
       "</div>"
      ],
      "text/plain": [
       "  Airline AirportFrom AirportTo\n",
       "0      CO         IAH       PHX\n",
       "1      OO         DSM       MKE\n",
       "2      DL         SEA       CVG\n",
       "3      WN         SNA       MDW\n",
       "4      CO         IAH       MCO"
      ]
     },
     "execution_count": 12,
     "metadata": {},
     "output_type": "execute_result"
    }
   ],
   "source": [
    "df_drop1.head()"
   ]
  },
  {
   "cell_type": "code",
   "execution_count": 13,
   "id": "bf210f41",
   "metadata": {
    "id": "bf210f41"
   },
   "outputs": [],
   "source": [
    "# 7. Memuat Dataset ke dalam variabel df_drop2\n",
    "df_drop2 = pd.read_csv('delay_maskapai.csv')"
   ]
  },
  {
   "cell_type": "code",
   "execution_count": 22,
   "id": "65bb90fe-121a-4256-bfa1-9f10ad597a6a",
   "metadata": {},
   "outputs": [
    {
     "data": {
      "text/html": [
       "<div>\n",
       "<style scoped>\n",
       "    .dataframe tbody tr th:only-of-type {\n",
       "        vertical-align: middle;\n",
       "    }\n",
       "\n",
       "    .dataframe tbody tr th {\n",
       "        vertical-align: top;\n",
       "    }\n",
       "\n",
       "    .dataframe thead th {\n",
       "        text-align: right;\n",
       "    }\n",
       "</style>\n",
       "<table border=\"1\" class=\"dataframe\">\n",
       "  <thead>\n",
       "    <tr style=\"text-align: right;\">\n",
       "      <th></th>\n",
       "      <th>Flight</th>\n",
       "      <th>Time</th>\n",
       "      <th>Length</th>\n",
       "      <th>Airline</th>\n",
       "      <th>AirportFrom</th>\n",
       "      <th>AirportTo</th>\n",
       "      <th>DayOfWeek</th>\n",
       "      <th>Class</th>\n",
       "    </tr>\n",
       "  </thead>\n",
       "  <tbody>\n",
       "    <tr>\n",
       "      <th>0</th>\n",
       "      <td>320.0</td>\n",
       "      <td>870.0</td>\n",
       "      <td>180.0</td>\n",
       "      <td>CO</td>\n",
       "      <td>IAH</td>\n",
       "      <td>PHX</td>\n",
       "      <td>5</td>\n",
       "      <td>0</td>\n",
       "    </tr>\n",
       "    <tr>\n",
       "      <th>1</th>\n",
       "      <td>3045.0</td>\n",
       "      <td>365.0</td>\n",
       "      <td>66.0</td>\n",
       "      <td>OO</td>\n",
       "      <td>DSM</td>\n",
       "      <td>MKE</td>\n",
       "      <td>2</td>\n",
       "      <td>0</td>\n",
       "    </tr>\n",
       "    <tr>\n",
       "      <th>2</th>\n",
       "      <td>1560.0</td>\n",
       "      <td>740.0</td>\n",
       "      <td>257.0</td>\n",
       "      <td>DL</td>\n",
       "      <td>SEA</td>\n",
       "      <td>CVG</td>\n",
       "      <td>7</td>\n",
       "      <td>0</td>\n",
       "    </tr>\n",
       "    <tr>\n",
       "      <th>3</th>\n",
       "      <td>1156.0</td>\n",
       "      <td>595.0</td>\n",
       "      <td>235.0</td>\n",
       "      <td>WN</td>\n",
       "      <td>SNA</td>\n",
       "      <td>MDW</td>\n",
       "      <td>7</td>\n",
       "      <td>1</td>\n",
       "    </tr>\n",
       "    <tr>\n",
       "      <th>4</th>\n",
       "      <td>1873.0</td>\n",
       "      <td>530.0</td>\n",
       "      <td>133.0</td>\n",
       "      <td>CO</td>\n",
       "      <td>IAH</td>\n",
       "      <td>MCO</td>\n",
       "      <td>6</td>\n",
       "      <td>1</td>\n",
       "    </tr>\n",
       "  </tbody>\n",
       "</table>\n",
       "</div>"
      ],
      "text/plain": [
       "   Flight   Time  Length Airline AirportFrom AirportTo  DayOfWeek  Class\n",
       "0   320.0  870.0   180.0      CO         IAH       PHX          5      0\n",
       "1  3045.0  365.0    66.0      OO         DSM       MKE          2      0\n",
       "2  1560.0  740.0   257.0      DL         SEA       CVG          7      0\n",
       "3  1156.0  595.0   235.0      WN         SNA       MDW          7      1\n",
       "4  1873.0  530.0   133.0      CO         IAH       MCO          6      1"
      ]
     },
     "execution_count": 34,
     "metadata": {},
     "output_type": "execute_result"
    }
   ],
   "source": [
    "df_drop2.head()"
   ]
  },
  {
   "cell_type": "code",
   "execution_count": 35,
   "id": "a4ef85d4",
   "metadata": {
    "id": "a4ef85d4"
   },
   "outputs": [],
   "source": [
    "# 8. Pada variabel df_drop2 buanglah kolom Flight, Airline, AirportFrom, AirportTo, DayOfWeek, Class\n",
    "df_drop2.drop(['Flight', 'Airline', 'AirportFrom', 'AirportTo', 'DayOfWeek', 'Class'], axis=1, inplace=True)"
   ]
  },
  {
   "cell_type": "code",
   "execution_count": 36,
   "id": "07b9223c",
   "metadata": {
    "id": "07b9223c"
   },
   "outputs": [
    {
     "data": {
      "text/html": [
       "<div>\n",
       "<style scoped>\n",
       "    .dataframe tbody tr th:only-of-type {\n",
       "        vertical-align: middle;\n",
       "    }\n",
       "\n",
       "    .dataframe tbody tr th {\n",
       "        vertical-align: top;\n",
       "    }\n",
       "\n",
       "    .dataframe thead th {\n",
       "        text-align: right;\n",
       "    }\n",
       "</style>\n",
       "<table border=\"1\" class=\"dataframe\">\n",
       "  <thead>\n",
       "    <tr style=\"text-align: right;\">\n",
       "      <th></th>\n",
       "      <th>Time</th>\n",
       "      <th>Length</th>\n",
       "    </tr>\n",
       "  </thead>\n",
       "  <tbody>\n",
       "    <tr>\n",
       "      <th>0</th>\n",
       "      <td>870.0</td>\n",
       "      <td>180.0</td>\n",
       "    </tr>\n",
       "    <tr>\n",
       "      <th>1</th>\n",
       "      <td>365.0</td>\n",
       "      <td>66.0</td>\n",
       "    </tr>\n",
       "    <tr>\n",
       "      <th>2</th>\n",
       "      <td>740.0</td>\n",
       "      <td>257.0</td>\n",
       "    </tr>\n",
       "    <tr>\n",
       "      <th>3</th>\n",
       "      <td>595.0</td>\n",
       "      <td>235.0</td>\n",
       "    </tr>\n",
       "    <tr>\n",
       "      <th>4</th>\n",
       "      <td>530.0</td>\n",
       "      <td>133.0</td>\n",
       "    </tr>\n",
       "  </tbody>\n",
       "</table>\n",
       "</div>"
      ],
      "text/plain": [
       "    Time  Length\n",
       "0  870.0   180.0\n",
       "1  365.0    66.0\n",
       "2  740.0   257.0\n",
       "3  595.0   235.0\n",
       "4  530.0   133.0"
      ]
     },
     "execution_count": 36,
     "metadata": {},
     "output_type": "execute_result"
    }
   ],
   "source": [
    "df_drop2.head()"
   ]
  },
  {
   "cell_type": "markdown",
   "id": "c31f69dc",
   "metadata": {
    "id": "c31f69dc"
   },
   "source": [
    "#### Data cleansing - Mengubah indeks di dataframe\n",
    "Karena tidak ada kolom yang bernilai unik pada dataframe, maka kita akan mencoba mengubah kolom Airline menjadi indeks dari dataset"
   ]
  },
  {
   "cell_type": "code",
   "execution_count": 37,
   "id": "2b860751",
   "metadata": {
    "id": "2b860751"
   },
   "outputs": [],
   "source": [
    "# 9. Import Library Numpy\n",
    "import numpy as np"
   ]
  },
  {
   "cell_type": "code",
   "execution_count": 38,
   "id": "073fab4d",
   "metadata": {
    "id": "073fab4d"
   },
   "outputs": [],
   "source": [
    "# 10. Memuat data\n",
    "df_index = pd.read_csv(\"delay_maskapai.csv\")"
   ]
  },
  {
   "cell_type": "code",
   "execution_count": 39,
   "id": "7f700004",
   "metadata": {
    "id": "7f700004"
   },
   "outputs": [],
   "source": [
    "# 11. Menjadikan kolom Airline sebagai index\n",
    "df_index = df_index.set_index('Airline')"
   ]
  },
  {
   "cell_type": "code",
   "execution_count": 42,
   "id": "ff85f3f5",
   "metadata": {
    "id": "ff85f3f5"
   },
   "outputs": [],
   "source": [
    "# 12. Membuang kolom Flight dengan fungsi drop\n",
    "df_index.drop([\"Flight\"], axis=1, inplace=True)"
   ]
  },
  {
   "cell_type": "code",
   "execution_count": 43,
   "id": "62babdc1",
   "metadata": {
    "id": "62babdc1"
   },
   "outputs": [
    {
     "data": {
      "text/html": [
       "<div>\n",
       "<style scoped>\n",
       "    .dataframe tbody tr th:only-of-type {\n",
       "        vertical-align: middle;\n",
       "    }\n",
       "\n",
       "    .dataframe tbody tr th {\n",
       "        vertical-align: top;\n",
       "    }\n",
       "\n",
       "    .dataframe thead th {\n",
       "        text-align: right;\n",
       "    }\n",
       "</style>\n",
       "<table border=\"1\" class=\"dataframe\">\n",
       "  <thead>\n",
       "    <tr style=\"text-align: right;\">\n",
       "      <th></th>\n",
       "      <th>Time</th>\n",
       "      <th>Length</th>\n",
       "      <th>AirportFrom</th>\n",
       "      <th>AirportTo</th>\n",
       "      <th>DayOfWeek</th>\n",
       "      <th>Class</th>\n",
       "    </tr>\n",
       "    <tr>\n",
       "      <th>Airline</th>\n",
       "      <th></th>\n",
       "      <th></th>\n",
       "      <th></th>\n",
       "      <th></th>\n",
       "      <th></th>\n",
       "      <th></th>\n",
       "    </tr>\n",
       "  </thead>\n",
       "  <tbody>\n",
       "    <tr>\n",
       "      <th>CO</th>\n",
       "      <td>870.0</td>\n",
       "      <td>180.0</td>\n",
       "      <td>IAH</td>\n",
       "      <td>PHX</td>\n",
       "      <td>5</td>\n",
       "      <td>0</td>\n",
       "    </tr>\n",
       "    <tr>\n",
       "      <th>OO</th>\n",
       "      <td>365.0</td>\n",
       "      <td>66.0</td>\n",
       "      <td>DSM</td>\n",
       "      <td>MKE</td>\n",
       "      <td>2</td>\n",
       "      <td>0</td>\n",
       "    </tr>\n",
       "    <tr>\n",
       "      <th>DL</th>\n",
       "      <td>740.0</td>\n",
       "      <td>257.0</td>\n",
       "      <td>SEA</td>\n",
       "      <td>CVG</td>\n",
       "      <td>7</td>\n",
       "      <td>0</td>\n",
       "    </tr>\n",
       "    <tr>\n",
       "      <th>WN</th>\n",
       "      <td>595.0</td>\n",
       "      <td>235.0</td>\n",
       "      <td>SNA</td>\n",
       "      <td>MDW</td>\n",
       "      <td>7</td>\n",
       "      <td>1</td>\n",
       "    </tr>\n",
       "    <tr>\n",
       "      <th>CO</th>\n",
       "      <td>530.0</td>\n",
       "      <td>133.0</td>\n",
       "      <td>IAH</td>\n",
       "      <td>MCO</td>\n",
       "      <td>6</td>\n",
       "      <td>1</td>\n",
       "    </tr>\n",
       "  </tbody>\n",
       "</table>\n",
       "</div>"
      ],
      "text/plain": [
       "          Time  Length AirportFrom AirportTo  DayOfWeek  Class\n",
       "Airline                                                       \n",
       "CO       870.0   180.0         IAH       PHX          5      0\n",
       "OO       365.0    66.0         DSM       MKE          2      0\n",
       "DL       740.0   257.0         SEA       CVG          7      0\n",
       "WN       595.0   235.0         SNA       MDW          7      1\n",
       "CO       530.0   133.0         IAH       MCO          6      1"
      ]
     },
     "execution_count": 43,
     "metadata": {},
     "output_type": "execute_result"
    }
   ],
   "source": [
    "df_index.head()"
   ]
  },
  {
   "cell_type": "markdown",
   "id": "b4f816a3",
   "metadata": {
    "id": "b4f816a3"
   },
   "source": [
    "#### Data cleansing - Merapikan *Fields* dalam data"
   ]
  },
  {
   "cell_type": "markdown",
   "id": "101733f8",
   "metadata": {
    "id": "101733f8"
   },
   "source": [
    "Pada dataset ini, kolom \"Time\" merupakan waktu keberangkatan dari sebuah maskapai. Kondisi nilai pada kolom tersebut adalah waktu yang dikonversi ke menit, untuk melihat jumlah delay terbanyak dari semua waktu keberangkatan, kita perlu mengonversi menit tersebut ke dalam jam dan menit"
   ]
  },
  {
   "cell_type": "code",
   "execution_count": 44,
   "id": "3214101d",
   "metadata": {
    "id": "3214101d"
   },
   "outputs": [],
   "source": [
    "# 13. Mengubah format kolom Time ke dalam Jam dan Menit\n",
    "Time = pd.to_datetime(df.Time, unit=\"m\").dt.strftime('%H.%M')"
   ]
  },
  {
   "cell_type": "code",
   "execution_count": 45,
   "id": "d5489a40-effa-40db-a017-fffa64991e46",
   "metadata": {},
   "outputs": [
    {
     "data": {
      "text/plain": [
       "0        14.30\n",
       "1        06.05\n",
       "2        12.20\n",
       "3        09.55\n",
       "4        08.50\n",
       "         ...  \n",
       "10782    10.10\n",
       "10783    13.59\n",
       "10784    19.20\n",
       "10785    21.15\n",
       "10786    16.10\n",
       "Name: Time, Length: 10787, dtype: object"
      ]
     },
     "execution_count": 45,
     "metadata": {},
     "output_type": "execute_result"
    }
   ],
   "source": [
    "Time"
   ]
  },
  {
   "cell_type": "code",
   "execution_count": 46,
   "id": "1f2481bb",
   "metadata": {
    "id": "1f2481bb"
   },
   "outputs": [],
   "source": [
    "# 14. Membuat kolom baru dengan nama DepartTime dengan isi datanya berasal dari variabel Time\n",
    "df[\"DepartTime\"] = Time "
   ]
  },
  {
   "cell_type": "code",
   "execution_count": 47,
   "id": "9ecfb970",
   "metadata": {
    "id": "9ecfb970"
   },
   "outputs": [
    {
     "data": {
      "text/html": [
       "<div>\n",
       "<style scoped>\n",
       "    .dataframe tbody tr th:only-of-type {\n",
       "        vertical-align: middle;\n",
       "    }\n",
       "\n",
       "    .dataframe tbody tr th {\n",
       "        vertical-align: top;\n",
       "    }\n",
       "\n",
       "    .dataframe thead th {\n",
       "        text-align: right;\n",
       "    }\n",
       "</style>\n",
       "<table border=\"1\" class=\"dataframe\">\n",
       "  <thead>\n",
       "    <tr style=\"text-align: right;\">\n",
       "      <th></th>\n",
       "      <th>Flight</th>\n",
       "      <th>Time</th>\n",
       "      <th>Length</th>\n",
       "      <th>Airline</th>\n",
       "      <th>AirportFrom</th>\n",
       "      <th>AirportTo</th>\n",
       "      <th>DayOfWeek</th>\n",
       "      <th>Class</th>\n",
       "      <th>DepartTime</th>\n",
       "    </tr>\n",
       "  </thead>\n",
       "  <tbody>\n",
       "    <tr>\n",
       "      <th>0</th>\n",
       "      <td>320.0</td>\n",
       "      <td>870.0</td>\n",
       "      <td>180.0</td>\n",
       "      <td>CO</td>\n",
       "      <td>IAH</td>\n",
       "      <td>PHX</td>\n",
       "      <td>5</td>\n",
       "      <td>0</td>\n",
       "      <td>14.30</td>\n",
       "    </tr>\n",
       "    <tr>\n",
       "      <th>1</th>\n",
       "      <td>3045.0</td>\n",
       "      <td>365.0</td>\n",
       "      <td>66.0</td>\n",
       "      <td>OO</td>\n",
       "      <td>DSM</td>\n",
       "      <td>MKE</td>\n",
       "      <td>2</td>\n",
       "      <td>0</td>\n",
       "      <td>06.05</td>\n",
       "    </tr>\n",
       "    <tr>\n",
       "      <th>2</th>\n",
       "      <td>1560.0</td>\n",
       "      <td>740.0</td>\n",
       "      <td>257.0</td>\n",
       "      <td>DL</td>\n",
       "      <td>SEA</td>\n",
       "      <td>CVG</td>\n",
       "      <td>7</td>\n",
       "      <td>0</td>\n",
       "      <td>12.20</td>\n",
       "    </tr>\n",
       "    <tr>\n",
       "      <th>3</th>\n",
       "      <td>1156.0</td>\n",
       "      <td>595.0</td>\n",
       "      <td>235.0</td>\n",
       "      <td>WN</td>\n",
       "      <td>SNA</td>\n",
       "      <td>MDW</td>\n",
       "      <td>7</td>\n",
       "      <td>1</td>\n",
       "      <td>09.55</td>\n",
       "    </tr>\n",
       "    <tr>\n",
       "      <th>4</th>\n",
       "      <td>1873.0</td>\n",
       "      <td>530.0</td>\n",
       "      <td>133.0</td>\n",
       "      <td>CO</td>\n",
       "      <td>IAH</td>\n",
       "      <td>MCO</td>\n",
       "      <td>6</td>\n",
       "      <td>1</td>\n",
       "      <td>08.50</td>\n",
       "    </tr>\n",
       "  </tbody>\n",
       "</table>\n",
       "</div>"
      ],
      "text/plain": [
       "   Flight   Time  Length Airline AirportFrom AirportTo  DayOfWeek  Class  \\\n",
       "0   320.0  870.0   180.0      CO         IAH       PHX          5      0   \n",
       "1  3045.0  365.0    66.0      OO         DSM       MKE          2      0   \n",
       "2  1560.0  740.0   257.0      DL         SEA       CVG          7      0   \n",
       "3  1156.0  595.0   235.0      WN         SNA       MDW          7      1   \n",
       "4  1873.0  530.0   133.0      CO         IAH       MCO          6      1   \n",
       "\n",
       "  DepartTime  \n",
       "0      14.30  \n",
       "1      06.05  \n",
       "2      12.20  \n",
       "3      09.55  \n",
       "4      08.50  "
      ]
     },
     "execution_count": 47,
     "metadata": {},
     "output_type": "execute_result"
    }
   ],
   "source": [
    "df.head()"
   ]
  },
  {
   "cell_type": "code",
   "execution_count": 48,
   "id": "b4a1ea61",
   "metadata": {
    "id": "b4a1ea61"
   },
   "outputs": [
    {
     "data": {
      "text/plain": [
       "DepartTime\n",
       "00.15    1\n",
       "00.30    0\n",
       "00.35    1\n",
       "00.40    1\n",
       "00.49    0\n",
       "Name: Class, dtype: int64"
      ]
     },
     "execution_count": 48,
     "metadata": {},
     "output_type": "execute_result"
    }
   ],
   "source": [
    "# 15. Menghitung jumlah penerbangan dalam 24 jam\n",
    "Time_Flight_Count = df.groupby(\"DepartTime\").sum(numeric_only=True)[\"Class\"].sort_index()\n",
    "Time_Flight_Count.head()"
   ]
  },
  {
   "cell_type": "code",
   "execution_count": 49,
   "id": "fd311774",
   "metadata": {
    "id": "fd311774"
   },
   "outputs": [
    {
     "data": {
      "text/plain": [
       "DepartTime\n",
       "06.00    50\n",
       "19.00    38\n",
       "17.00    38\n",
       "07.00    37\n",
       "16.00    36\n",
       "12.00    36\n",
       "11.40    35\n",
       "20.00    34\n",
       "19.05    33\n",
       "14.45    33\n",
       "17.30    32\n",
       "10.00    32\n",
       "12.05    32\n",
       "11.55    31\n",
       "16.30    31\n",
       "18.15    30\n",
       "15.15    30\n",
       "11.45    30\n",
       "18.20    29\n",
       "12.30    29\n",
       "Name: Class, dtype: int64"
      ]
     },
     "execution_count": 49,
     "metadata": {},
     "output_type": "execute_result"
    }
   ],
   "source": [
    "# 16. Mengurutkan 20 data dari jumlah penerbangan terbanyak\n",
    "Time_Flight_Count.sort_values(ascending=False).head(20)"
   ]
  },
  {
   "cell_type": "markdown",
   "id": "77895077",
   "metadata": {
    "id": "77895077"
   },
   "source": [
    "Dari kode di atas dapat diketahui bahwa waktu 06.00 merupakan waktu dengan jumlah terbanyak. Berikut kita akan lakukan visualisasi dengan line chart"
   ]
  },
  {
   "cell_type": "code",
   "execution_count": 50,
   "id": "0f5f7c02",
   "metadata": {
    "id": "0f5f7c02"
   },
   "outputs": [],
   "source": [
    "# 17. Mengimport library pyplot\n",
    "import matplotlib.pyplot as plt"
   ]
  },
  {
   "cell_type": "code",
   "execution_count": 54,
   "id": "ba6a76ce",
   "metadata": {
    "id": "ba6a76ce"
   },
   "outputs": [
    {
     "data": {
      "image/png": "[encoded data removed]",
      "text/plain": [
       "<Figure size 1080x720 with 1 Axes>"
      ]
     },
     "metadata": {
      "needs_background": "light"
     },
     "output_type": "display_data"
    }
   ],
   "source": [
    "# 18. Mengatur ukuran gambar\n",
    "plt.figure(figsize=(15, 10))\n",
    "\n",
    "# 19. Melakukan plot data\n",
    "Time_Flight_Count.plot()\n",
    "\n",
    "# 20. Mengatur label sumbu x\n",
    "ticks = range(0, len(Time_Flight_Count.index), 30)  # Menentukan posisi label setiap 30 data\n",
    "labels = Time_Flight_Count.index[ticks]  # Mengambil label berdasarkan posisi\n",
    "plt.xticks(rotation=90) # Mengatur posisi rotasi label 90 derajat pada sumbu x\n",
    "plt.xticks(ticks, labels)  # Mengatur posisi dan label pada sumbu x\n",
    "\n",
    "# 21. Mengatur label sumbu x, y dan judul grafik\n",
    "plt.xlabel('Jam')\n",
    "plt.ylabel('Delay')\n",
    "plt.title('Jumlah Delay Dalam 24 Jam')\n",
    "\n",
    "# 22. Menampilkan grafik\n",
    "plt.show()\n"
   ]
  },
  {
   "cell_type": "markdown",
   "id": "bdd3f88e",
   "metadata": {
    "id": "bdd3f88e"
   },
   "source": [
    "#### Data cleansing - Mengganti Nama Kolom"
   ]
  },
  {
   "cell_type": "code",
   "execution_count": 55,
   "id": "91b1c797",
   "metadata": {
    "id": "91b1c797"
   },
   "outputs": [],
   "source": [
    "# 23. Memuat Dataset\n",
    "df_rename_col = pd.read_csv(\"delay_maskapai.csv\")"
   ]
  },
  {
   "cell_type": "code",
   "execution_count": 58,
   "id": "f8acdb5b",
   "metadata": {
    "id": "f8acdb5b"
   },
   "outputs": [],
   "source": [
    "# 24. Ubah Nama Kolom Flight -> ID Flight, Airline -> Maskapai, Class -> Kelas\n",
    "columns = {\n",
    "\"Flight\": \"ID Flight\",\n",
    "\"Airline\": \"Maskapai\",\n",
    "\"Class\": \"Kelas\"\n",
    "}\n",
    "\n",
    "df_rename_col = df_rename_col.rename(columns)"
   ]
  },
  {
   "cell_type": "code",
   "execution_count": 59,
   "id": "bde4ce27",
   "metadata": {
    "id": "bde4ce27"
   },
   "outputs": [
    {
     "data": {
      "text/html": [
       "<div>\n",
       "<style scoped>\n",
       "    .dataframe tbody tr th:only-of-type {\n",
       "        vertical-align: middle;\n",
       "    }\n",
       "\n",
       "    .dataframe tbody tr th {\n",
       "        vertical-align: top;\n",
       "    }\n",
       "\n",
       "    .dataframe thead th {\n",
       "        text-align: right;\n",
       "    }\n",
       "</style>\n",
       "<table border=\"1\" class=\"dataframe\">\n",
       "  <thead>\n",
       "    <tr style=\"text-align: right;\">\n",
       "      <th></th>\n",
       "      <th>Flight</th>\n",
       "      <th>Time</th>\n",
       "      <th>Length</th>\n",
       "      <th>Airline</th>\n",
       "      <th>AirportFrom</th>\n",
       "      <th>AirportTo</th>\n",
       "      <th>DayOfWeek</th>\n",
       "      <th>Class</th>\n",
       "    </tr>\n",
       "  </thead>\n",
       "  <tbody>\n",
       "    <tr>\n",
       "      <th>0</th>\n",
       "      <td>320.0</td>\n",
       "      <td>870.0</td>\n",
       "      <td>180.0</td>\n",
       "      <td>CO</td>\n",
       "      <td>IAH</td>\n",
       "      <td>PHX</td>\n",
       "      <td>5</td>\n",
       "      <td>0</td>\n",
       "    </tr>\n",
       "    <tr>\n",
       "      <th>1</th>\n",
       "      <td>3045.0</td>\n",
       "      <td>365.0</td>\n",
       "      <td>66.0</td>\n",
       "      <td>OO</td>\n",
       "      <td>DSM</td>\n",
       "      <td>MKE</td>\n",
       "      <td>2</td>\n",
       "      <td>0</td>\n",
       "    </tr>\n",
       "    <tr>\n",
       "      <th>2</th>\n",
       "      <td>1560.0</td>\n",
       "      <td>740.0</td>\n",
       "      <td>257.0</td>\n",
       "      <td>DL</td>\n",
       "      <td>SEA</td>\n",
       "      <td>CVG</td>\n",
       "      <td>7</td>\n",
       "      <td>0</td>\n",
       "    </tr>\n",
       "    <tr>\n",
       "      <th>3</th>\n",
       "      <td>1156.0</td>\n",
       "      <td>595.0</td>\n",
       "      <td>235.0</td>\n",
       "      <td>WN</td>\n",
       "      <td>SNA</td>\n",
       "      <td>MDW</td>\n",
       "      <td>7</td>\n",
       "      <td>1</td>\n",
       "    </tr>\n",
       "    <tr>\n",
       "      <th>4</th>\n",
       "      <td>1873.0</td>\n",
       "      <td>530.0</td>\n",
       "      <td>133.0</td>\n",
       "      <td>CO</td>\n",
       "      <td>IAH</td>\n",
       "      <td>MCO</td>\n",
       "      <td>6</td>\n",
       "      <td>1</td>\n",
       "    </tr>\n",
       "    <tr>\n",
       "      <th>5</th>\n",
       "      <td>3641.0</td>\n",
       "      <td>1045.0</td>\n",
       "      <td>160.0</td>\n",
       "      <td>MQ</td>\n",
       "      <td>MIA</td>\n",
       "      <td>CMH</td>\n",
       "      <td>1</td>\n",
       "      <td>0</td>\n",
       "    </tr>\n",
       "    <tr>\n",
       "      <th>6</th>\n",
       "      <td>138.0</td>\n",
       "      <td>1160.0</td>\n",
       "      <td>185.0</td>\n",
       "      <td>WN</td>\n",
       "      <td>BDL</td>\n",
       "      <td>MCO</td>\n",
       "      <td>7</td>\n",
       "      <td>0</td>\n",
       "    </tr>\n",
       "    <tr>\n",
       "      <th>7</th>\n",
       "      <td>586.0</td>\n",
       "      <td>700.0</td>\n",
       "      <td>142.0</td>\n",
       "      <td>AS</td>\n",
       "      <td>PDX</td>\n",
       "      <td>SNA</td>\n",
       "      <td>2</td>\n",
       "      <td>1</td>\n",
       "    </tr>\n",
       "    <tr>\n",
       "      <th>8</th>\n",
       "      <td>5220.0</td>\n",
       "      <td>895.0</td>\n",
       "      <td>102.0</td>\n",
       "      <td>EV</td>\n",
       "      <td>AEX</td>\n",
       "      <td>ATL</td>\n",
       "      <td>2</td>\n",
       "      <td>0</td>\n",
       "    </tr>\n",
       "    <tr>\n",
       "      <th>9</th>\n",
       "      <td>5122.0</td>\n",
       "      <td>516.0</td>\n",
       "      <td>137.0</td>\n",
       "      <td>EV</td>\n",
       "      <td>DTW</td>\n",
       "      <td>MCI</td>\n",
       "      <td>7</td>\n",
       "      <td>0</td>\n",
       "    </tr>\n",
       "  </tbody>\n",
       "</table>\n",
       "</div>"
      ],
      "text/plain": [
       "   Flight    Time  Length Airline AirportFrom AirportTo  DayOfWeek  Class\n",
       "0   320.0   870.0   180.0      CO         IAH       PHX          5      0\n",
       "1  3045.0   365.0    66.0      OO         DSM       MKE          2      0\n",
       "2  1560.0   740.0   257.0      DL         SEA       CVG          7      0\n",
       "3  1156.0   595.0   235.0      WN         SNA       MDW          7      1\n",
       "4  1873.0   530.0   133.0      CO         IAH       MCO          6      1\n",
       "5  3641.0  1045.0   160.0      MQ         MIA       CMH          1      0\n",
       "6   138.0  1160.0   185.0      WN         BDL       MCO          7      0\n",
       "7   586.0   700.0   142.0      AS         PDX       SNA          2      1\n",
       "8  5220.0   895.0   102.0      EV         AEX       ATL          2      0\n",
       "9  5122.0   516.0   137.0      EV         DTW       MCI          7      0"
      ]
     },
     "execution_count": 59,
     "metadata": {},
     "output_type": "execute_result"
    }
   ],
   "source": [
    "# 25. Menampilkan 10 data teratas\n",
    "df_rename_col.head(10)"
   ]
  },
  {
   "cell_type": "code",
   "execution_count": null,
   "id": "c4f1d4d7-6353-40d8-b4e8-e6f8193cbae6",
   "metadata": {},
   "outputs": [],
   "source": []
  }
 ],
 "metadata": {
  "colab": {
   "provenance": []
  },
  "kernelspec": {
   "display_name": "Python 3 (ipykernel)",
   "language": "python",
   "name": "python3"
  },
  "language_info": {
   "codemirror_mode": {
    "name": "ipython",
    "version": 3
   },
   "file_extension": ".py",
   "mimetype": "text/x-python",
   "name": "python",
   "nbconvert_exporter": "python",
   "pygments_lexer": "ipython3",
   "version": "3.8.10"
  }
 },
 "nbformat": 4,
 "nbformat_minor": 5
}
