{
 "cells": [
  {
   "cell_type": "markdown",
   "id": "30fce050",
   "metadata": {
    "id": "30fce050"
   },
   "source": [
    "<center>\n",
    "    <img src=\"https://drive.google.com/uc?export=view&id=1hDKusF04c0lNZA_qOShvWQrpImayVKz8\"  width=\"1000\" />\n",
    "</center>"
   ]
  },
  {
   "cell_type": "markdown",
   "id": "78957aef",
   "metadata": {
    "id": "78957aef"
   },
   "source": [
    "# Tugas Mandiri\n",
    "---\n",
    "Tugas mandiri ini digunakan pada kegiatan Kursus Data Science yang merupakan pembekalan bagi mahasiswa Universitas Gunadarma untuk Skema Associate Data Scientist"
   ]
  },
  {
   "cell_type": "markdown",
   "id": "e1d3e6a4",
   "metadata": {
    "id": "e1d3e6a4"
   },
   "source": [
    "### Pertemuan 1 - Semester 8"
   ]
  },
  {
   "cell_type": "markdown",
   "id": "d4269619",
   "metadata": {
    "id": "d4269619"
   },
   "source": [
    "### Daftar Isi :\n",
    "1. Definisi Menelaah Data (Data Understanding)\n",
    "2. Sumber Data\n",
    "3. Tipe Data berdasarkan Susunan Data: Structured and Unstructured Data\n",
    "4. Tipe Data berdasarkan Sifat, Cara Pengumpulan, Waktu\n",
    "5. Metode Pengambilan Data\n",
    "6. Pencilan (Tukey's fences)"
   ]
  },
  {
   "cell_type": "markdown",
   "id": "caec2707",
   "metadata": {
    "id": "caec2707"
   },
   "source": [
    "<center>\n",
    "    <img src=\"https://www.researchgate.net/profile/David-Corrales-2/publication/283430974/figure/fig1/AS:614004070309903@1523401386613/phases-and-generic-tasks-of-CRISP-DM.png\"  width=\"500\" />\n",
    "</center>"
   ]
  },
  {
   "cell_type": "markdown",
   "id": "e8049275",
   "metadata": {
    "id": "e8049275"
   },
   "source": [
    "### 1. Definisi Menelaah Data (*Data Understanding*)\n",
    "----"
   ]
  },
  {
   "cell_type": "markdown",
   "id": "4310f023",
   "metadata": {
    "id": "4310f023"
   },
   "source": [
    "Secara garis besar, *data understanding* adalah tahapan setelah  setelah problem bisnis telah didefinisikan sebagai hasil tahapan *business understanding.\n",
    "\n",
    "Tahapan *data understanding* dilakukab untuk memeriksa data sehingga masalah pada data yang didapatkan dapat terindentifikasi.\n",
    "\n",
    "- Tujuan: mendapatkan gambaran utuh atas data.\n",
    "- Dilanjutkan ke persiapan data (data preparation), jika pemahaman awal data cukup atau kembali ke business understanding jika definisi permasalahan bisnis harus direvisi.\n"
   ]
  },
  {
   "cell_type": "markdown",
   "id": "53f77fca",
   "metadata": {
    "id": "53f77fca"
   },
   "source": [
    "#### 1.1 Mengapa Perlu Data Understanding?"
   ]
  },
  {
   "cell_type": "markdown",
   "id": "d6bc56a8",
   "metadata": {
    "id": "d6bc56a8"
   },
   "source": [
    "- Data merupakan bahan mentah solusi AI.\n",
    "- Data dari masing-masing sumber belum tentu dapat langsung dipakai karena:\n",
    "- Maksud dan tujuan data berbeda-beda\n",
    "- Keadaan asal terpisah-pisah atau justru terintegrasi secara ketat.\n",
    "- Tingkat kekayaan (richness) berbeda-beda\n",
    "- Tingkat keandalan (reliability) berbeda-beda\n",
    "- Data understanding memberikan gambaran awal tentang:\n",
    "    - Kekuatan data\n",
    "    - Kekurangan dan batasan penggunaan data\n",
    "    - Tingkat kesesuaian data dengan masalah bisnis yang akan dipecahkan\n",
    "    - Ketersediaan data (terbuka/tertutup, biaya akses, dsb.)\n",
    "\n"
   ]
  },
  {
   "cell_type": "markdown",
   "id": "7edd9a43",
   "metadata": {
    "id": "7edd9a43"
   },
   "source": [
    "### 2. Sumber Data \n",
    "----"
   ]
  },
  {
   "cell_type": "markdown",
   "id": "ad83f72d",
   "metadata": {
    "id": "ad83f72d"
   },
   "source": [
    "Sumber data terbagi menjadi dua yaitu sumber data *internal* dan *external* :\n",
    "1. Sumber Data *Internal*\n",
    "    - Spreadsheets (Excel, CSV, JSON, etc)\n",
    "    - Databases : Can be queried via SQL, etc\n",
    "    - Text documents\n",
    "    - Multimedia documents (audio & video)\n",
    "2. Sumber Data *External*\n",
    "    - Open data repositories\n",
    "    - Public domain web pages"
   ]
  },
  {
   "cell_type": "markdown",
   "id": "303f6330",
   "metadata": {
    "id": "303f6330"
   },
   "source": [
    "### 3. Tipe Data berdasarkan Susunan Data: Structured and Unstructured Data\n",
    "----"
   ]
  },
  {
   "cell_type": "markdown",
   "id": "9f70a607",
   "metadata": {
    "id": "9f70a607"
   },
   "source": [
    "<center>\n",
    "    <img src=\"https://drive.google.com/uc?export=view&id=1hsSAywFiHx_0nLIPx7s_8PFH5Uz46J9d\"\n",
    "    width=\"500\" />\n",
    "</center>"
   ]
  },
  {
   "cell_type": "markdown",
   "id": "36e8fe18",
   "metadata": {
    "id": "36e8fe18"
   },
   "source": [
    "Data semi-terstruktur (semi-structured data): Data terstruktur yang tidak mengikuti model struktur tabular yang seperti pada basis data relasional, namun tetap mengandung tags atau penanda lainnya yang dapat memisahkan elemen-elemen semantik pada data serta mengatur hierarki antara butir-butir datanya.\n"
   ]
  },
  {
   "cell_type": "markdown",
   "id": "7b96add8",
   "metadata": {
    "id": "7b96add8"
   },
   "source": [
    "### 4. Tipe Data berdasarkan Sifat, Cara Pengumpulan, Waktu\n",
    "------"
   ]
  },
  {
   "cell_type": "markdown",
   "id": "9547b8d0",
   "metadata": {
    "id": "9547b8d0"
   },
   "source": [
    "#### 4.1 Tipe Data Berdasarkan Sifatnya\n",
    "- Data dikotomi, merupakan data yang bersifat pilah satu sama lain, misalnya suku, agama, jenis kelamin, pendidikan, dan lain sebagainya.\n",
    "- Data diskrit, merupakan data yang proses pengumpulan datanya dijalankan dengan cara menghitung atau membilang. Seperti, jumlah anak, jumlah penduduk, jumlah kematian dan sebagainya.\n",
    "- Data kontinum, merupakan data pengumpulan datanya didapatkan dengan cara mengukur dengan alat ukur yang memakai skala tertentu. Seperti misalnya, Suhu, berat, bakat, kecerdasan, dan lainnya.\n"
   ]
  },
  {
   "cell_type": "markdown",
   "id": "8a5b8a73",
   "metadata": {
    "id": "8a5b8a73"
   },
   "source": [
    "#### 4.2 Tipe Data Tipe Data Berdasarkan Cara Pengumpulan\n",
    "- Data Primer, merupakan data yang didapatkan dari sumber pertama, atau dapat dikatakan pengumpulannya dilakukan sendiri oleh si peneliti secara langsung, seperti hasil wawancara dan hasil pengisian kuesioner (angket).\n",
    "- Data Sekunder, merupakan data yang didapatkan dari sumber kedua. Menurut Purwanto (2007), data sekunder yaitu data yang dikumpulkan oleh orang atau lembaga lain. Data sekunder adalah data yang digunakan atau diterbitkan oleh organisasi yang bukan pengolahnya (Soeratno dan Arsyad (2003;76).\n",
    "\n"
   ]
  },
  {
   "cell_type": "markdown",
   "id": "e3466701",
   "metadata": {
    "id": "e3466701"
   },
   "source": [
    "#### 4.3 Tipe Data Tipe Data Berdasarkan Waktu\n",
    "- Data Cross Section, merupakan data yang menunjukkan titik waktu tertentu. Contohnya laporan keuangan per 31 Desember 2020, data pelanggan PT. Data Indah bulan mei 2004, dan lain sebagainya.\n",
    "- Data Sekunder, merupakan data yang datanya menggambarkan sesuatu dari waktu ke waktu atau periode secara historis. Contoh data time series adalah data perkembangan nilai tukar dollar amerika terhadap rupiah tahun 2016 – 2020.\n",
    "\n"
   ]
  },
  {
   "cell_type": "markdown",
   "id": "6cc56866",
   "metadata": {
    "id": "6cc56866"
   },
   "source": [
    "### 5. Metode Pengambilan Data\n",
    "------"
   ]
  },
  {
   "cell_type": "markdown",
   "id": "69bbd574",
   "metadata": {
    "id": "69bbd574"
   },
   "source": [
    "Pengambilan data terbagi ke dalam beberapa jenis yaitu :\n",
    "- Pengambilan data secara manual.\n",
    "- Pengambilan data melalui API\n",
    "- Pengambilan data melalui web scraping\n",
    "- Pengambilan data melalui akses langsung ke basis data relasional yang ada.\n"
   ]
  },
  {
   "cell_type": "markdown",
   "id": "40369b8f",
   "metadata": {
    "id": "40369b8f"
   },
   "source": [
    "### 6. Pencilan (Tukey's fences)\n",
    "---"
   ]
  },
  {
   "cell_type": "markdown",
   "id": "6865a2ff",
   "metadata": {
    "id": "6865a2ff"
   },
   "source": [
    "<center>\n",
    "    <img src=\"https://pbs.twimg.com/media/E1g1k9oVoAEU9qa?format=jpg&name=900x900\"\n",
    "    width=\"500\" />\n",
    "</center>"
   ]
  },
  {
   "cell_type": "markdown",
   "id": "9cb9e194",
   "metadata": {
    "id": "9cb9e194"
   },
   "source": [
    "Tukey's fences memakai rentang antarkuartil (interquartile range) -> IQR = Q3-Q1\n",
    "- Xi adalah pencilan jika Xi < Q1 - 1.5(IQR) atau Xi > Q3 + 1.5(IQR)\n",
    "- Xi adalah pencilan ekstrim jika Xi < Q1 - 3(IQR) atau Xi > Q3 + 3(IQR)"
   ]
  },
  {
   "cell_type": "markdown",
   "id": "19052c0b",
   "metadata": {
    "id": "19052c0b"
   },
   "source": [
    "## Tugas Mandiri Menelaah Data"
   ]
  },
  {
   "cell_type": "markdown",
   "id": "105faada",
   "metadata": {
    "id": "105faada"
   },
   "source": [
    "### Import Library"
   ]
  },
  {
   "cell_type": "code",
   "execution_count": 1,
   "id": "eda21257",
   "metadata": {
    "id": "eda21257"
   },
   "outputs": [],
   "source": [
    "# 1. Import Library Pandas\n",
    "import pandas as pd"
   ]
  },
  {
   "cell_type": "code",
   "execution_count": 2,
   "id": "5cf8c0b9",
   "metadata": {
    "id": "5cf8c0b9"
   },
   "outputs": [],
   "source": [
    "# 2. Memuat Data\n",
    "df = pd.read_csv('delay_maskapai.csv')"
   ]
  },
  {
   "cell_type": "markdown",
   "id": "83058481",
   "metadata": {
    "id": "83058481"
   },
   "source": [
    "### Menelaah Data dengan Metode Statistik"
   ]
  },
  {
   "cell_type": "code",
   "execution_count": 3,
   "id": "0c5179ca",
   "metadata": {
    "id": "0c5179ca"
   },
   "outputs": [
    {
     "data": {
      "text/html": [
       "<div>\n",
       "<style scoped>\n",
       "    .dataframe tbody tr th:only-of-type {\n",
       "        vertical-align: middle;\n",
       "    }\n",
       "\n",
       "    .dataframe tbody tr th {\n",
       "        vertical-align: top;\n",
       "    }\n",
       "\n",
       "    .dataframe thead th {\n",
       "        text-align: right;\n",
       "    }\n",
       "</style>\n",
       "<table border=\"1\" class=\"dataframe\">\n",
       "  <thead>\n",
       "    <tr style=\"text-align: right;\">\n",
       "      <th></th>\n",
       "      <th>Flight</th>\n",
       "      <th>Time</th>\n",
       "      <th>Length</th>\n",
       "      <th>Airline</th>\n",
       "      <th>AirportFrom</th>\n",
       "      <th>AirportTo</th>\n",
       "      <th>DayOfWeek</th>\n",
       "      <th>Class</th>\n",
       "    </tr>\n",
       "  </thead>\n",
       "  <tbody>\n",
       "    <tr>\n",
       "      <th>0</th>\n",
       "      <td>320.0</td>\n",
       "      <td>870.0</td>\n",
       "      <td>180.0</td>\n",
       "      <td>CO</td>\n",
       "      <td>IAH</td>\n",
       "      <td>PHX</td>\n",
       "      <td>5</td>\n",
       "      <td>0</td>\n",
       "    </tr>\n",
       "    <tr>\n",
       "      <th>1</th>\n",
       "      <td>3045.0</td>\n",
       "      <td>365.0</td>\n",
       "      <td>66.0</td>\n",
       "      <td>OO</td>\n",
       "      <td>DSM</td>\n",
       "      <td>MKE</td>\n",
       "      <td>2</td>\n",
       "      <td>0</td>\n",
       "    </tr>\n",
       "    <tr>\n",
       "      <th>2</th>\n",
       "      <td>1560.0</td>\n",
       "      <td>740.0</td>\n",
       "      <td>257.0</td>\n",
       "      <td>DL</td>\n",
       "      <td>SEA</td>\n",
       "      <td>CVG</td>\n",
       "      <td>7</td>\n",
       "      <td>0</td>\n",
       "    </tr>\n",
       "    <tr>\n",
       "      <th>3</th>\n",
       "      <td>1156.0</td>\n",
       "      <td>595.0</td>\n",
       "      <td>235.0</td>\n",
       "      <td>WN</td>\n",
       "      <td>SNA</td>\n",
       "      <td>MDW</td>\n",
       "      <td>7</td>\n",
       "      <td>1</td>\n",
       "    </tr>\n",
       "    <tr>\n",
       "      <th>4</th>\n",
       "      <td>1873.0</td>\n",
       "      <td>530.0</td>\n",
       "      <td>133.0</td>\n",
       "      <td>CO</td>\n",
       "      <td>IAH</td>\n",
       "      <td>MCO</td>\n",
       "      <td>6</td>\n",
       "      <td>1</td>\n",
       "    </tr>\n",
       "  </tbody>\n",
       "</table>\n",
       "</div>"
      ],
      "text/plain": [
       "   Flight   Time  Length Airline AirportFrom AirportTo  DayOfWeek  Class\n",
       "0   320.0  870.0   180.0      CO         IAH       PHX          5      0\n",
       "1  3045.0  365.0    66.0      OO         DSM       MKE          2      0\n",
       "2  1560.0  740.0   257.0      DL         SEA       CVG          7      0\n",
       "3  1156.0  595.0   235.0      WN         SNA       MDW          7      1\n",
       "4  1873.0  530.0   133.0      CO         IAH       MCO          6      1"
      ]
     },
     "execution_count": 3,
     "metadata": {},
     "output_type": "execute_result"
    }
   ],
   "source": [
    "# 3. Menampilkan 5 baris pertama dari dataset\n",
    "df.head()"
   ]
  },
  {
   "cell_type": "code",
   "execution_count": 4,
   "id": "53c3c99d",
   "metadata": {
    "id": "53c3c99d"
   },
   "outputs": [
    {
     "data": {
      "text/html": [
       "<div>\n",
       "<style scoped>\n",
       "    .dataframe tbody tr th:only-of-type {\n",
       "        vertical-align: middle;\n",
       "    }\n",
       "\n",
       "    .dataframe tbody tr th {\n",
       "        vertical-align: top;\n",
       "    }\n",
       "\n",
       "    .dataframe thead th {\n",
       "        text-align: right;\n",
       "    }\n",
       "</style>\n",
       "<table border=\"1\" class=\"dataframe\">\n",
       "  <thead>\n",
       "    <tr style=\"text-align: right;\">\n",
       "      <th></th>\n",
       "      <th>Flight</th>\n",
       "      <th>Time</th>\n",
       "      <th>Length</th>\n",
       "      <th>Airline</th>\n",
       "      <th>AirportFrom</th>\n",
       "      <th>AirportTo</th>\n",
       "      <th>DayOfWeek</th>\n",
       "      <th>Class</th>\n",
       "    </tr>\n",
       "  </thead>\n",
       "  <tbody>\n",
       "    <tr>\n",
       "      <th>0</th>\n",
       "      <td>320.0</td>\n",
       "      <td>870.0</td>\n",
       "      <td>180.0</td>\n",
       "      <td>CO</td>\n",
       "      <td>IAH</td>\n",
       "      <td>PHX</td>\n",
       "      <td>5</td>\n",
       "      <td>0</td>\n",
       "    </tr>\n",
       "    <tr>\n",
       "      <th>1</th>\n",
       "      <td>3045.0</td>\n",
       "      <td>365.0</td>\n",
       "      <td>66.0</td>\n",
       "      <td>OO</td>\n",
       "      <td>DSM</td>\n",
       "      <td>MKE</td>\n",
       "      <td>2</td>\n",
       "      <td>0</td>\n",
       "    </tr>\n",
       "    <tr>\n",
       "      <th>2</th>\n",
       "      <td>1560.0</td>\n",
       "      <td>740.0</td>\n",
       "      <td>257.0</td>\n",
       "      <td>DL</td>\n",
       "      <td>SEA</td>\n",
       "      <td>CVG</td>\n",
       "      <td>7</td>\n",
       "      <td>0</td>\n",
       "    </tr>\n",
       "    <tr>\n",
       "      <th>3</th>\n",
       "      <td>1156.0</td>\n",
       "      <td>595.0</td>\n",
       "      <td>235.0</td>\n",
       "      <td>WN</td>\n",
       "      <td>SNA</td>\n",
       "      <td>MDW</td>\n",
       "      <td>7</td>\n",
       "      <td>1</td>\n",
       "    </tr>\n",
       "    <tr>\n",
       "      <th>4</th>\n",
       "      <td>1873.0</td>\n",
       "      <td>530.0</td>\n",
       "      <td>133.0</td>\n",
       "      <td>CO</td>\n",
       "      <td>IAH</td>\n",
       "      <td>MCO</td>\n",
       "      <td>6</td>\n",
       "      <td>1</td>\n",
       "    </tr>\n",
       "    <tr>\n",
       "      <th>5</th>\n",
       "      <td>3641.0</td>\n",
       "      <td>1045.0</td>\n",
       "      <td>160.0</td>\n",
       "      <td>MQ</td>\n",
       "      <td>MIA</td>\n",
       "      <td>CMH</td>\n",
       "      <td>1</td>\n",
       "      <td>0</td>\n",
       "    </tr>\n",
       "    <tr>\n",
       "      <th>6</th>\n",
       "      <td>138.0</td>\n",
       "      <td>1160.0</td>\n",
       "      <td>185.0</td>\n",
       "      <td>WN</td>\n",
       "      <td>BDL</td>\n",
       "      <td>MCO</td>\n",
       "      <td>7</td>\n",
       "      <td>0</td>\n",
       "    </tr>\n",
       "    <tr>\n",
       "      <th>7</th>\n",
       "      <td>586.0</td>\n",
       "      <td>700.0</td>\n",
       "      <td>142.0</td>\n",
       "      <td>AS</td>\n",
       "      <td>PDX</td>\n",
       "      <td>SNA</td>\n",
       "      <td>2</td>\n",
       "      <td>1</td>\n",
       "    </tr>\n",
       "    <tr>\n",
       "      <th>8</th>\n",
       "      <td>5220.0</td>\n",
       "      <td>895.0</td>\n",
       "      <td>102.0</td>\n",
       "      <td>EV</td>\n",
       "      <td>AEX</td>\n",
       "      <td>ATL</td>\n",
       "      <td>2</td>\n",
       "      <td>0</td>\n",
       "    </tr>\n",
       "    <tr>\n",
       "      <th>9</th>\n",
       "      <td>5122.0</td>\n",
       "      <td>516.0</td>\n",
       "      <td>137.0</td>\n",
       "      <td>EV</td>\n",
       "      <td>DTW</td>\n",
       "      <td>MCI</td>\n",
       "      <td>7</td>\n",
       "      <td>0</td>\n",
       "    </tr>\n",
       "  </tbody>\n",
       "</table>\n",
       "</div>"
      ],
      "text/plain": [
       "   Flight    Time  Length Airline AirportFrom AirportTo  DayOfWeek  Class\n",
       "0   320.0   870.0   180.0      CO         IAH       PHX          5      0\n",
       "1  3045.0   365.0    66.0      OO         DSM       MKE          2      0\n",
       "2  1560.0   740.0   257.0      DL         SEA       CVG          7      0\n",
       "3  1156.0   595.0   235.0      WN         SNA       MDW          7      1\n",
       "4  1873.0   530.0   133.0      CO         IAH       MCO          6      1\n",
       "5  3641.0  1045.0   160.0      MQ         MIA       CMH          1      0\n",
       "6   138.0  1160.0   185.0      WN         BDL       MCO          7      0\n",
       "7   586.0   700.0   142.0      AS         PDX       SNA          2      1\n",
       "8  5220.0   895.0   102.0      EV         AEX       ATL          2      0\n",
       "9  5122.0   516.0   137.0      EV         DTW       MCI          7      0"
      ]
     },
     "execution_count": 4,
     "metadata": {},
     "output_type": "execute_result"
    }
   ],
   "source": [
    "# 4. Menampilkan 10 baris pertama dari dataset\n",
    "df.head(10)"
   ]
  },
  {
   "cell_type": "code",
   "execution_count": 5,
   "id": "13d4c613",
   "metadata": {
    "id": "13d4c613"
   },
   "outputs": [
    {
     "data": {
      "text/html": [
       "<div>\n",
       "<style scoped>\n",
       "    .dataframe tbody tr th:only-of-type {\n",
       "        vertical-align: middle;\n",
       "    }\n",
       "\n",
       "    .dataframe tbody tr th {\n",
       "        vertical-align: top;\n",
       "    }\n",
       "\n",
       "    .dataframe thead th {\n",
       "        text-align: right;\n",
       "    }\n",
       "</style>\n",
       "<table border=\"1\" class=\"dataframe\">\n",
       "  <thead>\n",
       "    <tr style=\"text-align: right;\">\n",
       "      <th></th>\n",
       "      <th>Flight</th>\n",
       "      <th>Time</th>\n",
       "      <th>Length</th>\n",
       "      <th>Airline</th>\n",
       "      <th>AirportFrom</th>\n",
       "      <th>AirportTo</th>\n",
       "      <th>DayOfWeek</th>\n",
       "      <th>Class</th>\n",
       "    </tr>\n",
       "  </thead>\n",
       "  <tbody>\n",
       "    <tr>\n",
       "      <th>10782</th>\n",
       "      <td>2821.0</td>\n",
       "      <td>610.0</td>\n",
       "      <td>50.0</td>\n",
       "      <td>MQ</td>\n",
       "      <td>DFW</td>\n",
       "      <td>SPS</td>\n",
       "      <td>2</td>\n",
       "      <td>0</td>\n",
       "    </tr>\n",
       "    <tr>\n",
       "      <th>10783</th>\n",
       "      <td>2618.0</td>\n",
       "      <td>839.0</td>\n",
       "      <td>118.0</td>\n",
       "      <td>XE</td>\n",
       "      <td>SDF</td>\n",
       "      <td>EWR</td>\n",
       "      <td>2</td>\n",
       "      <td>0</td>\n",
       "    </tr>\n",
       "    <tr>\n",
       "      <th>10784</th>\n",
       "      <td>1973.0</td>\n",
       "      <td>1160.0</td>\n",
       "      <td>124.0</td>\n",
       "      <td>DL</td>\n",
       "      <td>ATL</td>\n",
       "      <td>MIA</td>\n",
       "      <td>2</td>\n",
       "      <td>0</td>\n",
       "    </tr>\n",
       "    <tr>\n",
       "      <th>10785</th>\n",
       "      <td>528.0</td>\n",
       "      <td>1275.0</td>\n",
       "      <td>112.0</td>\n",
       "      <td>US</td>\n",
       "      <td>PHX</td>\n",
       "      <td>RNO</td>\n",
       "      <td>4</td>\n",
       "      <td>0</td>\n",
       "    </tr>\n",
       "    <tr>\n",
       "      <th>10786</th>\n",
       "      <td>2254.0</td>\n",
       "      <td>970.0</td>\n",
       "      <td>95.0</td>\n",
       "      <td>DL</td>\n",
       "      <td>ATL</td>\n",
       "      <td>CMH</td>\n",
       "      <td>4</td>\n",
       "      <td>1</td>\n",
       "    </tr>\n",
       "  </tbody>\n",
       "</table>\n",
       "</div>"
      ],
      "text/plain": [
       "       Flight    Time  Length Airline AirportFrom AirportTo  DayOfWeek  Class\n",
       "10782  2821.0   610.0    50.0      MQ         DFW       SPS          2      0\n",
       "10783  2618.0   839.0   118.0      XE         SDF       EWR          2      0\n",
       "10784  1973.0  1160.0   124.0      DL         ATL       MIA          2      0\n",
       "10785   528.0  1275.0   112.0      US         PHX       RNO          4      0\n",
       "10786  2254.0   970.0    95.0      DL         ATL       CMH          4      1"
      ]
     },
     "execution_count": 5,
     "metadata": {},
     "output_type": "execute_result"
    }
   ],
   "source": [
    "# 5. enampilkan 5 baris terakhir dari dataset\n",
    "df.tail()"
   ]
  },
  {
   "cell_type": "code",
   "execution_count": 6,
   "id": "2e0ae7d8",
   "metadata": {
    "id": "2e0ae7d8"
   },
   "outputs": [
    {
     "data": {
      "text/html": [
       "<div>\n",
       "<style scoped>\n",
       "    .dataframe tbody tr th:only-of-type {\n",
       "        vertical-align: middle;\n",
       "    }\n",
       "\n",
       "    .dataframe tbody tr th {\n",
       "        vertical-align: top;\n",
       "    }\n",
       "\n",
       "    .dataframe thead th {\n",
       "        text-align: right;\n",
       "    }\n",
       "</style>\n",
       "<table border=\"1\" class=\"dataframe\">\n",
       "  <thead>\n",
       "    <tr style=\"text-align: right;\">\n",
       "      <th></th>\n",
       "      <th>Flight</th>\n",
       "      <th>Time</th>\n",
       "      <th>Length</th>\n",
       "      <th>Airline</th>\n",
       "      <th>AirportFrom</th>\n",
       "      <th>AirportTo</th>\n",
       "      <th>DayOfWeek</th>\n",
       "      <th>Class</th>\n",
       "    </tr>\n",
       "  </thead>\n",
       "  <tbody>\n",
       "    <tr>\n",
       "      <th>10767</th>\n",
       "      <td>4200.0</td>\n",
       "      <td>355.0</td>\n",
       "      <td>64.0</td>\n",
       "      <td>9E</td>\n",
       "      <td>TYS</td>\n",
       "      <td>CVG</td>\n",
       "      <td>2</td>\n",
       "      <td>0</td>\n",
       "    </tr>\n",
       "    <tr>\n",
       "      <th>10768</th>\n",
       "      <td>796.0</td>\n",
       "      <td>360.0</td>\n",
       "      <td>95.0</td>\n",
       "      <td>WN</td>\n",
       "      <td>IND</td>\n",
       "      <td>BWI</td>\n",
       "      <td>2</td>\n",
       "      <td>1</td>\n",
       "    </tr>\n",
       "    <tr>\n",
       "      <th>10769</th>\n",
       "      <td>6527.0</td>\n",
       "      <td>370.0</td>\n",
       "      <td>82.0</td>\n",
       "      <td>OH</td>\n",
       "      <td>DCA</td>\n",
       "      <td>JFK</td>\n",
       "      <td>3</td>\n",
       "      <td>1</td>\n",
       "    </tr>\n",
       "    <tr>\n",
       "      <th>10770</th>\n",
       "      <td>541.0</td>\n",
       "      <td>1120.0</td>\n",
       "      <td>130.0</td>\n",
       "      <td>WN</td>\n",
       "      <td>SJC</td>\n",
       "      <td>SEA</td>\n",
       "      <td>5</td>\n",
       "      <td>0</td>\n",
       "    </tr>\n",
       "    <tr>\n",
       "      <th>10771</th>\n",
       "      <td>6317.0</td>\n",
       "      <td>531.0</td>\n",
       "      <td>49.0</td>\n",
       "      <td>OO</td>\n",
       "      <td>SBA</td>\n",
       "      <td>LAX</td>\n",
       "      <td>2</td>\n",
       "      <td>0</td>\n",
       "    </tr>\n",
       "    <tr>\n",
       "      <th>10772</th>\n",
       "      <td>3486.0</td>\n",
       "      <td>450.0</td>\n",
       "      <td>245.0</td>\n",
       "      <td>WN</td>\n",
       "      <td>MDW</td>\n",
       "      <td>PHX</td>\n",
       "      <td>3</td>\n",
       "      <td>1</td>\n",
       "    </tr>\n",
       "    <tr>\n",
       "      <th>10773</th>\n",
       "      <td>897.0</td>\n",
       "      <td>1019.0</td>\n",
       "      <td>135.0</td>\n",
       "      <td>FL</td>\n",
       "      <td>LGA</td>\n",
       "      <td>IND</td>\n",
       "      <td>1</td>\n",
       "      <td>1</td>\n",
       "    </tr>\n",
       "    <tr>\n",
       "      <th>10774</th>\n",
       "      <td>1294.0</td>\n",
       "      <td>1075.0</td>\n",
       "      <td>140.0</td>\n",
       "      <td>AA</td>\n",
       "      <td>IAH</td>\n",
       "      <td>MIA</td>\n",
       "      <td>7</td>\n",
       "      <td>1</td>\n",
       "    </tr>\n",
       "    <tr>\n",
       "      <th>10775</th>\n",
       "      <td>6474.0</td>\n",
       "      <td>961.0</td>\n",
       "      <td>109.0</td>\n",
       "      <td>OO</td>\n",
       "      <td>LAX</td>\n",
       "      <td>ABQ</td>\n",
       "      <td>3</td>\n",
       "      <td>0</td>\n",
       "    </tr>\n",
       "    <tr>\n",
       "      <th>10776</th>\n",
       "      <td>6509.0</td>\n",
       "      <td>571.0</td>\n",
       "      <td>92.0</td>\n",
       "      <td>OO</td>\n",
       "      <td>TUS</td>\n",
       "      <td>LAX</td>\n",
       "      <td>3</td>\n",
       "      <td>0</td>\n",
       "    </tr>\n",
       "    <tr>\n",
       "      <th>10777</th>\n",
       "      <td>1679.0</td>\n",
       "      <td>505.0</td>\n",
       "      <td>57.0</td>\n",
       "      <td>CO</td>\n",
       "      <td>IAH</td>\n",
       "      <td>SAT</td>\n",
       "      <td>1</td>\n",
       "      <td>1</td>\n",
       "    </tr>\n",
       "    <tr>\n",
       "      <th>10778</th>\n",
       "      <td>508.0</td>\n",
       "      <td>480.0</td>\n",
       "      <td>325.0</td>\n",
       "      <td>WN</td>\n",
       "      <td>MCO</td>\n",
       "      <td>LAS</td>\n",
       "      <td>3</td>\n",
       "      <td>1</td>\n",
       "    </tr>\n",
       "    <tr>\n",
       "      <th>10779</th>\n",
       "      <td>4961.0</td>\n",
       "      <td>999.0</td>\n",
       "      <td>80.0</td>\n",
       "      <td>EV</td>\n",
       "      <td>FLO</td>\n",
       "      <td>ATL</td>\n",
       "      <td>6</td>\n",
       "      <td>0</td>\n",
       "    </tr>\n",
       "    <tr>\n",
       "      <th>10780</th>\n",
       "      <td>2297.0</td>\n",
       "      <td>560.0</td>\n",
       "      <td>65.0</td>\n",
       "      <td>XE</td>\n",
       "      <td>MKE</td>\n",
       "      <td>CLE</td>\n",
       "      <td>6</td>\n",
       "      <td>1</td>\n",
       "    </tr>\n",
       "    <tr>\n",
       "      <th>10781</th>\n",
       "      <td>1227.0</td>\n",
       "      <td>645.0</td>\n",
       "      <td>75.0</td>\n",
       "      <td>WN</td>\n",
       "      <td>RDU</td>\n",
       "      <td>PHL</td>\n",
       "      <td>2</td>\n",
       "      <td>0</td>\n",
       "    </tr>\n",
       "    <tr>\n",
       "      <th>10782</th>\n",
       "      <td>2821.0</td>\n",
       "      <td>610.0</td>\n",
       "      <td>50.0</td>\n",
       "      <td>MQ</td>\n",
       "      <td>DFW</td>\n",
       "      <td>SPS</td>\n",
       "      <td>2</td>\n",
       "      <td>0</td>\n",
       "    </tr>\n",
       "    <tr>\n",
       "      <th>10783</th>\n",
       "      <td>2618.0</td>\n",
       "      <td>839.0</td>\n",
       "      <td>118.0</td>\n",
       "      <td>XE</td>\n",
       "      <td>SDF</td>\n",
       "      <td>EWR</td>\n",
       "      <td>2</td>\n",
       "      <td>0</td>\n",
       "    </tr>\n",
       "    <tr>\n",
       "      <th>10784</th>\n",
       "      <td>1973.0</td>\n",
       "      <td>1160.0</td>\n",
       "      <td>124.0</td>\n",
       "      <td>DL</td>\n",
       "      <td>ATL</td>\n",
       "      <td>MIA</td>\n",
       "      <td>2</td>\n",
       "      <td>0</td>\n",
       "    </tr>\n",
       "    <tr>\n",
       "      <th>10785</th>\n",
       "      <td>528.0</td>\n",
       "      <td>1275.0</td>\n",
       "      <td>112.0</td>\n",
       "      <td>US</td>\n",
       "      <td>PHX</td>\n",
       "      <td>RNO</td>\n",
       "      <td>4</td>\n",
       "      <td>0</td>\n",
       "    </tr>\n",
       "    <tr>\n",
       "      <th>10786</th>\n",
       "      <td>2254.0</td>\n",
       "      <td>970.0</td>\n",
       "      <td>95.0</td>\n",
       "      <td>DL</td>\n",
       "      <td>ATL</td>\n",
       "      <td>CMH</td>\n",
       "      <td>4</td>\n",
       "      <td>1</td>\n",
       "    </tr>\n",
       "  </tbody>\n",
       "</table>\n",
       "</div>"
      ],
      "text/plain": [
       "       Flight    Time  Length Airline AirportFrom AirportTo  DayOfWeek  Class\n",
       "10767  4200.0   355.0    64.0      9E         TYS       CVG          2      0\n",
       "10768   796.0   360.0    95.0      WN         IND       BWI          2      1\n",
       "10769  6527.0   370.0    82.0      OH         DCA       JFK          3      1\n",
       "10770   541.0  1120.0   130.0      WN         SJC       SEA          5      0\n",
       "10771  6317.0   531.0    49.0      OO         SBA       LAX          2      0\n",
       "10772  3486.0   450.0   245.0      WN         MDW       PHX          3      1\n",
       "10773   897.0  1019.0   135.0      FL         LGA       IND          1      1\n",
       "10774  1294.0  1075.0   140.0      AA         IAH       MIA          7      1\n",
       "10775  6474.0   961.0   109.0      OO         LAX       ABQ          3      0\n",
       "10776  6509.0   571.0    92.0      OO         TUS       LAX          3      0\n",
       "10777  1679.0   505.0    57.0      CO         IAH       SAT          1      1\n",
       "10778   508.0   480.0   325.0      WN         MCO       LAS          3      1\n",
       "10779  4961.0   999.0    80.0      EV         FLO       ATL          6      0\n",
       "10780  2297.0   560.0    65.0      XE         MKE       CLE          6      1\n",
       "10781  1227.0   645.0    75.0      WN         RDU       PHL          2      0\n",
       "10782  2821.0   610.0    50.0      MQ         DFW       SPS          2      0\n",
       "10783  2618.0   839.0   118.0      XE         SDF       EWR          2      0\n",
       "10784  1973.0  1160.0   124.0      DL         ATL       MIA          2      0\n",
       "10785   528.0  1275.0   112.0      US         PHX       RNO          4      0\n",
       "10786  2254.0   970.0    95.0      DL         ATL       CMH          4      1"
      ]
     },
     "execution_count": 6,
     "metadata": {},
     "output_type": "execute_result"
    }
   ],
   "source": [
    "# 6. Menampilkan 20 baris terakhir dari dataset\n",
    "df.tail(20)"
   ]
  },
  {
   "cell_type": "code",
   "execution_count": 7,
   "id": "079cc164",
   "metadata": {
    "id": "079cc164"
   },
   "outputs": [
    {
     "data": {
      "text/plain": [
       "(10787, 8)"
      ]
     },
     "execution_count": 7,
     "metadata": {},
     "output_type": "execute_result"
    }
   ],
   "source": [
    "# 7. Mengetahui jumlah baris dan kolom memanfaatkan fungsi shape\n",
    "df.shape"
   ]
  },
  {
   "cell_type": "code",
   "execution_count": 8,
   "id": "eca60a59",
   "metadata": {
    "id": "eca60a59"
   },
   "outputs": [
    {
     "name": "stdout",
     "output_type": "stream",
     "text": [
      "Jumlah Baris :  10787\n",
      "Jumlah Kolom :  8\n"
     ]
    }
   ],
   "source": [
    "# 8. Mengetahui jumlah baris dan kolom memanfaatkan fungsi shape\n",
    "print(\"Jumlah Baris : \", df.shape[0])\n",
    "print(\"Jumlah Kolom : \", df.shape[1])"
   ]
  },
  {
   "cell_type": "code",
   "execution_count": 9,
   "id": "45aa5ebd",
   "metadata": {
    "id": "45aa5ebd"
   },
   "outputs": [
    {
     "data": {
      "text/plain": [
       "Flight         float64\n",
       "Time           float64\n",
       "Length         float64\n",
       "Airline         object\n",
       "AirportFrom     object\n",
       "AirportTo       object\n",
       "DayOfWeek        int64\n",
       "Class            int64\n",
       "dtype: object"
      ]
     },
     "execution_count": 9,
     "metadata": {},
     "output_type": "execute_result"
    }
   ],
   "source": [
    "# 9. Mengetahui tipe data pada dataset\n",
    "df.dtypes"
   ]
  },
  {
   "cell_type": "code",
   "execution_count": 10,
   "id": "0e0f20b7",
   "metadata": {
    "id": "0e0f20b7"
   },
   "outputs": [
    {
     "data": {
      "text/html": [
       "<div>\n",
       "<style scoped>\n",
       "    .dataframe tbody tr th:only-of-type {\n",
       "        vertical-align: middle;\n",
       "    }\n",
       "\n",
       "    .dataframe tbody tr th {\n",
       "        vertical-align: top;\n",
       "    }\n",
       "\n",
       "    .dataframe thead th {\n",
       "        text-align: right;\n",
       "    }\n",
       "</style>\n",
       "<table border=\"1\" class=\"dataframe\">\n",
       "  <thead>\n",
       "    <tr style=\"text-align: right;\">\n",
       "      <th></th>\n",
       "      <th>Flight</th>\n",
       "      <th>Time</th>\n",
       "      <th>Length</th>\n",
       "      <th>DayOfWeek</th>\n",
       "      <th>Class</th>\n",
       "    </tr>\n",
       "  </thead>\n",
       "  <tbody>\n",
       "    <tr>\n",
       "      <th>count</th>\n",
       "      <td>10787.000000</td>\n",
       "      <td>10787.000000</td>\n",
       "      <td>10787.000000</td>\n",
       "      <td>10787.000000</td>\n",
       "      <td>10787.000000</td>\n",
       "    </tr>\n",
       "    <tr>\n",
       "      <th>mean</th>\n",
       "      <td>2435.506999</td>\n",
       "      <td>803.193566</td>\n",
       "      <td>133.346621</td>\n",
       "      <td>3.895430</td>\n",
       "      <td>0.447576</td>\n",
       "    </tr>\n",
       "    <tr>\n",
       "      <th>std</th>\n",
       "      <td>2071.935213</td>\n",
       "      <td>276.976027</td>\n",
       "      <td>71.598884</td>\n",
       "      <td>1.923294</td>\n",
       "      <td>0.497267</td>\n",
       "    </tr>\n",
       "    <tr>\n",
       "      <th>min</th>\n",
       "      <td>1.000000</td>\n",
       "      <td>15.000000</td>\n",
       "      <td>29.000000</td>\n",
       "      <td>1.000000</td>\n",
       "      <td>0.000000</td>\n",
       "    </tr>\n",
       "    <tr>\n",
       "      <th>25%</th>\n",
       "      <td>720.000000</td>\n",
       "      <td>567.000000</td>\n",
       "      <td>81.000000</td>\n",
       "      <td>2.000000</td>\n",
       "      <td>0.000000</td>\n",
       "    </tr>\n",
       "    <tr>\n",
       "      <th>50%</th>\n",
       "      <td>1798.000000</td>\n",
       "      <td>795.000000</td>\n",
       "      <td>116.000000</td>\n",
       "      <td>4.000000</td>\n",
       "      <td>0.000000</td>\n",
       "    </tr>\n",
       "    <tr>\n",
       "      <th>75%</th>\n",
       "      <td>3785.500000</td>\n",
       "      <td>1035.000000</td>\n",
       "      <td>164.000000</td>\n",
       "      <td>5.000000</td>\n",
       "      <td>1.000000</td>\n",
       "    </tr>\n",
       "    <tr>\n",
       "      <th>max</th>\n",
       "      <td>7812.000000</td>\n",
       "      <td>1439.000000</td>\n",
       "      <td>655.000000</td>\n",
       "      <td>7.000000</td>\n",
       "      <td>1.000000</td>\n",
       "    </tr>\n",
       "  </tbody>\n",
       "</table>\n",
       "</div>"
      ],
      "text/plain": [
       "             Flight          Time        Length     DayOfWeek         Class\n",
       "count  10787.000000  10787.000000  10787.000000  10787.000000  10787.000000\n",
       "mean    2435.506999    803.193566    133.346621      3.895430      0.447576\n",
       "std     2071.935213    276.976027     71.598884      1.923294      0.497267\n",
       "min        1.000000     15.000000     29.000000      1.000000      0.000000\n",
       "25%      720.000000    567.000000     81.000000      2.000000      0.000000\n",
       "50%     1798.000000    795.000000    116.000000      4.000000      0.000000\n",
       "75%     3785.500000   1035.000000    164.000000      5.000000      1.000000\n",
       "max     7812.000000   1439.000000    655.000000      7.000000      1.000000"
      ]
     },
     "execution_count": 10,
     "metadata": {},
     "output_type": "execute_result"
    }
   ],
   "source": [
    "# 10. Menampilkan statistik kolom\n",
    "df.describe()"
   ]
  },
  {
   "cell_type": "code",
   "execution_count": 11,
   "id": "29992d2d",
   "metadata": {
    "id": "29992d2d"
   },
   "outputs": [
    {
     "data": {
      "text/html": [
       "<div>\n",
       "<style scoped>\n",
       "    .dataframe tbody tr th:only-of-type {\n",
       "        vertical-align: middle;\n",
       "    }\n",
       "\n",
       "    .dataframe tbody tr th {\n",
       "        vertical-align: top;\n",
       "    }\n",
       "\n",
       "    .dataframe thead th {\n",
       "        text-align: right;\n",
       "    }\n",
       "</style>\n",
       "<table border=\"1\" class=\"dataframe\">\n",
       "  <thead>\n",
       "    <tr style=\"text-align: right;\">\n",
       "      <th></th>\n",
       "      <th>Flight</th>\n",
       "      <th>Time</th>\n",
       "      <th>Length</th>\n",
       "      <th>Airline</th>\n",
       "      <th>AirportFrom</th>\n",
       "      <th>AirportTo</th>\n",
       "      <th>DayOfWeek</th>\n",
       "      <th>Class</th>\n",
       "    </tr>\n",
       "  </thead>\n",
       "  <tbody>\n",
       "    <tr>\n",
       "      <th>count</th>\n",
       "      <td>10787.000000</td>\n",
       "      <td>10787.000000</td>\n",
       "      <td>10787.000000</td>\n",
       "      <td>10787</td>\n",
       "      <td>10787</td>\n",
       "      <td>10787</td>\n",
       "      <td>10787.000000</td>\n",
       "      <td>10787.000000</td>\n",
       "    </tr>\n",
       "    <tr>\n",
       "      <th>unique</th>\n",
       "      <td>NaN</td>\n",
       "      <td>NaN</td>\n",
       "      <td>NaN</td>\n",
       "      <td>18</td>\n",
       "      <td>270</td>\n",
       "      <td>265</td>\n",
       "      <td>NaN</td>\n",
       "      <td>NaN</td>\n",
       "    </tr>\n",
       "    <tr>\n",
       "      <th>top</th>\n",
       "      <td>NaN</td>\n",
       "      <td>NaN</td>\n",
       "      <td>NaN</td>\n",
       "      <td>WN</td>\n",
       "      <td>ATL</td>\n",
       "      <td>ATL</td>\n",
       "      <td>NaN</td>\n",
       "      <td>NaN</td>\n",
       "    </tr>\n",
       "    <tr>\n",
       "      <th>freq</th>\n",
       "      <td>NaN</td>\n",
       "      <td>NaN</td>\n",
       "      <td>NaN</td>\n",
       "      <td>1887</td>\n",
       "      <td>687</td>\n",
       "      <td>708</td>\n",
       "      <td>NaN</td>\n",
       "      <td>NaN</td>\n",
       "    </tr>\n",
       "    <tr>\n",
       "      <th>mean</th>\n",
       "      <td>2435.506999</td>\n",
       "      <td>803.193566</td>\n",
       "      <td>133.346621</td>\n",
       "      <td>NaN</td>\n",
       "      <td>NaN</td>\n",
       "      <td>NaN</td>\n",
       "      <td>3.895430</td>\n",
       "      <td>0.447576</td>\n",
       "    </tr>\n",
       "    <tr>\n",
       "      <th>std</th>\n",
       "      <td>2071.935213</td>\n",
       "      <td>276.976027</td>\n",
       "      <td>71.598884</td>\n",
       "      <td>NaN</td>\n",
       "      <td>NaN</td>\n",
       "      <td>NaN</td>\n",
       "      <td>1.923294</td>\n",
       "      <td>0.497267</td>\n",
       "    </tr>\n",
       "    <tr>\n",
       "      <th>min</th>\n",
       "      <td>1.000000</td>\n",
       "      <td>15.000000</td>\n",
       "      <td>29.000000</td>\n",
       "      <td>NaN</td>\n",
       "      <td>NaN</td>\n",
       "      <td>NaN</td>\n",
       "      <td>1.000000</td>\n",
       "      <td>0.000000</td>\n",
       "    </tr>\n",
       "    <tr>\n",
       "      <th>25%</th>\n",
       "      <td>720.000000</td>\n",
       "      <td>567.000000</td>\n",
       "      <td>81.000000</td>\n",
       "      <td>NaN</td>\n",
       "      <td>NaN</td>\n",
       "      <td>NaN</td>\n",
       "      <td>2.000000</td>\n",
       "      <td>0.000000</td>\n",
       "    </tr>\n",
       "    <tr>\n",
       "      <th>50%</th>\n",
       "      <td>1798.000000</td>\n",
       "      <td>795.000000</td>\n",
       "      <td>116.000000</td>\n",
       "      <td>NaN</td>\n",
       "      <td>NaN</td>\n",
       "      <td>NaN</td>\n",
       "      <td>4.000000</td>\n",
       "      <td>0.000000</td>\n",
       "    </tr>\n",
       "    <tr>\n",
       "      <th>75%</th>\n",
       "      <td>3785.500000</td>\n",
       "      <td>1035.000000</td>\n",
       "      <td>164.000000</td>\n",
       "      <td>NaN</td>\n",
       "      <td>NaN</td>\n",
       "      <td>NaN</td>\n",
       "      <td>5.000000</td>\n",
       "      <td>1.000000</td>\n",
       "    </tr>\n",
       "    <tr>\n",
       "      <th>max</th>\n",
       "      <td>7812.000000</td>\n",
       "      <td>1439.000000</td>\n",
       "      <td>655.000000</td>\n",
       "      <td>NaN</td>\n",
       "      <td>NaN</td>\n",
       "      <td>NaN</td>\n",
       "      <td>7.000000</td>\n",
       "      <td>1.000000</td>\n",
       "    </tr>\n",
       "  </tbody>\n",
       "</table>\n",
       "</div>"
      ],
      "text/plain": [
       "              Flight          Time        Length Airline AirportFrom  \\\n",
       "count   10787.000000  10787.000000  10787.000000   10787       10787   \n",
       "unique           NaN           NaN           NaN      18         270   \n",
       "top              NaN           NaN           NaN      WN         ATL   \n",
       "freq             NaN           NaN           NaN    1887         687   \n",
       "mean     2435.506999    803.193566    133.346621     NaN         NaN   \n",
       "std      2071.935213    276.976027     71.598884     NaN         NaN   \n",
       "min         1.000000     15.000000     29.000000     NaN         NaN   \n",
       "25%       720.000000    567.000000     81.000000     NaN         NaN   \n",
       "50%      1798.000000    795.000000    116.000000     NaN         NaN   \n",
       "75%      3785.500000   1035.000000    164.000000     NaN         NaN   \n",
       "max      7812.000000   1439.000000    655.000000     NaN         NaN   \n",
       "\n",
       "       AirportTo     DayOfWeek         Class  \n",
       "count      10787  10787.000000  10787.000000  \n",
       "unique       265           NaN           NaN  \n",
       "top          ATL           NaN           NaN  \n",
       "freq         708           NaN           NaN  \n",
       "mean         NaN      3.895430      0.447576  \n",
       "std          NaN      1.923294      0.497267  \n",
       "min          NaN      1.000000      0.000000  \n",
       "25%          NaN      2.000000      0.000000  \n",
       "50%          NaN      4.000000      0.000000  \n",
       "75%          NaN      5.000000      1.000000  \n",
       "max          NaN      7.000000      1.000000  "
      ]
     },
     "execution_count": 11,
     "metadata": {},
     "output_type": "execute_result"
    }
   ],
   "source": [
    "# 11. Menampilkan statistik kolom baik yang bertipe numerik dan non numerik menggunakan fungsi describe\n",
    "df.describe(include='all')"
   ]
  },
  {
   "cell_type": "markdown",
   "id": "3cba221e",
   "metadata": {
    "id": "3cba221e"
   },
   "source": [
    "### Mendeteksi Outliers"
   ]
  },
  {
   "cell_type": "code",
   "execution_count": 22,
   "id": "43bef253",
   "metadata": {
    "id": "43bef253"
   },
   "outputs": [
    {
     "data": {
      "text/plain": [
       "Flight       3065.5\n",
       "Time          468.0\n",
       "Length         83.0\n",
       "DayOfWeek       3.0\n",
       "Class           1.0\n",
       "dtype: float64"
      ]
     },
     "execution_count": 22,
     "metadata": {},
     "output_type": "execute_result"
    }
   ],
   "source": [
    "q1 = df.select_dtypes(exclude=['object']).quantile (0.25)\n",
    "q3 = df.select_dtypes(exclude=['object']).quantile (0.75)\n",
    "iqr = q3-q1\n",
    "iqr"
   ]
  },
  {
   "cell_type": "code",
   "execution_count": 23,
   "id": "cdee1e58",
   "metadata": {
    "id": "cdee1e58"
   },
   "outputs": [
    {
     "data": {
      "text/plain": [
       "Flight      -3878.25\n",
       "Time         -135.00\n",
       "Length        -43.50\n",
       "DayOfWeek      -2.50\n",
       "Class          -1.50\n",
       "dtype: float64"
      ]
     },
     "execution_count": 23,
     "metadata": {},
     "output_type": "execute_result"
    }
   ],
   "source": [
    "# 12. Melihat batas bawah/minimum dari Interquartile Range (IQR)\n",
    "batas_bawah = q1 - (1.5 * iqr)\n",
    "batas_bawah"
   ]
  },
  {
   "cell_type": "code",
   "execution_count": 25,
   "id": "1df6caab",
   "metadata": {
    "id": "1df6caab"
   },
   "outputs": [
    {
     "data": {
      "text/plain": [
       "Flight       8383.75\n",
       "Time         1737.00\n",
       "Length        288.50\n",
       "DayOfWeek       9.50\n",
       "Class           2.50\n",
       "dtype: float64"
      ]
     },
     "execution_count": 25,
     "metadata": {},
     "output_type": "execute_result"
    }
   ],
   "source": [
    "# 13. Melihat batas atas/maksimum dari Iterquartile Range (IQR)\n",
    "batas_atas = q3 + (1.5* iqr)\n",
    "batas_atas"
   ]
  },
  {
   "cell_type": "markdown",
   "id": "6ac1d14a",
   "metadata": {
    "id": "6ac1d14a"
   },
   "source": [
    "Dari kode di atas dapat diketahui berapa nilai untuk batas atas dan batas bawah dari setiap kolom"
   ]
  },
  {
   "cell_type": "code",
   "execution_count": 26,
   "id": "42937fb2",
   "metadata": {
    "id": "42937fb2"
   },
   "outputs": [],
   "source": [
    "# 14. Menampung kolom dengan tipe data selain object\n",
    "df_ex_object = df.select_dtypes(exclude=['object'])"
   ]
  },
  {
   "cell_type": "code",
   "execution_count": 27,
   "id": "339ae0c3-4859-408d-b07d-a7bb38f3f189",
   "metadata": {},
   "outputs": [
    {
     "data": {
      "text/html": [
       "<div>\n",
       "<style scoped>\n",
       "    .dataframe tbody tr th:only-of-type {\n",
       "        vertical-align: middle;\n",
       "    }\n",
       "\n",
       "    .dataframe tbody tr th {\n",
       "        vertical-align: top;\n",
       "    }\n",
       "\n",
       "    .dataframe thead th {\n",
       "        text-align: right;\n",
       "    }\n",
       "</style>\n",
       "<table border=\"1\" class=\"dataframe\">\n",
       "  <thead>\n",
       "    <tr style=\"text-align: right;\">\n",
       "      <th></th>\n",
       "      <th>Flight</th>\n",
       "      <th>Time</th>\n",
       "      <th>Length</th>\n",
       "      <th>DayOfWeek</th>\n",
       "      <th>Class</th>\n",
       "    </tr>\n",
       "  </thead>\n",
       "  <tbody>\n",
       "    <tr>\n",
       "      <th>0</th>\n",
       "      <td>320.0</td>\n",
       "      <td>870.0</td>\n",
       "      <td>180.0</td>\n",
       "      <td>5</td>\n",
       "      <td>0</td>\n",
       "    </tr>\n",
       "    <tr>\n",
       "      <th>1</th>\n",
       "      <td>3045.0</td>\n",
       "      <td>365.0</td>\n",
       "      <td>66.0</td>\n",
       "      <td>2</td>\n",
       "      <td>0</td>\n",
       "    </tr>\n",
       "    <tr>\n",
       "      <th>2</th>\n",
       "      <td>1560.0</td>\n",
       "      <td>740.0</td>\n",
       "      <td>257.0</td>\n",
       "      <td>7</td>\n",
       "      <td>0</td>\n",
       "    </tr>\n",
       "    <tr>\n",
       "      <th>3</th>\n",
       "      <td>1156.0</td>\n",
       "      <td>595.0</td>\n",
       "      <td>235.0</td>\n",
       "      <td>7</td>\n",
       "      <td>1</td>\n",
       "    </tr>\n",
       "    <tr>\n",
       "      <th>4</th>\n",
       "      <td>1873.0</td>\n",
       "      <td>530.0</td>\n",
       "      <td>133.0</td>\n",
       "      <td>6</td>\n",
       "      <td>1</td>\n",
       "    </tr>\n",
       "  </tbody>\n",
       "</table>\n",
       "</div>"
      ],
      "text/plain": [
       "   Flight   Time  Length  DayOfWeek  Class\n",
       "0   320.0  870.0   180.0          5      0\n",
       "1  3045.0  365.0    66.0          2      0\n",
       "2  1560.0  740.0   257.0          7      0\n",
       "3  1156.0  595.0   235.0          7      1\n",
       "4  1873.0  530.0   133.0          6      1"
      ]
     },
     "execution_count": 27,
     "metadata": {},
     "output_type": "execute_result"
    }
   ],
   "source": [
    "df_ex_object.head()"
   ]
  },
  {
   "cell_type": "code",
   "execution_count": 28,
   "id": "e21744b5",
   "metadata": {
    "id": "e21744b5"
   },
   "outputs": [
    {
     "data": {
      "text/html": [
       "<div>\n",
       "<style scoped>\n",
       "    .dataframe tbody tr th:only-of-type {\n",
       "        vertical-align: middle;\n",
       "    }\n",
       "\n",
       "    .dataframe tbody tr th {\n",
       "        vertical-align: top;\n",
       "    }\n",
       "\n",
       "    .dataframe thead th {\n",
       "        text-align: right;\n",
       "    }\n",
       "</style>\n",
       "<table border=\"1\" class=\"dataframe\">\n",
       "  <thead>\n",
       "    <tr style=\"text-align: right;\">\n",
       "      <th></th>\n",
       "      <th>Flight</th>\n",
       "      <th>Time</th>\n",
       "      <th>Length</th>\n",
       "      <th>DayOfWeek</th>\n",
       "      <th>Class</th>\n",
       "    </tr>\n",
       "  </thead>\n",
       "  <tbody>\n",
       "    <tr>\n",
       "      <th>0</th>\n",
       "      <td>False</td>\n",
       "      <td>False</td>\n",
       "      <td>False</td>\n",
       "      <td>False</td>\n",
       "      <td>False</td>\n",
       "    </tr>\n",
       "    <tr>\n",
       "      <th>1</th>\n",
       "      <td>False</td>\n",
       "      <td>False</td>\n",
       "      <td>False</td>\n",
       "      <td>False</td>\n",
       "      <td>False</td>\n",
       "    </tr>\n",
       "    <tr>\n",
       "      <th>2</th>\n",
       "      <td>False</td>\n",
       "      <td>False</td>\n",
       "      <td>False</td>\n",
       "      <td>False</td>\n",
       "      <td>False</td>\n",
       "    </tr>\n",
       "    <tr>\n",
       "      <th>3</th>\n",
       "      <td>False</td>\n",
       "      <td>False</td>\n",
       "      <td>False</td>\n",
       "      <td>False</td>\n",
       "      <td>False</td>\n",
       "    </tr>\n",
       "    <tr>\n",
       "      <th>4</th>\n",
       "      <td>False</td>\n",
       "      <td>False</td>\n",
       "      <td>False</td>\n",
       "      <td>False</td>\n",
       "      <td>False</td>\n",
       "    </tr>\n",
       "    <tr>\n",
       "      <th>...</th>\n",
       "      <td>...</td>\n",
       "      <td>...</td>\n",
       "      <td>...</td>\n",
       "      <td>...</td>\n",
       "      <td>...</td>\n",
       "    </tr>\n",
       "    <tr>\n",
       "      <th>10782</th>\n",
       "      <td>False</td>\n",
       "      <td>False</td>\n",
       "      <td>False</td>\n",
       "      <td>False</td>\n",
       "      <td>False</td>\n",
       "    </tr>\n",
       "    <tr>\n",
       "      <th>10783</th>\n",
       "      <td>False</td>\n",
       "      <td>False</td>\n",
       "      <td>False</td>\n",
       "      <td>False</td>\n",
       "      <td>False</td>\n",
       "    </tr>\n",
       "    <tr>\n",
       "      <th>10784</th>\n",
       "      <td>False</td>\n",
       "      <td>False</td>\n",
       "      <td>False</td>\n",
       "      <td>False</td>\n",
       "      <td>False</td>\n",
       "    </tr>\n",
       "    <tr>\n",
       "      <th>10785</th>\n",
       "      <td>False</td>\n",
       "      <td>False</td>\n",
       "      <td>False</td>\n",
       "      <td>False</td>\n",
       "      <td>False</td>\n",
       "    </tr>\n",
       "    <tr>\n",
       "      <th>10786</th>\n",
       "      <td>False</td>\n",
       "      <td>False</td>\n",
       "      <td>False</td>\n",
       "      <td>False</td>\n",
       "      <td>False</td>\n",
       "    </tr>\n",
       "  </tbody>\n",
       "</table>\n",
       "<p>10787 rows × 5 columns</p>\n",
       "</div>"
      ],
      "text/plain": [
       "       Flight   Time  Length  DayOfWeek  Class\n",
       "0       False  False   False      False  False\n",
       "1       False  False   False      False  False\n",
       "2       False  False   False      False  False\n",
       "3       False  False   False      False  False\n",
       "4       False  False   False      False  False\n",
       "...       ...    ...     ...        ...    ...\n",
       "10782   False  False   False      False  False\n",
       "10783   False  False   False      False  False\n",
       "10784   False  False   False      False  False\n",
       "10785   False  False   False      False  False\n",
       "10786   False  False   False      False  False\n",
       "\n",
       "[10787 rows x 5 columns]"
      ]
     },
     "execution_count": 28,
     "metadata": {},
     "output_type": "execute_result"
    }
   ],
   "source": [
    "# 15. Filter outlier pada dataset dengan batas bawah dan atas\n",
    "outlier_filter = ((df_ex_object < batas_bawah) | (df_ex_object > batas_atas))\n",
    "outlier_filter"
   ]
  },
  {
   "cell_type": "code",
   "execution_count": 30,
   "id": "885a5959",
   "metadata": {
    "id": "885a5959"
   },
   "outputs": [
    {
     "name": "stdout",
     "output_type": "stream",
     "text": [
      "Nama Kolom: Flight\n",
      "False    10787\n",
      "Name: Flight, dtype: int64\n",
      "-------------------\n",
      "Nama Kolom: Time\n",
      "False    10787\n",
      "Name: Time, dtype: int64\n",
      "-------------------\n",
      "Nama Kolom: Length\n",
      "False    10249\n",
      "True       538\n",
      "Name: Length, dtype: int64\n",
      "-------------------\n",
      "Nama Kolom: DayOfWeek\n",
      "False    10787\n",
      "Name: DayOfWeek, dtype: int64\n",
      "-------------------\n",
      "Nama Kolom: Class\n",
      "False    10787\n",
      "Name: Class, dtype: int64\n",
      "-------------------\n"
     ]
    }
   ],
   "source": [
    "## 16. Menghitung Jumlah Outlier Pada Data\n",
    "for col in outlier_filter.columns :\n",
    "    if df[col].dtype != object :\n",
    "        print('Nama Kolom:',col)\n",
    "        print(outlier_filter[col].value_counts())\n",
    "        print('-------------------')"
   ]
  },
  {
   "cell_type": "code",
   "execution_count": 31,
   "id": "c7799935",
   "metadata": {
    "id": "c7799935"
   },
   "outputs": [
    {
     "data": {
      "text/plain": [
       "4.987484935570595"
      ]
     },
     "execution_count": 31,
     "metadata": {},
     "output_type": "execute_result"
    }
   ],
   "source": [
    "# 17. Persentase Outliers\n",
    "length_outliers_percentage = len(outlier_filter[outlier_filter.Length==True]) / len(df['Length']) * 100\n",
    "length_outliers_percentage"
   ]
  },
  {
   "cell_type": "code",
   "execution_count": 33,
   "id": "f670c72e",
   "metadata": {
    "id": "f670c72e"
   },
   "outputs": [
    {
     "data": {
      "text/plain": [
       "Airline\n",
       "9E     25.137381\n",
       "AA     79.964064\n",
       "AS     87.750062\n",
       "B6     83.566714\n",
       "CO     81.894476\n",
       "DL     73.829095\n",
       "EV     27.749909\n",
       "F9     45.220751\n",
       "FL     43.172867\n",
       "HA    108.017397\n",
       "MQ     36.596474\n",
       "OH     32.884057\n",
       "OO     41.957837\n",
       "UA     93.667622\n",
       "US     77.367830\n",
       "WN     60.583769\n",
       "XE     37.130555\n",
       "YV     39.197155\n",
       "Name: Length, dtype: float64"
      ]
     },
     "execution_count": 33,
     "metadata": {},
     "output_type": "execute_result"
    }
   ],
   "source": [
    "# 18. Analisa standar deviasi panjang penerbangan masing-masing maskapai dengan Groupby\n",
    "df.groupby('Airline')['Length'].std()"
   ]
  },
  {
   "cell_type": "code",
   "execution_count": 34,
   "id": "13118583-4e23-40d3-a741-76da2ca8082c",
   "metadata": {},
   "outputs": [
    {
     "data": {
      "text/plain": [
       "Index(['Flight', 'Time', 'Length', 'Airline', 'AirportFrom', 'AirportTo',\n",
       "       'DayOfWeek', 'Class'],\n",
       "      dtype='object')"
      ]
     },
     "execution_count": 34,
     "metadata": {},
     "output_type": "execute_result"
    }
   ],
   "source": [
    "df.columns"
   ]
  },
  {
   "cell_type": "code",
   "execution_count": 36,
   "id": "a1eacee6",
   "metadata": {
    "id": "a1eacee6"
   },
   "outputs": [
    {
     "data": {
      "text/plain": [
       "Airline\n",
       "9E     95.192037\n",
       "AA    178.268008\n",
       "AS    180.504425\n",
       "B6    178.336391\n",
       "CO    194.167431\n",
       "DL    159.896639\n",
       "EV     91.988506\n",
       "F9    152.698413\n",
       "FL    131.644028\n",
       "HA     82.211864\n",
       "MQ    102.943583\n",
       "OH    108.905882\n",
       "OO     96.270492\n",
       "UA    192.762745\n",
       "US    145.995714\n",
       "WN    118.078961\n",
       "XE    110.744113\n",
       "YV     90.731449\n",
       "Name: Length, dtype: float64"
      ]
     },
     "execution_count": 36,
     "metadata": {},
     "output_type": "execute_result"
    }
   ],
   "source": [
    "# 19. Analisa jumlah delay masing-masing maskapai dengan Groupby\n",
    "df.groupby('Airline')['Length'].mean()"
   ]
  },
  {
   "cell_type": "code",
   "execution_count": 37,
   "id": "9adcbb8b",
   "metadata": {
    "id": "9adcbb8b"
   },
   "outputs": [
    {
     "data": {
      "text/plain": [
       "DayOfWeek\n",
       "1    134.025350\n",
       "2    133.177507\n",
       "3    133.594595\n",
       "4    130.724501\n",
       "5    135.148126\n",
       "6    131.776903\n",
       "7    135.011445\n",
       "Name: Length, dtype: float64"
      ]
     },
     "execution_count": 37,
     "metadata": {},
     "output_type": "execute_result"
    }
   ],
   "source": [
    "# 20. Analisa jumlah delay dari masing-masing hari dengan Groupby\n",
    "df.groupby('DayOfWeek')['Length'].mean()"
   ]
  },
  {
   "cell_type": "markdown",
   "id": "b0a5ce85",
   "metadata": {
    "id": "b0a5ce85"
   },
   "source": [
    "### Menelaah Data dengan Metode Visualisasi"
   ]
  },
  {
   "cell_type": "code",
   "execution_count": 38,
   "id": "cceb2705",
   "metadata": {
    "id": "cceb2705"
   },
   "outputs": [],
   "source": [
    "# Import Library\n",
    "\n",
    "# 21. Library Numpy\n",
    "import numpy as np\n",
    "# 22. Pyplot\n",
    "import matplotlib.pyplot as plt\n",
    "# 23. Seaborn\n",
    "import seaborn as sns"
   ]
  },
  {
   "cell_type": "code",
   "execution_count": 39,
   "id": "29fb09cd",
   "metadata": {
    "id": "29fb09cd"
   },
   "outputs": [
    {
     "data": {
      "image/png": "[encoded data removed]",
      "text/plain": [
       "<Figure size 1440x144 with 1 Axes>"
      ]
     },
     "metadata": {
      "needs_background": "light"
     },
     "output_type": "display_data"
    },
    {
     "data": {
      "image/png": "[encoded data removed]",
      "text/plain": [
       "<Figure size 1440x144 with 1 Axes>"
      ]
     },
     "metadata": {
      "needs_background": "light"
     },
     "output_type": "display_data"
    },
    {
     "data": {
      "image/png": "[encoded data removed]",
      "text/plain": [
       "<Figure size 1440x144 with 1 Axes>"
      ]
     },
     "metadata": {
      "needs_background": "light"
     },
     "output_type": "display_data"
    },
    {
     "data": {
      "image/png": "[encoded data removed]",
      "text/plain": [
       "<Figure size 1440x144 with 1 Axes>"
      ]
     },
     "metadata": {
      "needs_background": "light"
     },
     "output_type": "display_data"
    },
    {
     "data": {
      "image/png": "[encoded data removed]",
      "text/plain": [
       "<Figure size 1440x144 with 1 Axes>"
      ]
     },
     "metadata": {
      "needs_background": "light"
     },
     "output_type": "display_data"
    }
   ],
   "source": [
    "# Mencari Outliers - Boxplot\n",
    "\n",
    "# 24. Exclude tipe data object\n",
    "df_outlier = df.select_dtypes(exclude=['object'])\n",
    "for column in df_outlier:\n",
    "        plt.figure(figsize=(20,2))\n",
    "        sns.boxplot(data=df_outlier, x=column)"
   ]
  },
  {
   "cell_type": "code",
   "execution_count": 41,
   "id": "aca0e30a",
   "metadata": {
    "id": "aca0e30a"
   },
   "outputs": [
    {
     "data": {
      "image/png": "[encoded data removed]",
      "text/plain": [
       "<Figure size 720x360 with 1 Axes>"
      ]
     },
     "metadata": {
      "needs_background": "light"
     },
     "output_type": "display_data"
    }
   ],
   "source": [
    "# Analisa jumlah delay masing-masing maskapai \n",
    "\n",
    "# 25. Menjumlahkan nilai dalam kolom 'Class' untuk setiap kelompok maskapai penerbangan, dan mengurutkan maskapai berdasarkan jumlah nilai 'Class' secara menurun.\n",
    "Airline_Delay_Count = df.groupby('Airline').count()['Time'].sort_values(ascending=False)\n",
    "\n",
    "plt.figure(figsize=(10,5))\n",
    "\n",
    "myColors = sns.color_palette('pastel')[0:5]\n",
    "Airline_Delay_Count.plot(kind='bar',color= myColors)\n",
    "plt.ylabel('Jumlah Delay')\n",
    "plt.title('Jumlah Delay Masing-Masing Airline')\n",
    "plt.show()"
   ]
  },
  {
   "cell_type": "code",
   "execution_count": 42,
   "id": "3bd73c75-7e06-42df-81bf-99e8df378cd5",
   "metadata": {},
   "outputs": [
    {
     "data": {
      "text/plain": [
       "Index(['Flight', 'Time', 'Length', 'Airline', 'AirportFrom', 'AirportTo',\n",
       "       'DayOfWeek', 'Class'],\n",
       "      dtype='object')"
      ]
     },
     "execution_count": 42,
     "metadata": {},
     "output_type": "execute_result"
    }
   ],
   "source": [
    "df.columns"
   ]
  },
  {
   "cell_type": "code",
   "execution_count": 43,
   "id": "cd10e1c3",
   "metadata": {
    "id": "cd10e1c3"
   },
   "outputs": [
    {
     "data": {
      "text/html": [
       "<div>\n",
       "<style scoped>\n",
       "    .dataframe tbody tr th:only-of-type {\n",
       "        vertical-align: middle;\n",
       "    }\n",
       "\n",
       "    .dataframe tbody tr th {\n",
       "        vertical-align: top;\n",
       "    }\n",
       "\n",
       "    .dataframe thead th {\n",
       "        text-align: right;\n",
       "    }\n",
       "</style>\n",
       "<table border=\"1\" class=\"dataframe\">\n",
       "  <thead>\n",
       "    <tr style=\"text-align: right;\">\n",
       "      <th>Class</th>\n",
       "      <th>0</th>\n",
       "      <th>1</th>\n",
       "    </tr>\n",
       "    <tr>\n",
       "      <th>DayOfWeek</th>\n",
       "      <th></th>\n",
       "      <th></th>\n",
       "    </tr>\n",
       "  </thead>\n",
       "  <tbody>\n",
       "    <tr>\n",
       "      <th>1</th>\n",
       "      <td>813</td>\n",
       "      <td>686</td>\n",
       "    </tr>\n",
       "    <tr>\n",
       "      <th>2</th>\n",
       "      <td>815</td>\n",
       "      <td>661</td>\n",
       "    </tr>\n",
       "    <tr>\n",
       "      <th>3</th>\n",
       "      <td>954</td>\n",
       "      <td>859</td>\n",
       "    </tr>\n",
       "    <tr>\n",
       "      <th>4</th>\n",
       "      <td>970</td>\n",
       "      <td>834</td>\n",
       "    </tr>\n",
       "    <tr>\n",
       "      <th>5</th>\n",
       "      <td>953</td>\n",
       "      <td>701</td>\n",
       "    </tr>\n",
       "    <tr>\n",
       "      <th>6</th>\n",
       "      <td>705</td>\n",
       "      <td>438</td>\n",
       "    </tr>\n",
       "    <tr>\n",
       "      <th>7</th>\n",
       "      <td>749</td>\n",
       "      <td>649</td>\n",
       "    </tr>\n",
       "  </tbody>\n",
       "</table>\n",
       "</div>"
      ],
      "text/plain": [
       "Class        0    1\n",
       "DayOfWeek          \n",
       "1          813  686\n",
       "2          815  661\n",
       "3          954  859\n",
       "4          970  834\n",
       "5          953  701\n",
       "6          705  438\n",
       "7          749  649"
      ]
     },
     "execution_count": 43,
     "metadata": {},
     "output_type": "execute_result"
    }
   ],
   "source": [
    "# 26. Analisa Hari dengan delay - Groupby\n",
    "delay_per_day = df.groupby(['DayOfWeek','Class']).count().unstack('Class')['Time']\n",
    "delay_per_day"
   ]
  },
  {
   "cell_type": "code",
   "execution_count": 56,
   "id": "aad039cc",
   "metadata": {
    "id": "aad039cc"
   },
   "outputs": [
    {
     "data": {
      "text/html": [
       "<div>\n",
       "<style scoped>\n",
       "    .dataframe tbody tr th:only-of-type {\n",
       "        vertical-align: middle;\n",
       "    }\n",
       "\n",
       "    .dataframe tbody tr th {\n",
       "        vertical-align: top;\n",
       "    }\n",
       "\n",
       "    .dataframe thead th {\n",
       "        text-align: right;\n",
       "    }\n",
       "</style>\n",
       "<table border=\"1\" class=\"dataframe\">\n",
       "  <thead>\n",
       "    <tr style=\"text-align: right;\">\n",
       "      <th>Class</th>\n",
       "      <th>0</th>\n",
       "      <th>1</th>\n",
       "    </tr>\n",
       "    <tr>\n",
       "      <th>DayOfWeek</th>\n",
       "      <th></th>\n",
       "      <th></th>\n",
       "    </tr>\n",
       "  </thead>\n",
       "  <tbody>\n",
       "    <tr>\n",
       "      <th>3</th>\n",
       "      <td>0.526200</td>\n",
       "      <td>0.473800</td>\n",
       "    </tr>\n",
       "    <tr>\n",
       "      <th>7</th>\n",
       "      <td>0.535765</td>\n",
       "      <td>0.464235</td>\n",
       "    </tr>\n",
       "    <tr>\n",
       "      <th>4</th>\n",
       "      <td>0.537694</td>\n",
       "      <td>0.462306</td>\n",
       "    </tr>\n",
       "    <tr>\n",
       "      <th>1</th>\n",
       "      <td>0.542362</td>\n",
       "      <td>0.457638</td>\n",
       "    </tr>\n",
       "    <tr>\n",
       "      <th>2</th>\n",
       "      <td>0.552168</td>\n",
       "      <td>0.447832</td>\n",
       "    </tr>\n",
       "    <tr>\n",
       "      <th>5</th>\n",
       "      <td>0.576179</td>\n",
       "      <td>0.423821</td>\n",
       "    </tr>\n",
       "    <tr>\n",
       "      <th>6</th>\n",
       "      <td>0.616798</td>\n",
       "      <td>0.383202</td>\n",
       "    </tr>\n",
       "  </tbody>\n",
       "</table>\n",
       "</div>"
      ],
      "text/plain": [
       "Class             0         1\n",
       "DayOfWeek                    \n",
       "3          0.526200  0.473800\n",
       "7          0.535765  0.464235\n",
       "4          0.537694  0.462306\n",
       "1          0.542362  0.457638\n",
       "2          0.552168  0.447832\n",
       "5          0.576179  0.423821\n",
       "6          0.616798  0.383202"
      ]
     },
     "execution_count": 56,
     "metadata": {},
     "output_type": "execute_result"
    }
   ],
   "source": [
    "# 27. Membuat for loops untuk menghitung persentase delay per hari\n",
    "for i in range(delay_per_day.shape[0]):\n",
    "    numOfFlights = delay_per_day.iloc[i,0] + delay_per_day.iloc[i,1]\n",
    "    for j in [0,1]:\n",
    "        delay_per_day.iloc[i,j] = delay_per_day.iloc[i,j]/numOfFlights\n",
    "\n",
    "delay_per_day.sort_values(by=delay_per_day.columns[1],ascending=False)"
   ]
  },
  {
   "cell_type": "code",
   "execution_count": 54,
   "id": "45f14d8b",
   "metadata": {
    "id": "45f14d8b"
   },
   "outputs": [
    {
     "data": {
      "image/png": "[encoded data removed]",
      "text/plain": [
       "<Figure size 432x288 with 1 Axes>"
      ]
     },
     "metadata": {},
     "output_type": "display_data"
    },
    {
     "data": {
      "image/png": "[encoded data removed]",
      "text/plain": [
       "<Figure size 432x288 with 1 Axes>"
      ]
     },
     "metadata": {},
     "output_type": "display_data"
    },
    {
     "data": {
      "image/png": "[encoded data removed]",
      "text/plain": [
       "<Figure size 432x288 with 1 Axes>"
      ]
     },
     "metadata": {},
     "output_type": "display_data"
    },
    {
     "data": {
      "image/png": "[encoded data removed]",
      "text/plain": [
       "<Figure size 432x288 with 1 Axes>"
      ]
     },
     "metadata": {},
     "output_type": "display_data"
    },
    {
     "data": {
      "image/png": "[encoded data removed]",
      "text/plain": [
       "<Figure size 432x288 with 1 Axes>"
      ]
     },
     "metadata": {},
     "output_type": "display_data"
    },
    {
     "data": {
      "image/png": "[encoded data removed]",
      "text/plain": [
       "<Figure size 432x288 with 1 Axes>"
      ]
     },
     "metadata": {},
     "output_type": "display_data"
    },
    {
     "data": {
      "image/png": "[encoded data removed]",
      "text/plain": [
       "<Figure size 432x288 with 1 Axes>"
      ]
     },
     "metadata": {},
     "output_type": "display_data"
    }
   ],
   "source": [
    "# 28. Label Pie Chart\n",
    "pieChartLabels = ['0','1']\n",
    "\n",
    "#Menentukan warna pale\n",
    "myColors = sns.color_palette('pastel')\n",
    "\n",
    "#Menampilkan pie chart untuk 1 minggu   \n",
    "for i in range(1,8):\n",
    "    b = delay_per_day.iloc[i-1,:]\n",
    "    #create pie chart\n",
    "    plt.pie(b, labels = pieChartLabels, colors = myColors, autopct='%.0f%%')\n",
    "    plt.title('Day ' + str(i))\n",
    "    plt.show()"
   ]
  },
  {
   "cell_type": "code",
   "execution_count": 48,
   "id": "91831a95",
   "metadata": {
    "id": "91831a95"
   },
   "outputs": [],
   "source": [
    "# 29. Melihat korelasi antara kolom\n",
    "corr = df.select_dtypes(exclude=\"object\").corr()"
   ]
  },
  {
   "cell_type": "code",
   "execution_count": 49,
   "id": "8a120f8f-7847-45be-a2d2-1b509337ba19",
   "metadata": {},
   "outputs": [
    {
     "data": {
      "text/html": [
       "<div>\n",
       "<style scoped>\n",
       "    .dataframe tbody tr th:only-of-type {\n",
       "        vertical-align: middle;\n",
       "    }\n",
       "\n",
       "    .dataframe tbody tr th {\n",
       "        vertical-align: top;\n",
       "    }\n",
       "\n",
       "    .dataframe thead th {\n",
       "        text-align: right;\n",
       "    }\n",
       "</style>\n",
       "<table border=\"1\" class=\"dataframe\">\n",
       "  <thead>\n",
       "    <tr style=\"text-align: right;\">\n",
       "      <th></th>\n",
       "      <th>Flight</th>\n",
       "      <th>Time</th>\n",
       "      <th>Length</th>\n",
       "      <th>DayOfWeek</th>\n",
       "      <th>Class</th>\n",
       "    </tr>\n",
       "  </thead>\n",
       "  <tbody>\n",
       "    <tr>\n",
       "      <th>Flight</th>\n",
       "      <td>1.000000</td>\n",
       "      <td>-0.003814</td>\n",
       "      <td>-0.339813</td>\n",
       "      <td>0.011387</td>\n",
       "      <td>-0.046805</td>\n",
       "    </tr>\n",
       "    <tr>\n",
       "      <th>Time</th>\n",
       "      <td>-0.003814</td>\n",
       "      <td>1.000000</td>\n",
       "      <td>-0.023854</td>\n",
       "      <td>0.001654</td>\n",
       "      <td>0.133890</td>\n",
       "    </tr>\n",
       "    <tr>\n",
       "      <th>Length</th>\n",
       "      <td>-0.339813</td>\n",
       "      <td>-0.023854</td>\n",
       "      <td>1.000000</td>\n",
       "      <td>0.002270</td>\n",
       "      <td>0.041028</td>\n",
       "    </tr>\n",
       "    <tr>\n",
       "      <th>DayOfWeek</th>\n",
       "      <td>0.011387</td>\n",
       "      <td>0.001654</td>\n",
       "      <td>0.002270</td>\n",
       "      <td>1.000000</td>\n",
       "      <td>-0.020370</td>\n",
       "    </tr>\n",
       "    <tr>\n",
       "      <th>Class</th>\n",
       "      <td>-0.046805</td>\n",
       "      <td>0.133890</td>\n",
       "      <td>0.041028</td>\n",
       "      <td>-0.020370</td>\n",
       "      <td>1.000000</td>\n",
       "    </tr>\n",
       "  </tbody>\n",
       "</table>\n",
       "</div>"
      ],
      "text/plain": [
       "             Flight      Time    Length  DayOfWeek     Class\n",
       "Flight     1.000000 -0.003814 -0.339813   0.011387 -0.046805\n",
       "Time      -0.003814  1.000000 -0.023854   0.001654  0.133890\n",
       "Length    -0.339813 -0.023854  1.000000   0.002270  0.041028\n",
       "DayOfWeek  0.011387  0.001654  0.002270   1.000000 -0.020370\n",
       "Class     -0.046805  0.133890  0.041028  -0.020370  1.000000"
      ]
     },
     "execution_count": 49,
     "metadata": {},
     "output_type": "execute_result"
    }
   ],
   "source": [
    "corr"
   ]
  },
  {
   "cell_type": "code",
   "execution_count": 52,
   "id": "77d67e23",
   "metadata": {
    "id": "77d67e23"
   },
   "outputs": [
    {
     "data": {
      "text/plain": [
       "<AxesSubplot:>"
      ]
     },
     "execution_count": 52,
     "metadata": {},
     "output_type": "execute_result"
    },
    {
     "data": {
      "image/png": "[encoded data removed]",
      "text/plain": [
       "<Figure size 432x288 with 2 Axes>"
      ]
     },
     "metadata": {
      "needs_background": "light"
     },
     "output_type": "display_data"
    }
   ],
   "source": [
    "## 30. Melihat korelasi dengan Seaborn heatmap\n",
    "sns.heatmap(corr)"
   ]
  },
  {
   "cell_type": "code",
   "execution_count": null,
   "id": "a4cfad3d-9c15-41cf-a124-ce3f2b8512eb",
   "metadata": {},
   "outputs": [],
   "source": []
  }
 ],
 "metadata": {
  "colab": {
   "provenance": []
  },
  "kernelspec": {
   "display_name": "Python 3 (ipykernel)",
   "language": "python",
   "name": "python3"
  },
  "language_info": {
   "codemirror_mode": {
    "name": "ipython",
    "version": 3
   },
   "file_extension": ".py",
   "mimetype": "text/x-python",
   "name": "python",
   "nbconvert_exporter": "python",
   "pygments_lexer": "ipython3",
   "version": "3.8.10"
  }
 },
 "nbformat": 4,
 "nbformat_minor": 5
}
